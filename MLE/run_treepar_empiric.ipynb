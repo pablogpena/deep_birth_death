{
 "cells": [
  {
   "cell_type": "code",
   "execution_count": 22,
   "id": "1c6e0e4d",
   "metadata": {
    "ExecuteTime": {
     "end_time": "2025-08-08T15:32:59.739982Z",
     "start_time": "2025-08-08T15:33:00.339Z"
    }
   },
   "outputs": [],
   "source": [
    "library(TreePar)\n",
    "library(ape)\n",
    "source(\"/workspace/deep_birth_death/src/MLE_utils/run_treepar_utils.r\")"
   ]
  },
  {
   "cell_type": "code",
   "execution_count": 30,
   "id": "985fb2c0",
   "metadata": {
    "ExecuteTime": {
     "end_time": "2025-08-08T15:41:44.701620Z",
     "start_time": "2025-08-08T15:41:45.310Z"
    }
   },
   "outputs": [],
   "source": [
    "empiric_path <- \"/workspace/deep_birth_death/empirical/\"\n",
    "tree_names <- c(\"eucalypts.nwk\", \"conifers.nwk\", \"cetaceans.nwk\")\n",
    "out_path <- \"/workspace/deep_birth_death//MLE/inference_data/empiric\""
   ]
  },
  {
   "cell_type": "code",
   "execution_count": 36,
   "id": "7f3dd199",
   "metadata": {
    "ExecuteTime": {
     "end_time": "2025-08-08T15:54:36.011623Z",
     "start_time": "2025-08-08T15:54:36.643Z"
    }
   },
   "outputs": [],
   "source": [
    "#Create empty CSV for saving results line by line \n",
    "write.table(data.frame(name = character(),\n",
    "               \n",
    "               #MLE values for CBD\n",
    "               likelihood_cbd = numeric(),\n",
    "               aic_cbd = numeric(),\n",
    "               estimated_a = numeric(),\n",
    "               estimated_r = numeric(),\n",
    "               \n",
    "               #MLE values for shift\n",
    "               likelihood_shift = numeric(),\n",
    "               aic_shift = numeric(),\n",
    "               estimated_a0 = numeric(),\n",
    "               estimated_a1 = numeric(),                       \n",
    "               estimated_r0 = numeric(),\n",
    "               estimated_r1 = numeric(),\n",
    "               estimated_t = numeric(),\n",
    "               \n",
    "               #MLE values for me\n",
    "               likelihood_me = numeric(),\n",
    "               aic_me = numeric(),\n",
    "               estimated_a_me = numeric(),\n",
    "               estimated_r_me = numeric(),\n",
    "               estimated_frac_1_me = numeric(),  \n",
    "               estimated_time_me = numeric()\n",
    "               ),\n",
    "            \n",
    "            file = file.path(out_path, paste0(\"TreePar_empiric_inference.csv\")),\n",
    "            row.names = FALSE, \n",
    "            col.names = TRUE,\n",
    "            quote=FALSE,\n",
    "                sep=',') "
   ]
  },
  {
   "cell_type": "code",
   "execution_count": 18,
   "id": "f90605a7",
   "metadata": {
    "ExecuteTime": {
     "end_time": "2025-08-08T15:24:06.053645Z",
     "start_time": "2025-08-08T15:24:06.612Z"
    }
   },
   "outputs": [],
   "source": [
    "for (tree in tree_names) {\n",
    "\n",
    "    \n",
    "    #Load and encode trees\n",
    "    tr <- read.tree(paste0(empiric_path, tree))\n",
    "    n_tips <- Ntip(tr)\n",
    "    tr <- getx(tr)\n",
    "    \n",
    "    #Set parameters for MLE \n",
    "    start <- tr[1]\n",
    "    end <- tr[n_tips - 1]\n",
    "    rho <- 1\n",
    "    grid <- 0.2\n",
    "    \n",
    "    #Perform inference\n",
    "    time_inference <- bd.shifts.optim(tr, c(rho, 1), grid, start, end)\n",
    "    extinction_inference <- bd.shifts.optim(tr, c(rho,1), grid, start, end, ME=TRUE)\n",
    "    \n",
    "    \n",
    "    \n",
    "    #Process shift results\n",
    "    time_inference_data <- process_time_inference(unlist(time_inference[[2]]))\n",
    "    cbd_inference_data <- time_inference_data$cbd\n",
    "    shift_inference_data <- time_inference_data$shift    \n",
    "    \n",
    "    #Process ME results \n",
    "    me_inference_data <- process_extinction_inference(unlist(extinction_inference[[2]]))    \n",
    "    \n",
    "    #Save the results \n",
    "    csv_path <- file.path(out_path, paste0(\"TreePar_empiric_inference.csv\"))\n",
    "    \n",
    "    out_data <- data.frame(\n",
    "        name = sub(\"\\\\.nwk$\", \"\", tree),\n",
    "    \n",
    "        # CBD inference\n",
    "        likelihood_cbd = cbd_inference_data$likelihood_cbd,\n",
    "        aic_cbd = AIC(cbd_inference_data$likelihood_cbd, 2),\n",
    "        estimated_a = cbd_inference_data$turnover_rate,\n",
    "        estimated_r = cbd_inference_data$diversification_rate,\n",
    "    \n",
    "        # Shift inference\n",
    "        likelihood_shift = shift_inference_data$likelihood_shift,\n",
    "        aic_shift = AIC(shift_inference_data$likelihood_shift, 5),\n",
    "        estimated_a0 = shift_inference_data$turnover_0_rate,\n",
    "        estimated_a1 = shift_inference_data$turnover_1_rate,\n",
    "        estimated_r0 = shift_inference_data$diversification_0_rate,\n",
    "        estimated_r1 = shift_inference_data$diversification_1_rate,\n",
    "        estimated_t = shift_inference_data$time,\n",
    "    \n",
    "        # ME inference\n",
    "        likelihood_me = me_inference_data$likelihood,\n",
    "        aic_me = AIC(me_inference_data$likelihood, 4),\n",
    "        estimated_a_me = me_inference_data$turnover_rate,\n",
    "        estimated_r_me = me_inference_data$diversification_rate,\n",
    "        estimated_frac_1_me = me_inference_data$magnitude,\n",
    "        estimated_time_me = me_inference_data$time\n",
    "  )\n",
    "    \n",
    "    \n",
    "}"
   ]
  },
  {
   "cell_type": "code",
   "execution_count": 11,
   "id": "4ebe65f5",
   "metadata": {
    "ExecuteTime": {
     "end_time": "2025-08-08T15:20:51.298673Z",
     "start_time": "2025-08-08T15:20:51.883Z"
    }
   },
   "outputs": [
    {
     "data": {
      "text/plain": [
       "\n",
       "Phylogenetic tree with 87 tips and 86 internal nodes.\n",
       "\n",
       "Tip labels:\n",
       "  Balaena_mysticetus, Eubalaena_australis, Eubalaena_glacialis, Eubalaena_japonica, Caperea_marginata, Eschrichtius_robustus, ...\n",
       "\n",
       "Rooted; includes branch length(s)."
      ]
     },
     "metadata": {},
     "output_type": "display_data"
    }
   ],
   "source": []
  },
  {
   "cell_type": "code",
   "execution_count": null,
   "id": "da62f985",
   "metadata": {},
   "outputs": [],
   "source": []
  }
 ],
 "metadata": {
  "kernelspec": {
   "display_name": "treepar",
   "language": "R",
   "name": "treepar"
  },
  "language_info": {
   "codemirror_mode": "r",
   "file_extension": ".r",
   "mimetype": "text/x-r-source",
   "name": "R",
   "pygments_lexer": "r",
   "version": "4.2.2"
  },
  "toc": {
   "base_numbering": 1,
   "nav_menu": {},
   "number_sections": false,
   "sideBar": true,
   "skip_h1_title": false,
   "title_cell": "Table of Contents",
   "title_sidebar": "Contents",
   "toc_cell": false,
   "toc_position": {},
   "toc_section_display": true,
   "toc_window_display": false
  }
 },
 "nbformat": 4,
 "nbformat_minor": 5
}

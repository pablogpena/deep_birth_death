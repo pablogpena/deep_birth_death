{
 "cells": [
  {
   "cell_type": "code",
   "execution_count": 1,
   "id": "43133297",
   "metadata": {
    "ExecuteTime": {
     "end_time": "2025-07-16T07:05:19.374869Z",
     "start_time": "2025-07-16T07:05:19.364844Z"
    }
   },
   "outputs": [],
   "source": [
    "%reload_ext autoreload\n",
    "%autoreload 2"
   ]
  },
  {
   "cell_type": "code",
   "execution_count": 2,
   "id": "8427f3d1",
   "metadata": {
    "ExecuteTime": {
     "end_time": "2025-07-16T07:05:19.382978Z",
     "start_time": "2025-07-16T07:05:19.376209Z"
    }
   },
   "outputs": [],
   "source": [
    "import sys\n",
    "sys.path.append('/workspace/deep_birth_death/src')"
   ]
  },
  {
   "cell_type": "code",
   "execution_count": 3,
   "id": "3c096d56",
   "metadata": {
    "ExecuteTime": {
     "end_time": "2025-07-16T07:05:20.998285Z",
     "start_time": "2025-07-16T07:05:19.384004Z"
    }
   },
   "outputs": [],
   "source": [
    "import pickle\n",
    "import numpy as np\n",
    "import pandas as pd\n",
    "import random\n",
    "from time import time\n",
    "\n",
    "from tensorflow.keras import backend as K\n",
    "from tensorflow.keras.layers import Input, GlobalAveragePooling1D, MaxPooling1D, Concatenate\n",
    "from tensorflow.keras.layers import Dense, Conv1D, Dropout, BatchNormalization, LeakyReLU, ELU\n",
    "from tensorflow.keras import Model\n",
    "from tensorflow.keras.callbacks import EarlyStopping\n",
    "from tensorflow.keras.optimizers import Adam\n",
    "from tensorflow.keras.models import load_model"
   ]
  },
  {
   "cell_type": "code",
   "execution_count": 4,
   "id": "2fd7a91f",
   "metadata": {
    "ExecuteTime": {
     "end_time": "2025-07-16T07:05:21.023895Z",
     "start_time": "2025-07-16T07:05:20.999568Z"
    }
   },
   "outputs": [],
   "source": [
    "def shuffle_three_arrays(a, b, c):\n",
    "    combined = list(zip(a, b, c))\n",
    "    random.shuffle(combined)\n",
    "    a_permuted, b_permuted, c_permuted = zip(*combined)\n",
    "    \n",
    "    return np.array(a_permuted), np.array(b_permuted), np.array(c_permuted)"
   ]
  },
  {
   "cell_type": "markdown",
   "id": "ad07406c",
   "metadata": {},
   "source": [
    "# Load data"
   ]
  },
  {
   "cell_type": "code",
   "execution_count": 5,
   "id": "ca38125c",
   "metadata": {
    "ExecuteTime": {
     "end_time": "2025-07-16T07:05:22.182424Z",
     "start_time": "2025-07-16T07:05:21.025243Z"
    }
   },
   "outputs": [],
   "source": [
    "n_tips = ['674', '489', '87']\n",
    "pickle_base = '/workspace/deep_birth_death/deep_learning/pickles/old_sims/dataset_'\n",
    "data = dict()\n",
    "for i in n_tips:\n",
    "    with open(pickle_base + i + \"_10k.pkl\", 'rb') as f:\n",
    "        data[i] = pickle.load(f)"
   ]
  },
  {
   "cell_type": "code",
   "execution_count": 6,
   "id": "1591beb2",
   "metadata": {
    "ExecuteTime": {
     "end_time": "2025-07-16T07:05:23.041594Z",
     "start_time": "2025-07-16T07:05:22.183627Z"
    }
   },
   "outputs": [],
   "source": [
    "max_size = 674\n",
    "\n",
    "\n",
    "x_train_total= {k: [] for k in [\"BD\", \"HE\", \"ME\", \"SAT\", \"SR\", \"WW\"]}\n",
    "x_test_total= {k: [] for k in [\"BD\", \"HE\", \"ME\", \"SAT\", \"SR\", \"WW\"]}\n",
    "y_train_total= {k: [] for k in [\"BD\", \"HE\", \"ME\", \"SAT\", \"SR\", \"WW\"]}\n",
    "y_test_total= {k: [] for k in [\"BD\", \"HE\", \"ME\", \"SAT\", \"SR\", \"WW\"]}\n",
    "resc_fact_train_total = {k: [] for k in [\"BD\", \"HE\", \"ME\", \"SAT\", \"SR\", \"WW\"]}\n",
    "resc_fact_test_total = {k: [] for k in [\"BD\", \"HE\", \"ME\", \"SAT\", \"SR\", \"WW\"]}\n",
    "\n",
    "for tip in data:\n",
    "\n",
    "    data[tip]['X_train'] = np.pad(data[tip]['X_train'], \n",
    "                                 pad_width=((0,0), (0, max_size - data[tip]['X_train'].shape[1])),\n",
    "                                 mode='constant', constant_values=0)\n",
    "    data[tip]['X_test'] = np.pad(data[tip]['X_test'], \n",
    "                                pad_width=((0,0), (0, max_size - data[tip]['X_test'].shape[1])),\n",
    "                                mode='constant', constant_values=0)\n",
    "\n",
    "    for label in np.unique(data[tip]['div_info_train']):\n",
    "        div_scenario = label.split('/')[1].split('_')[0]\n",
    "\n",
    "        x_train = data[tip]['X_train'][data[tip]['div_info_train'] == label]\n",
    "        x_test = data[tip]['X_test'][data[tip]['div_info_test'] == label]\n",
    "\n",
    "        y_train = data[tip]['y_reg_norm_train'][data[tip]['div_info_train'] == label]\n",
    "        y_test = data[tip]['y_reg_test'][data[tip]['div_info_test'] == label]\n",
    "        \n",
    "        resc_fact_train = data[tip]['resc_factor_train'][data[tip]['div_info_train'] == label]\n",
    "        resc_fact_test = data[tip]['resc_factor_test'][data[tip]['div_info_test'] == label]\n",
    "\n",
    "        if div_scenario in x_train_total:\n",
    "            x_train_total[div_scenario].extend(x_train)\n",
    "            x_test_total[div_scenario].extend(x_test)\n",
    "            y_train_total[div_scenario].extend(y_train)\n",
    "            y_test_total[div_scenario].extend(y_test)\n",
    "            resc_fact_train_total[div_scenario].extend(resc_fact_train)\n",
    "            resc_fact_test_total[div_scenario].extend(resc_fact_test)"
   ]
  },
  {
   "cell_type": "code",
   "execution_count": 7,
   "id": "9f6f99c3",
   "metadata": {
    "ExecuteTime": {
     "end_time": "2025-07-16T07:05:24.723100Z",
     "start_time": "2025-07-16T07:05:23.042868Z"
    },
    "scrolled": true
   },
   "outputs": [
    {
     "name": "stdout",
     "output_type": "stream",
     "text": [
      "BD\n",
      "(26904, 674)\n",
      "(26904, 2)\n",
      "(26904,)\n",
      "(3096, 674)\n",
      "(3096, 2)\n",
      "(3096,)\n",
      "HE\n",
      "(26994, 674)\n",
      "(26994, 2)\n",
      "(26994,)\n",
      "(3006, 674)\n",
      "(3006, 2)\n",
      "(3006,)\n",
      "ME\n",
      "(27056, 674)\n",
      "(27056, 4)\n",
      "(27056,)\n",
      "(2944, 674)\n",
      "(2944, 4)\n",
      "(2944,)\n",
      "SAT\n",
      "(27036, 674)\n",
      "(27036, 1)\n",
      "(27036,)\n",
      "(2964, 674)\n",
      "(2964, 1)\n",
      "(2964,)\n",
      "SR\n",
      "(26972, 674)\n",
      "(26972, 5)\n",
      "(26972,)\n",
      "(3028, 674)\n",
      "(3028, 5)\n",
      "(3028,)\n",
      "WW\n",
      "(27038, 674)\n",
      "(27038, 5)\n",
      "(27038,)\n",
      "(2962, 674)\n",
      "(2962, 5)\n",
      "(2962,)\n"
     ]
    }
   ],
   "source": [
    "for k in x_train_total:\n",
    "    x_train_total[k] = np.array(x_train_total[k])\n",
    "    x_test_total[k] = np.array(x_test_total[k])\n",
    "    y_train_total[k] = np.array(y_train_total[k])\n",
    "    y_test_total[k] = np.array(y_test_total[k])\n",
    "    resc_fact_train_total[k] = np.array(resc_fact_train_total[k])\n",
    "    resc_fact_test_total[k] = np.array(resc_fact_test_total[k])\n",
    "\n",
    "    x_train_total[k], y_train_total[k], resc_fact_train_total[k] = shuffle_three_arrays(x_train_total[k], y_train_total[k], resc_fact_train_total[k])\n",
    "    x_test_total[k], y_test_total[k], resc_fact_test_total[k] = shuffle_three_arrays(x_test_total[k], y_test_total[k], resc_fact_test_total[k])\n",
    "                                                          \n",
    "    print(k)\n",
    "    print(x_train_total[k].shape)\n",
    "    print(y_train_total[k].shape)  \n",
    "    print(resc_fact_train_total[k].shape)\n",
    "    print(x_test_total[k].shape )\n",
    "    print(y_test_total[k].shape )\n",
    "    print(resc_fact_test_total[k].shape)"
   ]
  },
  {
   "cell_type": "markdown",
   "id": "c66c2dc6",
   "metadata": {},
   "source": [
    "# Train the regression model"
   ]
  },
  {
   "cell_type": "code",
   "execution_count": 8,
   "id": "3bb90e4c",
   "metadata": {
    "ExecuteTime": {
     "end_time": "2025-07-16T07:05:24.756943Z",
     "start_time": "2025-07-16T07:05:24.724724Z"
    }
   },
   "outputs": [],
   "source": [
    "def create_nn(n_out, div_scenario = None):\n",
    "    input_data = Input(shape=(674, 1))\n",
    "\n",
    "\n",
    "    x = Conv1D(16, kernel_size=3, padding='same')(input_data)\n",
    "    x = ELU()(x)\n",
    "    x = Conv1D(16, kernel_size=3, padding='same')(x)\n",
    "    x = ELU()(x)\n",
    "    x = MaxPooling1D(pool_size=2)(x)\n",
    "    \n",
    "    x = Conv1D(32, kernel_size=3, padding='same')(x)\n",
    "    x = ELU()(x)\n",
    "    x = Conv1D(32, kernel_size=3, padding='same')(x)\n",
    "    x = ELU()(x)\n",
    "    x = MaxPooling1D(pool_size=2)(x)\n",
    "    \n",
    "    x = Conv1D(64, kernel_size=3, padding='same')(x)\n",
    "    x = ELU()(x)\n",
    "    x = Conv1D(64, kernel_size=3, padding='same')(x)\n",
    "    x = ELU()(x)\n",
    "    x = MaxPooling1D(pool_size=2)(x)\n",
    "    \n",
    "    x = Conv1D(128, kernel_size=3, padding='same')(x)\n",
    "    x = ELU()(x)\n",
    "    x = Dropout(0.3)(x)\n",
    "\n",
    "    x = GlobalAveragePooling1D()(x)\n",
    "\n",
    "    x = Dense(32)(x)\n",
    "    x = ELU()(x)\n",
    "    x = Dropout(0.3)(x)\n",
    "    \n",
    "    x = Dense(n_out)(x)\n",
    "\n",
    "\n",
    "    if div_scenario != \"SAT\":\n",
    "        out_list = []\n",
    "        for i in range(n_out):\n",
    "            y = Dense(32)(x)\n",
    "            y = ELU()(y)\n",
    "            y = Dropout(0.3)(y)\n",
    "            y = Dense(1)(y)\n",
    "            y = LeakyReLU(alpha=10)(y)\n",
    "            out_list.append(y)\n",
    "        output_class = Concatenate()(out_list)\n",
    "        \n",
    "    elif div_scenario == \"WW\":\n",
    "        out_list = []\n",
    "        for i in range(n_out):\n",
    "            y = Dense(32)(x)\n",
    "            y = ELU()(y)\n",
    "            y = Dropout(0.3)(y)\n",
    "            y = Dense(1)(y)\n",
    "            y = Linear(y)\n",
    "            out_list.append(y)\n",
    "        output_class = Concatenate()(out_list)                \n",
    "        \n",
    "    else:\n",
    "        x = Dense(32)(x)\n",
    "        x = ELU()(x)\n",
    "        x = Dropout(0.3)(x)\n",
    "        x = Dense(1)(x)\n",
    "        output_class = LeakyReLU(alpha=10)(x)\n",
    "            \n",
    "    return Model(input_data, output_class)"
   ]
  },
  {
   "cell_type": "code",
   "execution_count": 9,
   "id": "1b85cfb2",
   "metadata": {
    "ExecuteTime": {
     "end_time": "2025-07-16T09:12:33.664936Z",
     "start_time": "2025-07-16T07:05:24.758055Z"
    },
    "scrolled": true
   },
   "outputs": [
    {
     "name": "stdout",
     "output_type": "stream",
     "text": [
      "\n",
      "Regression training:  BD\n",
      "Elapsed time 1225.9313311576843\n",
      "\n",
      "Regression training:  HE\n",
      "Elapsed time 1219.8561341762543\n",
      "\n",
      "Regression training:  ME\n",
      "Elapsed time 1227.0812175273895\n",
      "\n",
      "Regression training:  SAT\n",
      "Elapsed time 1309.538049697876\n",
      "\n",
      "Regression training:  SR\n",
      "Elapsed time 1200.9569067955017\n",
      "\n",
      "Regression training:  WW\n",
      "Elapsed time 1444.6708617210388\n"
     ]
    }
   ],
   "source": [
    "out_folder_path = \"/workspace/deep_birth_death/deep_learning/models/testing_total_reg/\"\n",
    "callback = EarlyStopping(monitor='val_loss', patience=100, restore_best_weights=True)\n",
    "\n",
    "for div_scenario in x_train_total:\n",
    "    \n",
    "    print(\"\\nRegression training: \", div_scenario)\n",
    "    \n",
    "    nn_model = create_nn(len(y_train_total[div_scenario][0]), div_scenario=div_scenario)\n",
    "    nn_model.compile(loss=\"mae\", optimizer=Adam(learning_rate=0.001), metrics=['mse'])    \n",
    "    \n",
    "    start = time()                     \n",
    "    history = nn_model.fit(x_train_total[div_scenario],\n",
    "                           y_train_total[div_scenario],\n",
    "                           batch_size=128, epochs=1000, validation_split=0.1,\n",
    "                           callbacks=[callback], verbose=0)                     \n",
    "    elapsed_time = time()-start  \n",
    "                         \n",
    "    print('Elapsed time', elapsed_time)\n",
    "              \n",
    "\n",
    "    #Save the results\n",
    "    save_path = out_folder_path + div_scenario + \"_TOTAL_regression_\" \n",
    "                         \n",
    "    nn_model.save(save_path + \"model.keras\") \n",
    "    with open(save_path + \"history.pkl\", 'wb') as f:\n",
    "        pickle.dump(history.history, f)\n",
    "    with open(save_path + \"model_data.pkl\", 'wb') as f:\n",
    "            pickle.dump([nn_model.count_params(), elapsed_time], f)\n",
    "                    "
   ]
  },
  {
   "cell_type": "markdown",
   "id": "4a58cecc",
   "metadata": {},
   "source": [
    "# Models evaluation"
   ]
  },
  {
   "cell_type": "code",
   "execution_count": 12,
   "id": "d6f6a78b",
   "metadata": {
    "ExecuteTime": {
     "end_time": "2025-07-16T09:14:52.055747Z",
     "start_time": "2025-07-16T09:14:47.871151Z"
    }
   },
   "outputs": [],
   "source": [
    "total_regression_results = dict()\n",
    "\n",
    "for div_scenario in x_test_total:\n",
    "    total_regression_results[div_scenario] = dict()\n",
    "    \n",
    "    # Load regression model \n",
    "    model_path = out_folder_path + div_scenario + \"_TOTAL_regression_\"  \n",
    "    nn_model = load_model(model_path + 'model.keras')\n",
    "    \n",
    "    y_pred = nn_model.predict(x_test_total[div_scenario])\n",
    "\n",
    "    y_test = y_test_total[div_scenario]     \n",
    "    \n",
    "    # Rescale back the values\n",
    "    if div_scenario == \"BD\" or div_scenario == \"HE\" or div_scenario == \"SAT\":\n",
    "                    \n",
    "        y_pred[:, 0] = y_pred[:, 0] / resc_fact_test_total[div_scenario]\n",
    "    \n",
    "    elif div_scenario == \"ME\":\n",
    "\n",
    "        y_pred[:, 0] = y_pred[:, 0] / resc_fact_test_total[div_scenario]\n",
    "        y_pred[:, 2] = y_pred[:, 2] / resc_fact_test_total[div_scenario]\n",
    "  \n",
    "    else:\n",
    "                    \n",
    "        y_pred[:, 0] = y_pred[:, 0] / resc_fact_test_total[div_scenario]\n",
    "        y_pred[:, 1] = y_pred[:, 1] / resc_fact_test_total[div_scenario]\n",
    "        y_pred[:, 4] = y_pred[:, 4] / resc_fact_test_total[div_scenario]\n",
    "\n",
    "    error = abs(y_pred-y_test)\n",
    "    r_error = abs((y_pred - y_test)/ y_test)\n",
    "    \n",
    "    total_regression_results[div_scenario]['MAE'] = np.mean(error, axis=0)\n",
    "    total_regression_results[div_scenario]['MRE'] = np.mean(r_error, axis=0)"
   ]
  },
  {
   "cell_type": "code",
   "execution_count": 13,
   "id": "0eeb5154",
   "metadata": {
    "ExecuteTime": {
     "end_time": "2025-07-16T09:14:52.114129Z",
     "start_time": "2025-07-16T09:14:52.057820Z"
    }
   },
   "outputs": [
    {
     "name": "stdout",
     "output_type": "stream",
     "text": [
      "MAE and MRE for :BD diversification scenario\n",
      "  param       MAE       MRE\n",
      "0     r  0.168583  0.084743\n",
      "1     a  0.085466  0.819258\n",
      "MAE and MRE for :HE diversification scenario\n",
      "  param       MAE       MRE\n",
      "0     r  0.276268  0.136814\n",
      "1     a  0.020855  0.024491\n",
      "MAE and MRE for :ME diversification scenario\n",
      "  param       MAE       MRE\n",
      "0     r  0.035875  0.135563\n",
      "1     a  0.079755  0.167414\n",
      "2  time  5.360819  0.823588\n",
      "3  frac  0.049309  0.283814\n",
      "MAE and MRE for :SAT diversification scenario\n",
      "      param       MAE       MRE\n",
      "0  lambda 0  0.108743  0.055449\n",
      "MAE and MRE for :SR diversification scenario\n",
      "  param       MAE       MRE\n",
      "0    r0  0.071250  0.134909\n",
      "1    r1  0.020881  0.546645\n",
      "2    a0  0.108880  0.657202\n",
      "3    a1  0.092792  0.128873\n",
      "4  time  3.088788  0.498808\n",
      "MAE and MRE for :WW diversification scenario\n",
      "  param       MAE       MRE\n",
      "0    r0  0.037018  0.645612\n",
      "1    r1  0.116960  0.137764\n",
      "2    a0  0.146462  0.090301\n",
      "3    a1  0.087979  0.227498\n",
      "4  time  2.565531  0.236149\n"
     ]
    }
   ],
   "source": [
    "reg_values = {\n",
    "    'BD': ['r', 'a'],\n",
    "    'HE': ['r', 'a'],\n",
    "    'ME': ['r', 'a', 'time', 'frac'],\n",
    "    'SR': ['r0', 'r1', 'a0', 'a1', 'time'],\n",
    "    'WW': ['r0', 'r1', 'a0', 'a1', 'time'],\n",
    "    'SAT': ['lambda 0'],\n",
    "}\n",
    "    \n",
    "for div_scenario in x_test_total:   \n",
    "    param_names = reg_values[div_scenario]\n",
    "    mae_vals = total_regression_results[div_scenario]['MAE']\n",
    "    mre_vals = total_regression_results[div_scenario]['MRE']\n",
    "    \n",
    "    df = pd.DataFrame({\n",
    "            \"param\": param_names,\n",
    "            \"MAE\": mae_vals,\n",
    "            \"MRE\": mre_vals\n",
    "        })\n",
    "    \n",
    "    print(\"MAE and MRE for :\" + div_scenario + \" diversification scenario\")\n",
    "    print(df)"
   ]
  },
  {
   "cell_type": "code",
   "execution_count": null,
   "id": "6cec99ea",
   "metadata": {},
   "outputs": [],
   "source": []
  }
 ],
 "metadata": {
  "kernelspec": {
   "display_name": "Python 3",
   "language": "python",
   "name": "python3"
  },
  "language_info": {
   "codemirror_mode": {
    "name": "ipython",
    "version": 3
   },
   "file_extension": ".py",
   "mimetype": "text/x-python",
   "name": "python",
   "nbconvert_exporter": "python",
   "pygments_lexer": "ipython3",
   "version": "3.8.10"
  },
  "toc": {
   "base_numbering": 1,
   "nav_menu": {},
   "number_sections": false,
   "sideBar": true,
   "skip_h1_title": false,
   "title_cell": "Table of Contents",
   "title_sidebar": "Contents",
   "toc_cell": false,
   "toc_position": {},
   "toc_section_display": true,
   "toc_window_display": false
  }
 },
 "nbformat": 4,
 "nbformat_minor": 5
}

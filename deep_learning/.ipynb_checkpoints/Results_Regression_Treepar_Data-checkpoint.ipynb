{
 "cells": [
  {
   "cell_type": "markdown",
   "metadata": {},
   "source": [
    "# Imports"
   ]
  },
  {
   "cell_type": "code",
   "execution_count": 1,
   "metadata": {
    "ExecuteTime": {
     "end_time": "2024-11-11T20:25:14.518089Z",
     "start_time": "2024-11-11T20:25:14.500348Z"
    }
   },
   "outputs": [],
   "source": [
    "%reload_ext autoreload\n",
    "%autoreload 2"
   ]
  },
  {
   "cell_type": "code",
   "execution_count": 2,
   "metadata": {
    "ExecuteTime": {
     "end_time": "2024-11-11T20:25:17.766700Z",
     "start_time": "2024-11-11T20:25:14.520177Z"
    }
   },
   "outputs": [],
   "source": [
    "import pickle\n",
    "import itertools\n",
    "import time\n",
    "import os\n",
    "import statistics\n",
    "from time import time\n",
    "\n",
    "import pandas as pd\n",
    "import numpy as np\n",
    "import matplotlib.pyplot as plt\n",
    "import seaborn as sns\n",
    "\n",
    "from evaluation.regression import generate_reg_results, get_regression_norm_results, get_regression_div_results"
   ]
  },
  {
   "cell_type": "code",
   "execution_count": 3,
   "metadata": {
    "ExecuteTime": {
     "end_time": "2024-11-11T20:25:17.812394Z",
     "start_time": "2024-11-11T20:25:17.769690Z"
    }
   },
   "outputs": [],
   "source": [
    "pd.options.display.float_format = \"{:,.4f}\".format"
   ]
  },
  {
   "cell_type": "markdown",
   "metadata": {},
   "source": [
    "# Results generation"
   ]
  },
  {
   "cell_type": "code",
   "execution_count": 5,
   "metadata": {
    "ExecuteTime": {
     "end_time": "2024-11-11T20:25:25.773556Z",
     "start_time": "2024-11-11T20:25:25.715386Z"
    }
   },
   "outputs": [],
   "source": [
    "pickle_base = '/workspace/coniferas(1)/data_inference/pickles/treepar_dataset/dataset_'\n",
    "res_path = \"/workspace/coniferas(1)/data_inference/models/reg/\"\n",
    "n_tips = ['674', '489', '87']\n",
    "\n",
    "data = dict()\n",
    "for i in n_tips:\n",
    "    with open(pickle_base + i + \".pkl\", 'rb') as f:\n",
    "        data[i] = pickle.load(f)"
   ]
  },
  {
   "cell_type": "code",
   "execution_count": 6,
   "metadata": {
    "ExecuteTime": {
     "end_time": "2024-11-11T20:25:54.634556Z",
     "start_time": "2024-11-11T20:25:26.122422Z"
    },
    "scrolled": true
   },
   "outputs": [
    {
     "name": "stdout",
     "output_type": "stream",
     "text": [
      "--- 674 tips ---\n",
      "--- Inference time:  BD scenario & norm 3.3448855876922607 seconds ---\n",
      "--- Inference time:  BD scenario & no_norm 0.25420546531677246 seconds ---\n",
      "--- Inference time:  HE scenario & norm 0.28528881072998047 seconds ---\n",
      "--- Inference time:  HE scenario & no_norm 0.2760653495788574 seconds ---\n",
      "--- Inference time:  ME scenario & norm 0.330324649810791 seconds ---\n",
      "--- Inference time:  ME scenario & no_norm 0.3203620910644531 seconds ---\n",
      "--- Inference time:  SAT scenario & norm 0.2215569019317627 seconds ---\n",
      "--- Inference time:  SAT scenario & no_norm 0.49443483352661133 seconds ---\n",
      "--- Inference time:  SR scenario & norm 0.2858107089996338 seconds ---\n",
      "--- Inference time:  SR scenario & no_norm 0.3448355197906494 seconds ---\n",
      "--- Inference time:  WW scenario & norm 0.28818583488464355 seconds ---\n",
      "--- Inference time:  WW scenario & no_norm 0.30864548683166504 seconds ---\n",
      "--- 489 tips ---\n",
      "--- Inference time:  BD scenario & norm 0.2675907611846924 seconds ---\n",
      "--- Inference time:  BD scenario & no_norm 0.2666442394256592 seconds ---\n",
      "--- Inference time:  HE scenario & norm 0.20018506050109863 seconds ---\n",
      "--- Inference time:  HE scenario & no_norm 0.2717773914337158 seconds ---\n",
      "--- Inference time:  ME scenario & norm 0.234130859375 seconds ---\n",
      "--- Inference time:  ME scenario & no_norm 0.280181884765625 seconds ---\n",
      "--- Inference time:  SAT scenario & norm 0.19302153587341309 seconds ---\n",
      "--- Inference time:  SAT scenario & no_norm 0.18147969245910645 seconds ---\n",
      "--- Inference time:  SR scenario & norm 0.26108431816101074 seconds ---\n",
      "--- Inference time:  SR scenario & no_norm 0.397310733795166 seconds ---\n",
      "--- Inference time:  WW scenario & norm 0.2611403465270996 seconds ---\n",
      "--- Inference time:  WW scenario & no_norm 0.3146395683288574 seconds ---\n",
      "--- 87 tips ---\n",
      "--- Inference time:  BD scenario & norm 0.18892836570739746 seconds ---\n",
      "--- Inference time:  BD scenario & no_norm 0.33605122566223145 seconds ---\n",
      "--- Inference time:  HE scenario & norm 0.2561187744140625 seconds ---\n",
      "--- Inference time:  HE scenario & no_norm 0.17159509658813477 seconds ---\n",
      "--- Inference time:  ME scenario & norm 0.20323824882507324 seconds ---\n",
      "--- Inference time:  ME scenario & no_norm 0.2240917682647705 seconds ---\n",
      "--- Inference time:  SAT scenario & norm 0.28827691078186035 seconds ---\n",
      "--- Inference time:  SAT scenario & no_norm 0.2346477508544922 seconds ---\n",
      "--- Inference time:  SR scenario & norm 0.221235990524292 seconds ---\n",
      "--- Inference time:  SR scenario & no_norm 0.3329470157623291 seconds ---\n",
      "--- Inference time:  WW scenario & norm 0.27158594131469727 seconds ---\n",
      "--- Inference time:  WW scenario & no_norm 0.22327780723571777 seconds ---\n"
     ]
    }
   ],
   "source": [
    "n_trees_tested = 1000\n",
    "results = dict()\n",
    "inf_times = dict()\n",
    "\n",
    "for i in n_tips:\n",
    "    print('---', i, 'tips ---')\n",
    "    results[i] = dict()\n",
    "    inf_times[i] = dict()\n",
    "    \n",
    "    for label in np.unique(data[i]['div_info_test']):\n",
    "        div_scenario = label.split('/')[1].split('_')[0]\n",
    "        results[i][div_scenario] = dict()\n",
    "        inf_times[i][div_scenario] = dict()\n",
    "        \n",
    "        norm_types = ['norm', 'no_norm']\n",
    "        for norm in norm_types:\n",
    "            results[i][div_scenario][norm] = dict()\n",
    "            inf_times[i][div_scenario][norm] = dict()\n",
    "            \n",
    "            # Load regression model \n",
    "            model_path = res_path + div_scenario + '/' + i + \"_regression_\"\n",
    "            if norm != 'no_norm':\n",
    "                model_path += norm + '_'\n",
    "            \n",
    "            results[i][div_scenario][norm], ex_time = generate_reg_results(model_path, data[i]['X_test'],\n",
    "                                                                           data[i]['y_reg_test'],\n",
    "                                                                           data[i]['y_reg_norm_test'],\n",
    "                                                                           data[i]['div_info_test'],\n",
    "                                                                           data[i]['resc_factor_test'],\n",
    "                                                                           div_scenario, label, norm)\n",
    "            inf_times[i][div_scenario][norm] = ex_time"
   ]
  },
  {
   "cell_type": "markdown",
   "metadata": {},
   "source": [
    "## Inference time"
   ]
  },
  {
   "cell_type": "code",
   "execution_count": 7,
   "metadata": {
    "ExecuteTime": {
     "end_time": "2024-11-11T20:25:54.820626Z",
     "start_time": "2024-11-11T20:25:54.772389Z"
    }
   },
   "outputs": [
    {
     "name": "stdout",
     "output_type": "stream",
     "text": [
      "\n",
      "Inference time statistics for 674:\n",
      "Mean: 0.7927\n",
      "Standard deviation: 1.1418\n",
      "Minimum: 0.2216\n",
      "Maximum: 3.3449\n",
      "\n",
      "Inference time statistics for 489:\n",
      "Mean: 0.2362\n",
      "Standard deviation: 0.0300\n",
      "Minimum: 0.1930\n",
      "Maximum: 0.2676\n",
      "\n",
      "Inference time statistics for 87:\n",
      "Mean: 0.2382\n",
      "Standard deviation: 0.0362\n",
      "Minimum: 0.1889\n",
      "Maximum: 0.2883\n"
     ]
    }
   ],
   "source": [
    "for i in inf_times:\n",
    "    t = []\n",
    "    for scenario in inf_times[i]:\n",
    "        t.append(inf_times[i][scenario]['norm'])\n",
    "   \n",
    "    print(f\"\\nInference time statistics for {i}:\")\n",
    "    print(f\"Mean: {np.mean(t):.4f}\")\n",
    "    print(f\"Standard deviation: {np.std(t):.4f}\")\n",
    "    print(f\"Minimum: {np.min(t):.4f}\")\n",
    "    print(f\"Maximum: {np.max(t):.4f}\")"
   ]
  },
  {
   "cell_type": "markdown",
   "metadata": {},
   "source": [
    "## Training time"
   ]
  },
  {
   "cell_type": "code",
   "execution_count": 8,
   "metadata": {
    "ExecuteTime": {
     "end_time": "2024-11-11T20:25:55.008402Z",
     "start_time": "2024-11-11T20:25:54.954877Z"
    }
   },
   "outputs": [
    {
     "name": "stdout",
     "output_type": "stream",
     "text": [
      "\n",
      "Training times for 674 tips\n",
      "-----\n",
      "Mean: 80.98654202620189\n",
      "Std Dev: 23.909542822776093\n",
      "Max: 121.00370073318481\n",
      "Min: 53.84978413581848\n",
      "\n",
      "Training times for 489 tips\n",
      "-----\n",
      "Mean: 146.08997031052908\n",
      "Std Dev: 40.89618029143705\n",
      "Max: 204.01095628738403\n",
      "Min: 106.88540458679199\n",
      "\n",
      "Training times for 87 tips\n",
      "-----\n",
      "Mean: 178.52716255187988\n",
      "Std Dev: 47.54313057765572\n",
      "Max: 278.6980650424957\n",
      "Min: 133.32786893844604\n"
     ]
    }
   ],
   "source": [
    "for i in n_tips:\n",
    "    train_times = []\n",
    "    \n",
    "    for label in np.unique(data[i]['div_info_test']):\n",
    "        div_scenario = label.split('/')[1].split('_')[0]\n",
    "        \n",
    "        # Load regression model \n",
    "        model_path = res_path + div_scenario + '/' + i + \"_regression_\"\n",
    "\n",
    "        with open(model_path + 'model_data.pkl', 'rb') as f:\n",
    "            n_params, train_time = pickle.load(f)\n",
    "                \n",
    "        train_times.append(train_time)\n",
    "    \n",
    "    print('\\nTraining times for', i, 'tips')\n",
    "    print('-'*5)\n",
    "    print('Mean:', np.mean(train_times))\n",
    "    print('Std Dev:', np.std(train_times))\n",
    "    print('Max:', np.max(train_times))\n",
    "    print('Min:', np.min(train_times))"
   ]
  },
  {
   "cell_type": "markdown",
   "metadata": {},
   "source": [
    "# Regression metrics MAE vs MAE_norm"
   ]
  },
  {
   "cell_type": "code",
   "execution_count": 9,
   "metadata": {
    "ExecuteTime": {
     "end_time": "2024-11-11T20:25:55.201496Z",
     "start_time": "2024-11-11T20:25:55.141944Z"
    }
   },
   "outputs": [
    {
     "data": {
      "text/html": [
       "<div>\n",
       "<style scoped>\n",
       "    .dataframe tbody tr th:only-of-type {\n",
       "        vertical-align: middle;\n",
       "    }\n",
       "\n",
       "    .dataframe tbody tr th {\n",
       "        vertical-align: top;\n",
       "    }\n",
       "\n",
       "    .dataframe thead th {\n",
       "        text-align: right;\n",
       "    }\n",
       "</style>\n",
       "<table border=\"1\" class=\"dataframe\">\n",
       "  <thead>\n",
       "    <tr style=\"text-align: right;\">\n",
       "      <th></th>\n",
       "      <th>norm</th>\n",
       "      <th>no_norm</th>\n",
       "    </tr>\n",
       "  </thead>\n",
       "  <tbody>\n",
       "    <tr>\n",
       "      <th>MAE</th>\n",
       "      <td>6.6471</td>\n",
       "      <td>0.9100</td>\n",
       "    </tr>\n",
       "    <tr>\n",
       "      <th>MAE_norm</th>\n",
       "      <td>4.8571</td>\n",
       "      <td>1.7434</td>\n",
       "    </tr>\n",
       "  </tbody>\n",
       "</table>\n",
       "</div>"
      ],
      "text/plain": [
       "           norm no_norm\n",
       "MAE      6.6471  0.9100\n",
       "MAE_norm 4.8571  1.7434"
      ]
     },
     "execution_count": 9,
     "metadata": {},
     "output_type": "execute_result"
    }
   ],
   "source": [
    "div_scenario = list(results[list(results.keys())[0]].keys())\n",
    "get_regression_norm_results(results, '674', div_scenario, 'norm')"
   ]
  },
  {
   "cell_type": "code",
   "execution_count": 10,
   "metadata": {
    "ExecuteTime": {
     "end_time": "2024-11-11T20:25:55.389665Z",
     "start_time": "2024-11-11T20:25:55.336552Z"
    }
   },
   "outputs": [
    {
     "data": {
      "text/html": [
       "<div>\n",
       "<style scoped>\n",
       "    .dataframe tbody tr th:only-of-type {\n",
       "        vertical-align: middle;\n",
       "    }\n",
       "\n",
       "    .dataframe tbody tr th {\n",
       "        vertical-align: top;\n",
       "    }\n",
       "\n",
       "    .dataframe thead th {\n",
       "        text-align: right;\n",
       "    }\n",
       "</style>\n",
       "<table border=\"1\" class=\"dataframe\">\n",
       "  <thead>\n",
       "    <tr style=\"text-align: right;\">\n",
       "      <th></th>\n",
       "      <th>norm</th>\n",
       "      <th>no_norm</th>\n",
       "    </tr>\n",
       "  </thead>\n",
       "  <tbody>\n",
       "    <tr>\n",
       "      <th>MAE</th>\n",
       "      <td>6.3643</td>\n",
       "      <td>0.8653</td>\n",
       "    </tr>\n",
       "    <tr>\n",
       "      <th>MAE_norm</th>\n",
       "      <td>4.2064</td>\n",
       "      <td>1.6158</td>\n",
       "    </tr>\n",
       "  </tbody>\n",
       "</table>\n",
       "</div>"
      ],
      "text/plain": [
       "           norm no_norm\n",
       "MAE      6.3643  0.8653\n",
       "MAE_norm 4.2064  1.6158"
      ]
     },
     "execution_count": 10,
     "metadata": {},
     "output_type": "execute_result"
    }
   ],
   "source": [
    "div_scenario = list(results[list(results.keys())[0]].keys())\n",
    "get_regression_norm_results(results, '489', div_scenario, 'norm')"
   ]
  },
  {
   "cell_type": "code",
   "execution_count": 11,
   "metadata": {
    "ExecuteTime": {
     "end_time": "2024-11-11T20:25:55.576946Z",
     "start_time": "2024-11-11T20:25:55.523801Z"
    }
   },
   "outputs": [
    {
     "data": {
      "text/html": [
       "<div>\n",
       "<style scoped>\n",
       "    .dataframe tbody tr th:only-of-type {\n",
       "        vertical-align: middle;\n",
       "    }\n",
       "\n",
       "    .dataframe tbody tr th {\n",
       "        vertical-align: top;\n",
       "    }\n",
       "\n",
       "    .dataframe thead th {\n",
       "        text-align: right;\n",
       "    }\n",
       "</style>\n",
       "<table border=\"1\" class=\"dataframe\">\n",
       "  <thead>\n",
       "    <tr style=\"text-align: right;\">\n",
       "      <th></th>\n",
       "      <th>norm</th>\n",
       "      <th>no_norm</th>\n",
       "    </tr>\n",
       "  </thead>\n",
       "  <tbody>\n",
       "    <tr>\n",
       "      <th>MAE</th>\n",
       "      <td>6.7094</td>\n",
       "      <td>0.9587</td>\n",
       "    </tr>\n",
       "    <tr>\n",
       "      <th>MAE_norm</th>\n",
       "      <td>5.3895</td>\n",
       "      <td>1.9278</td>\n",
       "    </tr>\n",
       "  </tbody>\n",
       "</table>\n",
       "</div>"
      ],
      "text/plain": [
       "           norm no_norm\n",
       "MAE      6.7094  0.9587\n",
       "MAE_norm 5.3895  1.9278"
      ]
     },
     "execution_count": 11,
     "metadata": {},
     "output_type": "execute_result"
    }
   ],
   "source": [
    "div_scenario = list(results[list(results.keys())[0]].keys())\n",
    "get_regression_norm_results(results, '87', div_scenario, 'norm')"
   ]
  },
  {
   "cell_type": "markdown",
   "metadata": {},
   "source": [
    "## Comparison between diversification scenarios"
   ]
  },
  {
   "cell_type": "code",
   "execution_count": 12,
   "metadata": {
    "ExecuteTime": {
     "end_time": "2024-11-11T20:25:55.765038Z",
     "start_time": "2024-11-11T20:25:55.711635Z"
    }
   },
   "outputs": [
    {
     "data": {
      "text/html": [
       "<div>\n",
       "<style scoped>\n",
       "    .dataframe tbody tr th:only-of-type {\n",
       "        vertical-align: middle;\n",
       "    }\n",
       "\n",
       "    .dataframe tbody tr th {\n",
       "        vertical-align: top;\n",
       "    }\n",
       "\n",
       "    .dataframe thead th {\n",
       "        text-align: right;\n",
       "    }\n",
       "</style>\n",
       "<table border=\"1\" class=\"dataframe\">\n",
       "  <thead>\n",
       "    <tr style=\"text-align: right;\">\n",
       "      <th></th>\n",
       "      <th>r</th>\n",
       "      <th>a</th>\n",
       "      <th>lambda</th>\n",
       "      <th>mu</th>\n",
       "    </tr>\n",
       "  </thead>\n",
       "  <tbody>\n",
       "    <tr>\n",
       "      <th>MAE</th>\n",
       "      <td>1.1900</td>\n",
       "      <td>0.0940</td>\n",
       "      <td>1.2742</td>\n",
       "      <td>0.3312</td>\n",
       "    </tr>\n",
       "    <tr>\n",
       "      <th>MAE_norm</th>\n",
       "      <td>0.7580</td>\n",
       "      <td>0.0940</td>\n",
       "      <td>0.8178</td>\n",
       "      <td>0.0859</td>\n",
       "    </tr>\n",
       "  </tbody>\n",
       "</table>\n",
       "</div>"
      ],
      "text/plain": [
       "              r      a lambda     mu\n",
       "MAE      1.1900 0.0940 1.2742 0.3312\n",
       "MAE_norm 0.7580 0.0940 0.8178 0.0859"
      ]
     },
     "execution_count": 12,
     "metadata": {},
     "output_type": "execute_result"
    }
   ],
   "source": [
    "get_regression_div_results(results, '674', 'BD', 'norm')"
   ]
  },
  {
   "cell_type": "code",
   "execution_count": 13,
   "metadata": {
    "ExecuteTime": {
     "end_time": "2024-11-11T20:25:55.952337Z",
     "start_time": "2024-11-11T20:25:55.898769Z"
    }
   },
   "outputs": [
    {
     "data": {
      "text/html": [
       "<div>\n",
       "<style scoped>\n",
       "    .dataframe tbody tr th:only-of-type {\n",
       "        vertical-align: middle;\n",
       "    }\n",
       "\n",
       "    .dataframe tbody tr th {\n",
       "        vertical-align: top;\n",
       "    }\n",
       "\n",
       "    .dataframe thead th {\n",
       "        text-align: right;\n",
       "    }\n",
       "</style>\n",
       "<table border=\"1\" class=\"dataframe\">\n",
       "  <thead>\n",
       "    <tr style=\"text-align: right;\">\n",
       "      <th></th>\n",
       "      <th>r</th>\n",
       "      <th>a</th>\n",
       "      <th>lambda</th>\n",
       "      <th>mu</th>\n",
       "    </tr>\n",
       "  </thead>\n",
       "  <tbody>\n",
       "    <tr>\n",
       "      <th>MAE</th>\n",
       "      <td>0.4450</td>\n",
       "      <td>0.1704</td>\n",
       "      <td>0.4974</td>\n",
       "      <td>0.0555</td>\n",
       "    </tr>\n",
       "    <tr>\n",
       "      <th>MAE_norm</th>\n",
       "      <td>0.2817</td>\n",
       "      <td>0.1704</td>\n",
       "      <td>0.3410</td>\n",
       "      <td>0.0615</td>\n",
       "    </tr>\n",
       "  </tbody>\n",
       "</table>\n",
       "</div>"
      ],
      "text/plain": [
       "              r      a lambda     mu\n",
       "MAE      0.4450 0.1704 0.4974 0.0555\n",
       "MAE_norm 0.2817 0.1704 0.3410 0.0615"
      ]
     },
     "execution_count": 13,
     "metadata": {},
     "output_type": "execute_result"
    }
   ],
   "source": [
    "get_regression_div_results(results, '674', 'HE', 'norm')"
   ]
  },
  {
   "cell_type": "code",
   "execution_count": 14,
   "metadata": {
    "ExecuteTime": {
     "end_time": "2024-11-11T20:25:56.140682Z",
     "start_time": "2024-11-11T20:25:56.085656Z"
    }
   },
   "outputs": [
    {
     "data": {
      "text/html": [
       "<div>\n",
       "<style scoped>\n",
       "    .dataframe tbody tr th:only-of-type {\n",
       "        vertical-align: middle;\n",
       "    }\n",
       "\n",
       "    .dataframe tbody tr th {\n",
       "        vertical-align: top;\n",
       "    }\n",
       "\n",
       "    .dataframe thead th {\n",
       "        text-align: right;\n",
       "    }\n",
       "</style>\n",
       "<table border=\"1\" class=\"dataframe\">\n",
       "  <thead>\n",
       "    <tr style=\"text-align: right;\">\n",
       "      <th></th>\n",
       "      <th>r</th>\n",
       "      <th>a</th>\n",
       "      <th>time</th>\n",
       "      <th>frac</th>\n",
       "      <th>lambda</th>\n",
       "      <th>mu</th>\n",
       "    </tr>\n",
       "  </thead>\n",
       "  <tbody>\n",
       "    <tr>\n",
       "      <th>MAE</th>\n",
       "      <td>0.9504</td>\n",
       "      <td>0.0755</td>\n",
       "      <td>33.5415</td>\n",
       "      <td>0.0500</td>\n",
       "      <td>2.1865</td>\n",
       "      <td>1.2539</td>\n",
       "    </tr>\n",
       "    <tr>\n",
       "      <th>MAE_norm</th>\n",
       "      <td>0.6602</td>\n",
       "      <td>0.0755</td>\n",
       "      <td>26.0458</td>\n",
       "      <td>0.0500</td>\n",
       "      <td>1.3647</td>\n",
       "      <td>0.7227</td>\n",
       "    </tr>\n",
       "  </tbody>\n",
       "</table>\n",
       "</div>"
      ],
      "text/plain": [
       "              r      a    time   frac lambda     mu\n",
       "MAE      0.9504 0.0755 33.5415 0.0500 2.1865 1.2539\n",
       "MAE_norm 0.6602 0.0755 26.0458 0.0500 1.3647 0.7227"
      ]
     },
     "execution_count": 14,
     "metadata": {},
     "output_type": "execute_result"
    }
   ],
   "source": [
    "get_regression_div_results(results, '674', 'ME', 'norm')"
   ]
  },
  {
   "cell_type": "code",
   "execution_count": 15,
   "metadata": {
    "ExecuteTime": {
     "end_time": "2024-11-11T20:25:56.331922Z",
     "start_time": "2024-11-11T20:25:56.274196Z"
    }
   },
   "outputs": [
    {
     "data": {
      "text/html": [
       "<div>\n",
       "<style scoped>\n",
       "    .dataframe tbody tr th:only-of-type {\n",
       "        vertical-align: middle;\n",
       "    }\n",
       "\n",
       "    .dataframe tbody tr th {\n",
       "        vertical-align: top;\n",
       "    }\n",
       "\n",
       "    .dataframe thead th {\n",
       "        text-align: right;\n",
       "    }\n",
       "</style>\n",
       "<table border=\"1\" class=\"dataframe\">\n",
       "  <thead>\n",
       "    <tr style=\"text-align: right;\">\n",
       "      <th></th>\n",
       "      <th>r0</th>\n",
       "      <th>r1</th>\n",
       "      <th>a0</th>\n",
       "      <th>a1</th>\n",
       "      <th>time</th>\n",
       "      <th>lambda0</th>\n",
       "      <th>lambda1</th>\n",
       "      <th>mu0</th>\n",
       "      <th>mu1</th>\n",
       "    </tr>\n",
       "  </thead>\n",
       "  <tbody>\n",
       "    <tr>\n",
       "      <th>MAE</th>\n",
       "      <td>1.4599</td>\n",
       "      <td>0.1349</td>\n",
       "      <td>0.0912</td>\n",
       "      <td>0.0934</td>\n",
       "      <td>16.3070</td>\n",
       "      <td>2.0013</td>\n",
       "      <td>0.5425</td>\n",
       "      <td>0.5590</td>\n",
       "      <td>0.4102</td>\n",
       "    </tr>\n",
       "    <tr>\n",
       "      <th>MAE_norm</th>\n",
       "      <td>0.8802</td>\n",
       "      <td>0.0959</td>\n",
       "      <td>0.0912</td>\n",
       "      <td>0.0934</td>\n",
       "      <td>11.5338</td>\n",
       "      <td>1.2297</td>\n",
       "      <td>0.4772</td>\n",
       "      <td>0.3688</td>\n",
       "      <td>0.3842</td>\n",
       "    </tr>\n",
       "  </tbody>\n",
       "</table>\n",
       "</div>"
      ],
      "text/plain": [
       "             r0     r1     a0     a1    time lambda0 lambda1    mu0    mu1\n",
       "MAE      1.4599 0.1349 0.0912 0.0934 16.3070  2.0013  0.5425 0.5590 0.4102\n",
       "MAE_norm 0.8802 0.0959 0.0912 0.0934 11.5338  1.2297  0.4772 0.3688 0.3842"
      ]
     },
     "execution_count": 15,
     "metadata": {},
     "output_type": "execute_result"
    }
   ],
   "source": [
    "get_regression_div_results(results, '674', 'SR', 'norm')"
   ]
  },
  {
   "cell_type": "code",
   "execution_count": 16,
   "metadata": {
    "ExecuteTime": {
     "end_time": "2024-11-11T20:25:56.515298Z",
     "start_time": "2024-11-11T20:25:56.464663Z"
    }
   },
   "outputs": [
    {
     "data": {
      "text/html": [
       "<div>\n",
       "<style scoped>\n",
       "    .dataframe tbody tr th:only-of-type {\n",
       "        vertical-align: middle;\n",
       "    }\n",
       "\n",
       "    .dataframe tbody tr th {\n",
       "        vertical-align: top;\n",
       "    }\n",
       "\n",
       "    .dataframe thead th {\n",
       "        text-align: right;\n",
       "    }\n",
       "</style>\n",
       "<table border=\"1\" class=\"dataframe\">\n",
       "  <thead>\n",
       "    <tr style=\"text-align: right;\">\n",
       "      <th></th>\n",
       "      <th>lambda 0</th>\n",
       "    </tr>\n",
       "  </thead>\n",
       "  <tbody>\n",
       "    <tr>\n",
       "      <th>MAE</th>\n",
       "      <td>9.4073</td>\n",
       "    </tr>\n",
       "    <tr>\n",
       "      <th>MAE_norm</th>\n",
       "      <td>5.9115</td>\n",
       "    </tr>\n",
       "  </tbody>\n",
       "</table>\n",
       "</div>"
      ],
      "text/plain": [
       "         lambda 0\n",
       "MAE        9.4073\n",
       "MAE_norm   5.9115"
      ]
     },
     "execution_count": 16,
     "metadata": {},
     "output_type": "execute_result"
    }
   ],
   "source": [
    "get_regression_div_results(results, '674', 'SAT', 'norm')"
   ]
  },
  {
   "cell_type": "code",
   "execution_count": 17,
   "metadata": {
    "ExecuteTime": {
     "end_time": "2024-11-11T20:25:56.707920Z",
     "start_time": "2024-11-11T20:25:56.649659Z"
    }
   },
   "outputs": [
    {
     "data": {
      "text/html": [
       "<div>\n",
       "<style scoped>\n",
       "    .dataframe tbody tr th:only-of-type {\n",
       "        vertical-align: middle;\n",
       "    }\n",
       "\n",
       "    .dataframe tbody tr th {\n",
       "        vertical-align: top;\n",
       "    }\n",
       "\n",
       "    .dataframe thead th {\n",
       "        text-align: right;\n",
       "    }\n",
       "</style>\n",
       "<table border=\"1\" class=\"dataframe\">\n",
       "  <thead>\n",
       "    <tr style=\"text-align: right;\">\n",
       "      <th></th>\n",
       "      <th>r0</th>\n",
       "      <th>r1</th>\n",
       "      <th>a0</th>\n",
       "      <th>a1</th>\n",
       "      <th>time</th>\n",
       "      <th>lambda0</th>\n",
       "      <th>lambda1</th>\n",
       "      <th>mu0</th>\n",
       "      <th>mu1</th>\n",
       "    </tr>\n",
       "  </thead>\n",
       "  <tbody>\n",
       "    <tr>\n",
       "      <th>MAE</th>\n",
       "      <td>1.2006</td>\n",
       "      <td>10.0092</td>\n",
       "      <td>0.1474</td>\n",
       "      <td>0.0903</td>\n",
       "      <td>144.9705</td>\n",
       "      <td>1.9398</td>\n",
       "      <td>17.4393</td>\n",
       "      <td>3.1385</td>\n",
       "      <td>7.5262</td>\n",
       "    </tr>\n",
       "    <tr>\n",
       "      <th>MAE_norm</th>\n",
       "      <td>0.7143</td>\n",
       "      <td>7.0542</td>\n",
       "      <td>0.1474</td>\n",
       "      <td>0.0903</td>\n",
       "      <td>114.1477</td>\n",
       "      <td>1.1808</td>\n",
       "      <td>13.1925</td>\n",
       "      <td>1.8926</td>\n",
       "      <td>6.2520</td>\n",
       "    </tr>\n",
       "  </tbody>\n",
       "</table>\n",
       "</div>"
      ],
      "text/plain": [
       "             r0      r1     a0     a1     time lambda0 lambda1    mu0    mu1\n",
       "MAE      1.2006 10.0092 0.1474 0.0903 144.9705  1.9398 17.4393 3.1385 7.5262\n",
       "MAE_norm 0.7143  7.0542 0.1474 0.0903 114.1477  1.1808 13.1925 1.8926 6.2520"
      ]
     },
     "execution_count": 17,
     "metadata": {},
     "output_type": "execute_result"
    }
   ],
   "source": [
    "get_regression_div_results(results, '674', 'WW', 'norm')"
   ]
  },
  {
   "cell_type": "code",
   "execution_count": null,
   "metadata": {},
   "outputs": [],
   "source": []
  }
 ],
 "metadata": {
  "kernelspec": {
   "display_name": "Python 3",
   "language": "python",
   "name": "python3"
  },
  "language_info": {
   "codemirror_mode": {
    "name": "ipython",
    "version": 3
   },
   "file_extension": ".py",
   "mimetype": "text/x-python",
   "name": "python",
   "nbconvert_exporter": "python",
   "pygments_lexer": "ipython3",
   "version": "3.8.5"
  },
  "toc": {
   "base_numbering": 1,
   "nav_menu": {},
   "number_sections": false,
   "sideBar": true,
   "skip_h1_title": false,
   "title_cell": "Table of Contents",
   "title_sidebar": "Contents",
   "toc_cell": false,
   "toc_position": {
    "height": "calc(100% - 180px)",
    "left": "10px",
    "top": "150px",
    "width": "165px"
   },
   "toc_section_display": true,
   "toc_window_display": false
  },
  "varInspector": {
   "cols": {
    "lenName": 16,
    "lenType": 16,
    "lenVar": 40
   },
   "kernels_config": {
    "python": {
     "delete_cmd_postfix": "",
     "delete_cmd_prefix": "del ",
     "library": "var_list.py",
     "varRefreshCmd": "print(var_dic_list())"
    },
    "r": {
     "delete_cmd_postfix": ") ",
     "delete_cmd_prefix": "rm(",
     "library": "var_list.r",
     "varRefreshCmd": "cat(var_dic_list()) "
    }
   },
   "types_to_exclude": [
    "module",
    "function",
    "builtin_function_or_method",
    "instance",
    "_Feature"
   ],
   "window_display": false
  }
 },
 "nbformat": 4,
 "nbformat_minor": 4
}

{
 "cells": [
  {
   "cell_type": "markdown",
   "metadata": {},
   "source": [
    "# Imports"
   ]
  },
  {
   "cell_type": "code",
   "execution_count": null,
   "metadata": {
    "ExecuteTime": {
     "start_time": "2025-07-07T09:58:26.076Z"
    }
   },
   "outputs": [],
   "source": [
    "import pandas as pd\n",
    "from ete3 import Tree\n",
    "import matplotlib.pyplot as plt"
   ]
  },
  {
   "cell_type": "code",
   "execution_count": null,
   "metadata": {
    "ExecuteTime": {
     "start_time": "2025-07-07T09:58:26.341Z"
    }
   },
   "outputs": [],
   "source": [
    "%reload_ext autoreload\n",
    "%autoreload 2"
   ]
  },
  {
   "cell_type": "code",
   "execution_count": null,
   "metadata": {
    "ExecuteTime": {
     "start_time": "2025-07-07T09:58:26.568Z"
    }
   },
   "outputs": [],
   "source": [
    "import pickle, os\n",
    "\n",
    "from dataset_code.load_dataset_vec import *"
   ]
  },
  {
   "cell_type": "code",
   "execution_count": null,
   "metadata": {
    "ExecuteTime": {
     "start_time": "2025-07-07T09:58:26.795Z"
    }
   },
   "outputs": [],
   "source": [
    "def show_dataset_features(dataset):\n",
    "    print(\"Vectorized trees shape: \", np.shape(dataset.X_vec))\n",
    "\n",
    "    print(\"-\"*20)\n",
    "    print(\"Labels: \", dataset.label_names)\n",
    "    print(\"Labels of the trees shape: \", np.shape(dataset.label))\n",
    "\n",
    "    print(\"-\"*20)\n",
    "    print(\"-\"*20)\n",
    "    print(\"time shape: \", np.shape(dataset.time))\n",
    "    print(\"frac0 shape: \", np.shape(dataset.frac0))\n",
    "    print(\"frac1 shape: \", np.shape(dataset.frac1))\n",
    "    print(\"r0 shape: \", np.shape(dataset.r0))\n",
    "    print(\"r1 shape: \", np.shape(dataset.r1))\n",
    "    print(\"a0 shape: \", np.shape(dataset.a0))\n",
    "    print(\"a1 shape: \", np.shape(dataset.a1))\n",
    "    \n",
    "    print(\"-\"*20)\n",
    "    print(\"resc_factor shape: \", np.shape(dataset.resc_factor))\n",
    "    print(\"mu0 shape: \", np.shape(dataset.mu0))\n",
    "    print(\"mu1 shape: \", np.shape(dataset.mu1))\n",
    "    print(\"lambda0 shape: \", np.shape(dataset.lambda0))\n",
    "    print(\"lambda1 shape: \", np.shape(dataset.lambda1))\n",
    "\n",
    "    print(\"-\"*20)\n",
    "    print(\"-\"*20)\n",
    "    print(\"norm_time shape: \", np.shape(dataset.norm_time))\n",
    "    print(\"norm_frac0 shape: \", np.shape(dataset.norm_frac0))\n",
    "    print(\"norm_frac1 shape: \", np.shape(dataset.norm_frac1))\n",
    "    print(\"norm_r0 shape: \", np.shape(dataset.norm_r0))\n",
    "    print(\"norm_r1 shape: \", np.shape(dataset.norm_r1))\n",
    "    print(\"norm_a0 shape: \", np.shape(dataset.norm_a0))\n",
    "    print(\"norm_a1 shape: \", np.shape(dataset.norm_a1))\n",
    "    print(\"norm_mu0 shape: \", np.shape(dataset.norm_mu0))\n",
    "    print(\"norm_mu10 shape: \", np.shape(dataset.norm_mu1))\n",
    "    print(\"norm_lambda0 shape: \", np.shape(dataset.norm_lambda0))\n",
    "    print(\"norm_lambda1 shape: \", np.shape(dataset.norm_lambda1))"
   ]
  },
  {
   "cell_type": "markdown",
   "metadata": {},
   "source": [
    "# Load and generate pickle file containing data information"
   ]
  },
  {
   "cell_type": "code",
   "execution_count": null,
   "metadata": {
    "ExecuteTime": {
     "start_time": "2025-07-07T09:58:28.229Z"
    },
    "scrolled": true
   },
   "outputs": [],
   "source": [
    "files = [ \n",
    "        [\"/workspace/phylo_estimation/simulations/674_1000_realrho_test/BD_sim_no_fossil1000_rescale.csv\",\n",
    "        \"/workspace/phylo_estimation/simulations/674_1000_realrho_test/HE_sim_no_fossil1000_rescale.csv\",\n",
    "        \"/workspace/phylo_estimation/simulations/674_1000_realrho_test/ME_rho_PGP_sim_no_fossil1000_rescale.csv\",\n",
    "        \"/workspace/phylo_estimation/simulations/674_1000_realrho_test/SAT_sim_no_fossil1000_rescale.csv\",\n",
    "        \"/workspace/phylo_estimation/simulations/674_1000_realrho_test/SR_sim_no_fossil1000_rescale.csv\",\n",
    "        \"/workspace/phylo_estimation/simulations/674_1000_realrho_test/WW_sim_no_fossil1000_rescale.csv\",],\n",
    "    \n",
    "\n",
    "    \n",
    "#        [\"/workspace/coniferas/simulations/simulations_no_fossil/treepar_dataset/87/BD_sim_87_TreePar_rescale.csv\",\n",
    "#        \"/workspace/coniferas/simulations/simulations_no_fossil/treepar_dataset/87/HE_sim_87_TreePar_rescale.csv\",\n",
    "#        \"/workspace/coniferas/simulations/simulations_no_fossil/treepar_dataset/87/ME_sim_87_TreePar_rescale.csv\",\n",
    "#        \"/workspace/coniferas/simulations/simulations_no_fossil/treepar_dataset/87/SAT_sim_87_TreePar_rescale.csv\",\n",
    "#        \"/workspace/coniferas/simulations/simulations_no_fossil/treepar_dataset/87/SR_sim_87_TreePar_rescale.csv\",\n",
    "#        \"/workspace/coniferas/simulations/simulations_no_fossil/treepar_dataset/87/WW_sim_87_TreePar_rescale.csv\",],\n",
    "#    \n",
    "#        [\"/workspace/coniferas/simulations/simulations_no_fossil/treepar_dataset/489/BD_sim_489_TreePar_rescale.csv\",\n",
    "#        \"/workspace/coniferas/simulations/simulations_no_fossil/treepar_dataset/489/HE_sim_489_TreePar_rescale.csv\",\n",
    "#        \"/workspace/coniferas/simulations/simulations_no_fossil/treepar_dataset/489/ME_sim_489_TreePar_rescale.csv\",\n",
    "#        \"/workspace/coniferas/simulations/simulations_no_fossil/treepar_dataset/489/SAT_sim_489_TreePar_rescale.csv\",\n",
    "#        \"/workspace/coniferas/simulations/simulations_no_fossil/treepar_dataset/489/SR_sim_489_TreePar_rescale.csv\",\n",
    "#        \"/workspace/coniferas/simulations/simulations_no_fossil/treepar_dataset/489/WW_sim_489_TreePar_rescale.csv\",],\n",
    "#    \n",
    "#        [\"/workspace/coniferas/simulations/simulations_no_fossil/treepar_dataset/674/BD_sim_674_TreePar_rescale.csv\",\n",
    "#        \"/workspace/coniferas/simulations/simulations_no_fossil/treepar_dataset/674/HE_sim_674_TreePar_rescale.csv\",\n",
    "#        \"/workspace/coniferas/simulations/simulations_no_fossil/treepar_dataset/674/ME_sim_674_TreePar_rescale.csv\",\n",
    "#        \"/workspace/coniferas/simulations/simulations_no_fossil/treepar_dataset/674/SAT_sim_674_TreePar_rescale.csv\",\n",
    "#        \"/workspace/coniferas/simulations/simulations_no_fossil/treepar_dataset/674/SR_sim_674_TreePar_rescale.csv\",\n",
    "#        \"/workspace/coniferas/simulations/simulations_no_fossil/treepar_dataset/674/WW_sim_674_TreePar_rescale.csv\",],\n",
    "    \n",
    "#        [\"/workspace/phylo_estimation/simulations/old_sims/87_10k/BD_sim_10k_rescale.csv\",\n",
    "#        \"/workspace/phylo_estimation/simulations/old_sims/87_10k/HE_sim_10k_rescale.csv\",\n",
    "#        \"/workspace/phylo_estimation/simulations/old_sims/87_10k/ME_rho_sim_10k_rescale.csv\",\n",
    "#        \"/workspace/phylo_estimation/simulations/old_sims/87_10k/SAT_sim_10k_rescale.csv\",\n",
    "#        \"/workspace/phylo_estimation/simulations/old_sims/87_10k/SR_sim_10k_rescale.csv\",\n",
    "#        \"/workspace/phylo_estimation/simulations/old_sims/87_10k/WW_sim_10k_rescale.csv\",],\n",
    "#\n",
    "#    \n",
    "#        [\"/workspace/phylo_estimation/simulations/old_sims/674_10k/BD_sim_10k_rescale.csv\",\n",
    "#        \"/workspace/phylo_estimation/simulations/old_sims/674_10k/HE_sim_10k_rescale.csv\",\n",
    "#        \"/workspace/phylo_estimation/simulations/old_sims/674_10k/ME_rho_sim_10k_rescale.csv\",\n",
    "#        \"/workspace/phylo_estimation/simulations/old_sims/674_10k/SAT_sim_10k_rescale.csv\",\n",
    "#        \"/workspace/phylo_estimation/simulations/old_sims/674_10k/SR_sim_10k_rescale.csv\",\n",
    "#        \"/workspace/phylo_estimation/simulations/old_sims/674_10k/WW_sim_10k_rescale.csv\",],\n",
    "#    \n",
    "#    \n",
    "#        [\"/workspace/phylo_estimation/simulations/old_sims/489_10k/BD_sim_10k_rescale.csv\",\n",
    "#        \"/workspace/phylo_estimation/simulations/old_sims/489_10k/HE_sim_10k_rescale.csv\",\n",
    "#        \"/workspace/phylo_estimation/simulations/old_sims/489_10k/ME_rho_sim_10k_rescale.csv\",\n",
    "#        \"/workspace/phylo_estimation/simulations/old_sims/489_10k/SAT_sim_10k_rescale.csv\",\n",
    "#        \"/workspace/phylo_estimation/simulations/old_sims/489_10k/SR_sim_10k_rescale.csv\",\n",
    "#        \"/workspace/phylo_estimation/simulations/old_sims/489_10k/WW_sim_10k_rescale.csv\",],\n",
    "         ]"
   ]
  },
  {
   "cell_type": "code",
   "execution_count": null,
   "metadata": {
    "ExecuteTime": {
     "start_time": "2025-07-07T09:58:29.283Z"
    },
    "scrolled": true
   },
   "outputs": [],
   "source": [
    "for file_set in files:\n",
    "    raw_dataset = load_dataset_vec(file_set)\n",
    "    show_dataset_features(raw_dataset)\n",
    "    \n",
    "    os.makedirs(\"/workspace/phylo_estimation/data_inference/pickles/\" +\n",
    "                os.path.dirname(file_set[0]).split('/')[-2] + '/', exist_ok=True)\n",
    "\n",
    "    with open(\"/workspace/phylo_estimation/data_inference/pickles/\" +\n",
    "              os.path.dirname(file_set[0]).split('/')[-2] + '/raw_' + \n",
    "              os.path.dirname(file_set[0]).split('/')[-1] +'.pkl', 'wb') as f:\n",
    "        pickle.dump(raw_dataset, f)"
   ]
  },
  {
   "cell_type": "code",
   "execution_count": null,
   "metadata": {},
   "outputs": [],
   "source": []
  }
 ],
 "metadata": {
  "kernelspec": {
   "display_name": "Python 3",
   "language": "python",
   "name": "python3"
  },
  "language_info": {
   "codemirror_mode": {
    "name": "ipython",
    "version": 3
   },
   "file_extension": ".py",
   "mimetype": "text/x-python",
   "name": "python",
   "nbconvert_exporter": "python",
   "pygments_lexer": "ipython3",
   "version": "3.8.10"
  },
  "toc": {
   "base_numbering": 1,
   "nav_menu": {},
   "number_sections": false,
   "sideBar": true,
   "skip_h1_title": false,
   "title_cell": "Table of Contents",
   "title_sidebar": "Contents",
   "toc_cell": false,
   "toc_position": {},
   "toc_section_display": true,
   "toc_window_display": false
  },
  "varInspector": {
   "cols": {
    "lenName": 16,
    "lenType": 16,
    "lenVar": 40
   },
   "kernels_config": {
    "python": {
     "delete_cmd_postfix": "",
     "delete_cmd_prefix": "del ",
     "library": "var_list.py",
     "varRefreshCmd": "print(var_dic_list())"
    },
    "r": {
     "delete_cmd_postfix": ") ",
     "delete_cmd_prefix": "rm(",
     "library": "var_list.r",
     "varRefreshCmd": "cat(var_dic_list()) "
    }
   },
   "types_to_exclude": [
    "module",
    "function",
    "builtin_function_or_method",
    "instance",
    "_Feature"
   ],
   "window_display": false
  }
 },
 "nbformat": 4,
 "nbformat_minor": 4
}

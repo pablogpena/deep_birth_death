{
 "cells": [
  {
   "cell_type": "code",
   "execution_count": 1,
   "metadata": {
    "ExecuteTime": {
     "end_time": "2024-11-11T11:53:10.204059Z",
     "start_time": "2024-11-11T11:53:10.186878Z"
    }
   },
   "outputs": [],
   "source": [
    "%reload_ext autoreload\n",
    "%autoreload 2"
   ]
  },
  {
   "cell_type": "code",
   "execution_count": 2,
   "metadata": {
    "ExecuteTime": {
     "end_time": "2024-11-11T11:53:13.775824Z",
     "start_time": "2024-11-11T11:53:10.206545Z"
    }
   },
   "outputs": [],
   "source": [
    "import pickle\n",
    "import itertools\n",
    "import time\n",
    "import os\n",
    "from time import time\n",
    "\n",
    "import pandas as pd\n",
    "import numpy as np\n",
    "import matplotlib.pyplot as plt\n",
    "import seaborn as sns\n",
    "\n",
    "from evaluation.classification import generate_class_results, plot_conf_mat, \\\n",
    "                                      get_classification_results"
   ]
  },
  {
   "cell_type": "markdown",
   "metadata": {},
   "source": [
    "# Results generation"
   ]
  },
  {
   "cell_type": "code",
   "execution_count": 3,
   "metadata": {
    "ExecuteTime": {
     "end_time": "2024-11-11T11:53:20.425788Z",
     "start_time": "2024-11-11T11:53:13.778499Z"
    }
   },
   "outputs": [
    {
     "name": "stdout",
     "output_type": "stream",
     "text": [
      "--- 674 tips ---\n",
      "--- Inference time:  3.248525619506836 seconds ---\n",
      "--- 489 tips ---\n",
      "--- Inference time:  0.356522798538208 seconds ---\n",
      "--- 87 tips ---\n",
      "--- Inference time:  0.22150921821594238 seconds ---\n"
     ]
    }
   ],
   "source": [
    "pickle_path = '/workspace/coniferas(1)/data_inference/pickles/treepar_dataset/'\n",
    "res_path = \"/workspace/coniferas(1)/data_inference/models/class/\"\n",
    "\n",
    "n_tips = ['674', '489', '87']\n",
    "\n",
    "results = dict()\n",
    "\n",
    "for i in n_tips:\n",
    "    with open(pickle_path + \"dataset_\" + i + \".pkl\", 'rb') as f:\n",
    "        data = pickle.load(f)\n",
    "    \n",
    "    results[i] = dict()\n",
    "        \n",
    "    model_path = res_path + i + \"_classification_\"\n",
    "\n",
    "    print('---', i, 'tips ---')\n",
    "    results[i] = generate_class_results(model_path, data['X_test'],\n",
    "                                        data['y_class_test'])"
   ]
  },
  {
   "cell_type": "code",
   "execution_count": 4,
   "metadata": {
    "ExecuteTime": {
     "end_time": "2024-11-11T11:53:20.516658Z",
     "start_time": "2024-11-11T11:53:20.428410Z"
    }
   },
   "outputs": [
    {
     "data": {
      "text/html": [
       "<div>\n",
       "<style scoped>\n",
       "    .dataframe tbody tr th:only-of-type {\n",
       "        vertical-align: middle;\n",
       "    }\n",
       "\n",
       "    .dataframe tbody tr th {\n",
       "        vertical-align: top;\n",
       "    }\n",
       "\n",
       "    .dataframe thead th {\n",
       "        text-align: right;\n",
       "    }\n",
       "</style>\n",
       "<table border=\"1\" class=\"dataframe\">\n",
       "  <thead>\n",
       "    <tr style=\"text-align: right;\">\n",
       "      <th></th>\n",
       "      <th>674</th>\n",
       "      <th>489</th>\n",
       "      <th>87</th>\n",
       "    </tr>\n",
       "  </thead>\n",
       "  <tbody>\n",
       "    <tr>\n",
       "      <th>accuracy</th>\n",
       "      <td>0.921667</td>\n",
       "      <td>0.926667</td>\n",
       "      <td>0.825</td>\n",
       "    </tr>\n",
       "    <tr>\n",
       "      <th>F1-Score</th>\n",
       "      <td>0.920149</td>\n",
       "      <td>0.926178</td>\n",
       "      <td>0.82163</td>\n",
       "    </tr>\n",
       "    <tr>\n",
       "      <th>Recall</th>\n",
       "      <td>0.921667</td>\n",
       "      <td>0.926667</td>\n",
       "      <td>0.825</td>\n",
       "    </tr>\n",
       "    <tr>\n",
       "      <th>Precision</th>\n",
       "      <td>0.920927</td>\n",
       "      <td>0.928141</td>\n",
       "      <td>0.825823</td>\n",
       "    </tr>\n",
       "    <tr>\n",
       "      <th>Number of params</th>\n",
       "      <td>53110</td>\n",
       "      <td>14006</td>\n",
       "      <td>11446</td>\n",
       "    </tr>\n",
       "    <tr>\n",
       "      <th>Train time</th>\n",
       "      <td>913.521</td>\n",
       "      <td>1722.05</td>\n",
       "      <td>1402.99</td>\n",
       "    </tr>\n",
       "  </tbody>\n",
       "</table>\n",
       "</div>"
      ],
      "text/plain": [
       "                       674       489        87\n",
       "accuracy          0.921667  0.926667     0.825\n",
       "F1-Score          0.920149  0.926178   0.82163\n",
       "Recall            0.921667  0.926667     0.825\n",
       "Precision         0.920927  0.928141  0.825823\n",
       "Number of params     53110     14006     11446\n",
       "Train time         913.521   1722.05   1402.99"
      ]
     },
     "execution_count": 4,
     "metadata": {},
     "output_type": "execute_result"
    }
   ],
   "source": [
    "get_classification_results(results)"
   ]
  },
  {
   "cell_type": "markdown",
   "metadata": {},
   "source": [
    "# Confusion Matrices"
   ]
  },
  {
   "cell_type": "code",
   "execution_count": 5,
   "metadata": {
    "ExecuteTime": {
     "end_time": "2024-11-11T11:53:21.676744Z",
     "start_time": "2024-11-11T11:53:20.518699Z"
    },
    "scrolled": true
   },
   "outputs": [
    {
     "data": {
      "image/png": "[encoded data removed]",
      "text/plain": [
       "<Figure size 360x360 with 1 Axes>"
      ]
     },
     "metadata": {
      "needs_background": "light"
     },
     "output_type": "display_data"
    },
    {
     "name": "stdout",
     "output_type": "stream",
     "text": [
      "              precision    recall  f1-score   support\n",
      "\n",
      "           0     0.8868    0.9400    0.9126       100\n",
      "           1     0.8942    0.9300    0.9118       100\n",
      "           2     0.8588    0.7300    0.7892       100\n",
      "           3     1.0000    1.0000    1.0000       100\n",
      "           4     0.8857    0.9300    0.9073       100\n",
      "           5     1.0000    1.0000    1.0000       100\n",
      "\n",
      "    accuracy                         0.9217       600\n",
      "   macro avg     0.9209    0.9217    0.9201       600\n",
      "weighted avg     0.9209    0.9217    0.9201       600\n",
      "\n"
     ]
    },
    {
     "data": {
      "image/png": "[encoded data removed]",
      "text/plain": [
       "<Figure size 360x360 with 1 Axes>"
      ]
     },
     "metadata": {
      "needs_background": "light"
     },
     "output_type": "display_data"
    },
    {
     "name": "stdout",
     "output_type": "stream",
     "text": [
      "              precision    recall  f1-score   support\n",
      "\n",
      "           0     0.8972    0.9600    0.9275       100\n",
      "           1     0.8636    0.9500    0.9048       100\n",
      "           2     0.8421    0.8000    0.8205       100\n",
      "           3     1.0000    1.0000    1.0000       100\n",
      "           4     0.9659    0.8500    0.9043       100\n",
      "           5     1.0000    1.0000    1.0000       100\n",
      "\n",
      "    accuracy                         0.9267       600\n",
      "   macro avg     0.9281    0.9267    0.9262       600\n",
      "weighted avg     0.9281    0.9267    0.9262       600\n",
      "\n"
     ]
    },
    {
     "data": {
      "image/png": "[encoded data removed]",
      "text/plain": [
       "<Figure size 360x360 with 1 Axes>"
      ]
     },
     "metadata": {
      "needs_background": "light"
     },
     "output_type": "display_data"
    },
    {
     "name": "stdout",
     "output_type": "stream",
     "text": [
      "              precision    recall  f1-score   support\n",
      "\n",
      "           0     0.8900    0.8900    0.8900       100\n",
      "           1     0.6348    0.7300    0.6791       100\n",
      "           2     0.6944    0.5000    0.5814       100\n",
      "           3     0.9901    1.0000    0.9950       100\n",
      "           4     0.7456    0.8500    0.7944       100\n",
      "           5     1.0000    0.9800    0.9899       100\n",
      "\n",
      "    accuracy                         0.8250       600\n",
      "   macro avg     0.8258    0.8250    0.8216       600\n",
      "weighted avg     0.8258    0.8250    0.8216       600\n",
      "\n"
     ]
    }
   ],
   "source": [
    "label_names = [\"BD\", \"HE\", \"ME\", \"SAT\", \"SR\", \"WW\"]\n",
    "for i in results:\n",
    "    plot_conf_mat((results[i][\"y_pred\"]), (results[i][\"y_test\"]), label_names, i)"
   ]
  },
  {
   "cell_type": "code",
   "execution_count": null,
   "metadata": {},
   "outputs": [],
   "source": []
  }
 ],
 "metadata": {
  "kernelspec": {
   "display_name": "Python 3",
   "language": "python",
   "name": "python3"
  },
  "language_info": {
   "codemirror_mode": {
    "name": "ipython",
    "version": 3
   },
   "file_extension": ".py",
   "mimetype": "text/x-python",
   "name": "python",
   "nbconvert_exporter": "python",
   "pygments_lexer": "ipython3",
   "version": "3.8.5"
  },
  "toc": {
   "base_numbering": 1,
   "nav_menu": {},
   "number_sections": false,
   "sideBar": true,
   "skip_h1_title": false,
   "title_cell": "Table of Contents",
   "title_sidebar": "Contents",
   "toc_cell": false,
   "toc_position": {},
   "toc_section_display": true,
   "toc_window_display": false
  },
  "varInspector": {
   "cols": {
    "lenName": 16,
    "lenType": 16,
    "lenVar": 40
   },
   "kernels_config": {
    "python": {
     "delete_cmd_postfix": "",
     "delete_cmd_prefix": "del ",
     "library": "var_list.py",
     "varRefreshCmd": "print(var_dic_list())"
    },
    "r": {
     "delete_cmd_postfix": ") ",
     "delete_cmd_prefix": "rm(",
     "library": "var_list.r",
     "varRefreshCmd": "cat(var_dic_list()) "
    }
   },
   "types_to_exclude": [
    "module",
    "function",
    "builtin_function_or_method",
    "instance",
    "_Feature"
   ],
   "window_display": false
  }
 },
 "nbformat": 4,
 "nbformat_minor": 4
}

{
 "cells": [
  {
   "cell_type": "code",
   "execution_count": 1,
   "id": "a190bb51",
   "metadata": {
    "ExecuteTime": {
     "end_time": "2025-07-07T07:39:36.689852Z",
     "start_time": "2025-07-07T07:39:34.636536Z"
    }
   },
   "outputs": [],
   "source": [
    "import pickle\n",
    "import itertools\n",
    "import time\n",
    "import os\n",
    "import statistics\n",
    "from time import time\n",
    "\n",
    "import pandas as pd\n",
    "import numpy as np\n",
    "import matplotlib.pyplot as plt\n",
    "import seaborn as sns\n",
    "\n",
    "from evaluation.regression import generate_reg_results, get_regression_norm_results, get_regression_div_results\n",
    "\n",
    "from tensorflow.keras.models import load_model"
   ]
  },
  {
   "cell_type": "code",
   "execution_count": 2,
   "id": "bb93e054",
   "metadata": {
    "ExecuteTime": {
     "end_time": "2025-07-07T07:39:37.776331Z",
     "start_time": "2025-07-07T07:39:36.691536Z"
    }
   },
   "outputs": [],
   "source": [
    "pickle_base = '/workspace/phylo_estimation/data_inference/pickles/old_sims/dataset_'\n",
    "res_path = \"/workspace/phylo_estimation/data_inference/models/reg/\"\n",
    "n_tips = ['674', '489', '87']\n",
    "\n",
    "data = dict()\n",
    "for i in n_tips:\n",
    "    with open(pickle_base + i + \"_10k.pkl\", 'rb') as f:\n",
    "        data[i] = pickle.load(f)"
   ]
  },
  {
   "cell_type": "code",
   "execution_count": 3,
   "id": "44fd1a00",
   "metadata": {
    "ExecuteTime": {
     "end_time": "2025-07-07T07:39:37.781837Z",
     "start_time": "2025-07-07T07:39:37.777944Z"
    }
   },
   "outputs": [
    {
     "name": "stdout",
     "output_type": "stream",
     "text": [
      "(6000,)\n"
     ]
    }
   ],
   "source": [
    "print(np.array(data['674']['y_reg_test']).shape)"
   ]
  },
  {
   "cell_type": "code",
   "execution_count": 66,
   "id": "7e39e24e",
   "metadata": {
    "ExecuteTime": {
     "end_time": "2025-07-04T14:09:34.499303Z",
     "start_time": "2025-07-04T13:32:16.241349Z"
    }
   },
   "outputs": [
    {
     "name": "stdout",
     "output_type": "stream",
     "text": [
      "674_10k/BD_sim_10k_rescale.csv\n",
      "BD\n",
      "(20000, 1068, 2)\n",
      "(20000, 1068, 2)\n",
      "(1068, 2)\n",
      "0.33239700374531833\n",
      "[0.32677903 0.33801498]\n",
      "674_10k/HE_sim_10k_rescale.csv\n",
      "HE\n",
      "(20000, 991, 2)\n",
      "(20000, 991, 2)\n",
      "(991, 2)\n",
      "0.30373360242179614\n",
      "[0.26034309 0.34712412]\n",
      "674_10k/ME_rho_sim_10k_rescale.csv\n",
      "ME\n",
      "(20000, 972, 4)\n",
      "(20000, 972, 4)\n",
      "(972, 4)\n",
      "0.4506172839506173\n",
      "[0.5617284  0.64506173 0.47222222 0.12345679]\n",
      "674_10k/SAT_sim_10k_rescale.csv\n",
      "SAT\n",
      "(20000, 963, 1)\n",
      "(20000, 963, 1)\n",
      "(963, 1)\n",
      "0.9460020768431984\n",
      "[0.94600208]\n",
      "674_10k/SR_sim_10k_rescale.csv\n",
      "SR\n",
      "(20000, 1020, 5)\n",
      "(20000, 1020, 5)\n",
      "(1020, 5)\n",
      "0.31470588235294117\n",
      "[0.5872549  0.33627451 0.11666667 0.15784314 0.3754902 ]\n",
      "674_10k/WW_sim_10k_rescale.csv\n",
      "WW\n",
      "(20000, 986, 5)\n",
      "(20000, 986, 5)\n",
      "(986, 5)\n",
      "0.552738336713996\n",
      "[0.65212982 0.86105477 0.45943205 0.05578093 0.73529412]\n",
      "489_10k/BD_sim_10k_rescale.csv\n",
      "BD\n",
      "(20000, 1047, 2)\n",
      "(20000, 1047, 2)\n"
     ]
    },
    {
     "ename": "ValueError",
     "evalue": "all input arrays must have the same shape",
     "output_type": "error",
     "traceback": [
      "\u001b[0;31m---------------------------------------------------------------------------\u001b[0m",
      "\u001b[0;31mValueError\u001b[0m                                Traceback (most recent call last)",
      "\u001b[0;32m<ipython-input-66-2c61f3ca9eb3>\u001b[0m in \u001b[0;36m<module>\u001b[0;34m\u001b[0m\n\u001b[1;32m     51\u001b[0m \u001b[0;34m\u001b[0m\u001b[0m\n\u001b[1;32m     52\u001b[0m         \u001b[0my_test\u001b[0m \u001b[0;34m=\u001b[0m \u001b[0mnp\u001b[0m\u001b[0;34m.\u001b[0m\u001b[0marray\u001b[0m\u001b[0;34m(\u001b[0m\u001b[0mdata\u001b[0m\u001b[0;34m[\u001b[0m\u001b[0;34m\"674\"\u001b[0m\u001b[0;34m]\u001b[0m\u001b[0;34m[\u001b[0m\u001b[0;34m\"y_reg_test\"\u001b[0m\u001b[0;34m]\u001b[0m\u001b[0;34m[\u001b[0m\u001b[0mdata\u001b[0m\u001b[0;34m[\u001b[0m\u001b[0mi\u001b[0m\u001b[0;34m]\u001b[0m\u001b[0;34m[\u001b[0m\u001b[0;34m\"div_info_test\"\u001b[0m\u001b[0;34m]\u001b[0m \u001b[0;34m==\u001b[0m \u001b[0mlabel\u001b[0m\u001b[0;34m]\u001b[0m\u001b[0;34m)\u001b[0m\u001b[0;34m\u001b[0m\u001b[0;34m\u001b[0m\u001b[0m\n\u001b[0;32m---> 53\u001b[0;31m         \u001b[0my_test\u001b[0m \u001b[0;34m=\u001b[0m \u001b[0mnp\u001b[0m\u001b[0;34m.\u001b[0m\u001b[0mstack\u001b[0m\u001b[0;34m(\u001b[0m\u001b[0my_test\u001b[0m\u001b[0;34m)\u001b[0m\u001b[0;34m\u001b[0m\u001b[0;34m\u001b[0m\u001b[0m\n\u001b[0m\u001b[1;32m     54\u001b[0m         \u001b[0mprint\u001b[0m\u001b[0;34m(\u001b[0m\u001b[0my_test\u001b[0m\u001b[0;34m.\u001b[0m\u001b[0mshape\u001b[0m\u001b[0;34m)\u001b[0m\u001b[0;34m\u001b[0m\u001b[0;34m\u001b[0m\u001b[0m\n\u001b[1;32m     55\u001b[0m         \u001b[0men_intervalo\u001b[0m \u001b[0;34m=\u001b[0m \u001b[0;34m(\u001b[0m\u001b[0my_test\u001b[0m \u001b[0;34m>=\u001b[0m \u001b[0mlower_bound\u001b[0m\u001b[0;34m)\u001b[0m \u001b[0;34m&\u001b[0m \u001b[0;34m(\u001b[0m\u001b[0my_test\u001b[0m \u001b[0;34m<=\u001b[0m \u001b[0mupper_bound\u001b[0m\u001b[0;34m)\u001b[0m\u001b[0;34m\u001b[0m\u001b[0;34m\u001b[0m\u001b[0m\n",
      "\u001b[0;32m<__array_function__ internals>\u001b[0m in \u001b[0;36mstack\u001b[0;34m(*args, **kwargs)\u001b[0m\n",
      "\u001b[0;32m/opt/conda/lib/python3.8/site-packages/numpy/core/shape_base.py\u001b[0m in \u001b[0;36mstack\u001b[0;34m(arrays, axis, out)\u001b[0m\n\u001b[1;32m    425\u001b[0m     \u001b[0mshapes\u001b[0m \u001b[0;34m=\u001b[0m \u001b[0;34m{\u001b[0m\u001b[0marr\u001b[0m\u001b[0;34m.\u001b[0m\u001b[0mshape\u001b[0m \u001b[0;32mfor\u001b[0m \u001b[0marr\u001b[0m \u001b[0;32min\u001b[0m \u001b[0marrays\u001b[0m\u001b[0;34m}\u001b[0m\u001b[0;34m\u001b[0m\u001b[0;34m\u001b[0m\u001b[0m\n\u001b[1;32m    426\u001b[0m     \u001b[0;32mif\u001b[0m \u001b[0mlen\u001b[0m\u001b[0;34m(\u001b[0m\u001b[0mshapes\u001b[0m\u001b[0;34m)\u001b[0m \u001b[0;34m!=\u001b[0m \u001b[0;36m1\u001b[0m\u001b[0;34m:\u001b[0m\u001b[0;34m\u001b[0m\u001b[0;34m\u001b[0m\u001b[0m\n\u001b[0;32m--> 427\u001b[0;31m         \u001b[0;32mraise\u001b[0m \u001b[0mValueError\u001b[0m\u001b[0;34m(\u001b[0m\u001b[0;34m'all input arrays must have the same shape'\u001b[0m\u001b[0;34m)\u001b[0m\u001b[0;34m\u001b[0m\u001b[0;34m\u001b[0m\u001b[0m\n\u001b[0m\u001b[1;32m    428\u001b[0m \u001b[0;34m\u001b[0m\u001b[0m\n\u001b[1;32m    429\u001b[0m     \u001b[0mresult_ndim\u001b[0m \u001b[0;34m=\u001b[0m \u001b[0marrays\u001b[0m\u001b[0;34m[\u001b[0m\u001b[0;36m0\u001b[0m\u001b[0;34m]\u001b[0m\u001b[0;34m.\u001b[0m\u001b[0mndim\u001b[0m \u001b[0;34m+\u001b[0m \u001b[0;36m1\u001b[0m\u001b[0;34m\u001b[0m\u001b[0;34m\u001b[0m\u001b[0m\n",
      "\u001b[0;31mValueError\u001b[0m: all input arrays must have the same shape"
     ]
    }
   ],
   "source": [
    "for i in n_tips:\n",
    "    for label in np.unique(data[i][\"div_info_test\"]):\n",
    "        print(label)\n",
    "        div_scenario = label.split(\"/\")[1].split(\"_\")[0]\n",
    "        print(div_scenario)\n",
    "\n",
    "        model_path = res_path + div_scenario + \"/\" + i + \"_regression_norm_\"\n",
    "        nn_model = load_model(model_path + \"model.keras\")\n",
    "        preds = []\n",
    "        num_samples = 20000\n",
    "        for _ in range(num_samples):\n",
    "\n",
    "            p = nn_model(\n",
    "                np.expand_dims(\n",
    "                    data[i][\"X_test\"][data[i][\"div_info_test\"] == label], axis=2\n",
    "                ),\n",
    "                training=True,\n",
    "            )  # dropout is active here\n",
    "            preds.append(p.numpy())  # if using eager execution\n",
    "\n",
    "        preds = np.array(preds)  # shape: (num_samples, test_size, 4)\n",
    "      \n",
    "\n",
    "        resc_factor_test = data[i][\"resc_factor_test\"][\n",
    "            data[i][\"div_info_test\"] == label\n",
    "        ]\n",
    "\n",
    "        if \"BD\" in label or \"HE\" in label or \"SAT\" in label:\n",
    "            preds[:, :, 0] = preds[:, :, 0] / resc_factor_test\n",
    "\n",
    "        elif \"ME\" in label:\n",
    "            preds[:, :, 0] = preds[:, :, 0] / resc_factor_test\n",
    "            preds[:, :, 2] = preds[:, :, 2] / resc_factor_test\n",
    "        else:\n",
    "            preds[:, :, 0] = preds[:, :, 0] / resc_factor_test\n",
    "            preds[:, :, 1] = preds[:, :, 1] / resc_factor_test\n",
    "            preds[:, :, 4] = preds[:, :, 4] / resc_factor_test\n",
    "            \n",
    "        mean_pred = np.mean(preds, axis=0)  # shape: (1068, 2)\n",
    "        desviacion = np.std(preds, axis=0)  # shape: (1068, 2)\n",
    "\n",
    "        se = desviacion / np.sqrt(num_samples)\n",
    "        z = 2.58\n",
    "\n",
    "        #lower_bound = mean_pred - z * se\n",
    "        #upper_bound = mean_pred + z * se\n",
    "        \n",
    "        lower_bound, upper_bound = np.percentile(preds, [2.5, 97.5], axis= 0)\n",
    "\n",
    "\n",
    "        y_test = np.array(data[\"674\"][\"y_reg_test\"][data[i][\"div_info_test\"] == label])\n",
    "        y_test = np.stack(y_test)\n",
    "        \n",
    "        en_intervalo = (y_test >= lower_bound) & (y_test <= upper_bound)\n",
    "\n",
    "        both_coverage = np.mean(en_intervalo)\n",
    "        parameter_coverage = np.mean(en_intervalo, axis=0)\n",
    "        print(both_coverage)\n",
    "        print(parameter_coverage)\n",
    "#\n",
    "#\n",
    "#"
   ]
  },
  {
   "cell_type": "code",
   "execution_count": 52,
   "id": "7f8fe930",
   "metadata": {
    "ExecuteTime": {
     "end_time": "2025-07-04T13:09:06.664044Z",
     "start_time": "2025-07-04T13:05:57.622212Z"
    },
    "scrolled": true
   },
   "outputs": [
    {
     "name": "stdout",
     "output_type": "stream",
     "text": [
      "BD\n",
      "(10000, 1068, 2)\n",
      "(10000, 1068, 2)\n",
      "(1068, 2)\n",
      "0.3309925093632959\n",
      "[0.32677903 0.33520599]\n"
     ]
    }
   ],
   "source": [
    "\n",
    "div_scenario = \"BD\"\n",
    "label = \"674_10k/BD_sim_10k_rescale.csv\"\n",
    "print(div_scenario)\n",
    "\n",
    "model_path = res_path + div_scenario + \"/\" + i + \"_regression_norm_\"\n",
    "nn_model = load_model(model_path + \"model.keras\")\n",
    "preds = []\n",
    "num_samples = 10000\n",
    "for _ in range(num_samples):\n",
    "\n",
    "    p = nn_model(\n",
    "        np.expand_dims(\n",
    "            data[i][\"X_test\"][data[i][\"div_info_test\"] == label], axis=2\n",
    "        ),\n",
    "        training=True,\n",
    "    )  # dropout is active here\n",
    "    preds.append(p.numpy())  # if using eager execution\n",
    "\n",
    "preds = np.array(preds)  # shape: (num_samples, test_size, 4)\n",
    "print(preds.shape)\n",
    "\n",
    "resc_factor_test = data[i][\"resc_factor_test\"][\n",
    "    data[i][\"div_info_test\"] == label\n",
    "]\n",
    "\n",
    "if \"BD\" in label or \"HE\" in label or \"SAT\" in label:\n",
    "    preds[:, :, 0] = preds[:, :, 0] / resc_factor_test\n",
    "\n",
    "elif \"ME\" in label:\n",
    "    preds[:, :, 0] = preds[:, :, 0] / resc_factor_test\n",
    "    preds[:, :, 2] = preds[:, :, 2] / resc_factor_test\n",
    "else:\n",
    "    preds[:, :, 0] = preds[:, :, 0] / resc_factor_test\n",
    "    preds[:, :, 1] = preds[:, :, 1] / resc_factor_test\n",
    "    preds[:, :, 4] = preds[:, :, 4] / resc_factor_test\n",
    "\n",
    "print(preds.shape)\n",
    "mean_pred = np.mean(preds, axis=0)  # shape: (1068, 2)\n",
    "desviacion = np.std(preds, axis=0)  # shape: (1068, 2)\n",
    "\n",
    "se = desviacion / np.sqrt(num_samples)\n",
    "z = 2.58\n",
    "\n",
    "#lower_bound = mean_pred - z * se\n",
    "#upper_bound = mean_pred + z * se\n",
    "\n",
    "lower_bound, upper_bound = np.percentile(preds, [2.5, 97.5], axis= 0)\n",
    "\n",
    "\n",
    "y_test = np.array(data[\"674\"][\"y_reg_test\"][data[i][\"div_info_test\"] == label])\n",
    "y_test = np.stack(y_test)\n",
    "print(y_test.shape)\n",
    "en_intervalo = (y_test >= lower_bound) & (y_test <= upper_bound)\n",
    "\n",
    "both_coverage = np.mean(en_intervalo)\n",
    "parameter_coverage = np.mean(en_intervalo, axis=0)\n",
    "print(both_coverage)\n",
    "print(parameter_coverage)\n",
    "\n",
    "\n"
   ]
  },
  {
   "cell_type": "code",
   "execution_count": 65,
   "id": "e98c3e48",
   "metadata": {
    "ExecuteTime": {
     "end_time": "2025-07-04T13:19:17.884955Z",
     "start_time": "2025-07-04T13:19:17.233261Z"
    }
   },
   "outputs": [
    {
     "data": {
      "text/plain": [
       "(array([[0.000e+00, 0.000e+00, 0.000e+00, 0.000e+00, 0.000e+00, 0.000e+00,\n",
       "         0.000e+00, 0.000e+00, 0.000e+00, 0.000e+00, 0.000e+00, 0.000e+00,\n",
       "         0.000e+00, 0.000e+00, 0.000e+00, 0.000e+00, 0.000e+00, 0.000e+00,\n",
       "         0.000e+00, 0.000e+00, 0.000e+00, 0.000e+00, 0.000e+00, 0.000e+00,\n",
       "         0.000e+00, 0.000e+00, 0.000e+00, 0.000e+00, 0.000e+00, 0.000e+00,\n",
       "         0.000e+00, 0.000e+00, 0.000e+00, 0.000e+00, 0.000e+00, 0.000e+00,\n",
       "         0.000e+00, 0.000e+00, 0.000e+00, 0.000e+00, 0.000e+00, 0.000e+00,\n",
       "         0.000e+00, 0.000e+00, 0.000e+00, 0.000e+00, 0.000e+00, 0.000e+00,\n",
       "         0.000e+00, 0.000e+00, 0.000e+00, 0.000e+00, 0.000e+00, 0.000e+00,\n",
       "         0.000e+00, 0.000e+00, 0.000e+00, 0.000e+00, 0.000e+00, 0.000e+00,\n",
       "         0.000e+00, 0.000e+00, 0.000e+00, 0.000e+00, 0.000e+00, 0.000e+00,\n",
       "         0.000e+00, 0.000e+00, 0.000e+00, 0.000e+00, 0.000e+00, 0.000e+00,\n",
       "         0.000e+00, 0.000e+00, 0.000e+00, 0.000e+00, 0.000e+00, 0.000e+00,\n",
       "         0.000e+00, 0.000e+00, 0.000e+00, 0.000e+00, 0.000e+00, 0.000e+00,\n",
       "         0.000e+00, 0.000e+00, 0.000e+00, 0.000e+00, 0.000e+00, 0.000e+00,\n",
       "         0.000e+00, 0.000e+00, 0.000e+00, 0.000e+00, 0.000e+00, 0.000e+00,\n",
       "         0.000e+00, 0.000e+00, 0.000e+00, 0.000e+00, 0.000e+00, 0.000e+00,\n",
       "         0.000e+00, 0.000e+00, 0.000e+00, 0.000e+00, 0.000e+00, 0.000e+00,\n",
       "         0.000e+00, 0.000e+00, 0.000e+00, 0.000e+00, 0.000e+00, 0.000e+00,\n",
       "         0.000e+00, 0.000e+00, 0.000e+00, 0.000e+00, 0.000e+00, 0.000e+00,\n",
       "         0.000e+00, 0.000e+00, 0.000e+00, 0.000e+00, 0.000e+00, 0.000e+00,\n",
       "         0.000e+00, 0.000e+00, 0.000e+00, 0.000e+00, 0.000e+00, 0.000e+00,\n",
       "         0.000e+00, 0.000e+00, 0.000e+00, 0.000e+00, 0.000e+00, 0.000e+00,\n",
       "         0.000e+00, 0.000e+00, 0.000e+00, 0.000e+00, 0.000e+00, 0.000e+00,\n",
       "         0.000e+00, 0.000e+00, 0.000e+00, 0.000e+00, 0.000e+00, 0.000e+00,\n",
       "         0.000e+00, 0.000e+00, 0.000e+00, 0.000e+00, 0.000e+00, 0.000e+00,\n",
       "         0.000e+00, 0.000e+00, 0.000e+00, 0.000e+00, 0.000e+00, 0.000e+00,\n",
       "         0.000e+00, 0.000e+00, 0.000e+00, 0.000e+00, 0.000e+00, 0.000e+00,\n",
       "         0.000e+00, 0.000e+00, 0.000e+00, 0.000e+00, 0.000e+00, 0.000e+00,\n",
       "         0.000e+00, 0.000e+00, 0.000e+00, 0.000e+00, 0.000e+00, 0.000e+00,\n",
       "         0.000e+00, 0.000e+00, 0.000e+00, 0.000e+00, 0.000e+00, 1.000e+00,\n",
       "         8.000e+00, 2.300e+01, 7.900e+01, 2.740e+02, 8.200e+02, 1.659e+03,\n",
       "         2.269e+03, 2.126e+03, 1.519e+03, 7.980e+02, 2.910e+02, 1.000e+02,\n",
       "         2.600e+01, 7.000e+00],\n",
       "        [2.540e+02, 3.788e+03, 5.101e+03, 8.370e+02, 1.900e+01, 1.000e+00,\n",
       "         0.000e+00, 0.000e+00, 0.000e+00, 0.000e+00, 0.000e+00, 0.000e+00,\n",
       "         0.000e+00, 0.000e+00, 0.000e+00, 0.000e+00, 0.000e+00, 0.000e+00,\n",
       "         0.000e+00, 0.000e+00, 0.000e+00, 0.000e+00, 0.000e+00, 0.000e+00,\n",
       "         0.000e+00, 0.000e+00, 0.000e+00, 0.000e+00, 0.000e+00, 0.000e+00,\n",
       "         0.000e+00, 0.000e+00, 0.000e+00, 0.000e+00, 0.000e+00, 0.000e+00,\n",
       "         0.000e+00, 0.000e+00, 0.000e+00, 0.000e+00, 0.000e+00, 0.000e+00,\n",
       "         0.000e+00, 0.000e+00, 0.000e+00, 0.000e+00, 0.000e+00, 0.000e+00,\n",
       "         0.000e+00, 0.000e+00, 0.000e+00, 0.000e+00, 0.000e+00, 0.000e+00,\n",
       "         0.000e+00, 0.000e+00, 0.000e+00, 0.000e+00, 0.000e+00, 0.000e+00,\n",
       "         0.000e+00, 0.000e+00, 0.000e+00, 0.000e+00, 0.000e+00, 0.000e+00,\n",
       "         0.000e+00, 0.000e+00, 0.000e+00, 0.000e+00, 0.000e+00, 0.000e+00,\n",
       "         0.000e+00, 0.000e+00, 0.000e+00, 0.000e+00, 0.000e+00, 0.000e+00,\n",
       "         0.000e+00, 0.000e+00, 0.000e+00, 0.000e+00, 0.000e+00, 0.000e+00,\n",
       "         0.000e+00, 0.000e+00, 0.000e+00, 0.000e+00, 0.000e+00, 0.000e+00,\n",
       "         0.000e+00, 0.000e+00, 0.000e+00, 0.000e+00, 0.000e+00, 0.000e+00,\n",
       "         0.000e+00, 0.000e+00, 0.000e+00, 0.000e+00, 0.000e+00, 0.000e+00,\n",
       "         0.000e+00, 0.000e+00, 0.000e+00, 0.000e+00, 0.000e+00, 0.000e+00,\n",
       "         0.000e+00, 0.000e+00, 0.000e+00, 0.000e+00, 0.000e+00, 0.000e+00,\n",
       "         0.000e+00, 0.000e+00, 0.000e+00, 0.000e+00, 0.000e+00, 0.000e+00,\n",
       "         0.000e+00, 0.000e+00, 0.000e+00, 0.000e+00, 0.000e+00, 0.000e+00,\n",
       "         0.000e+00, 0.000e+00, 0.000e+00, 0.000e+00, 0.000e+00, 0.000e+00,\n",
       "         0.000e+00, 0.000e+00, 0.000e+00, 0.000e+00, 0.000e+00, 0.000e+00,\n",
       "         0.000e+00, 0.000e+00, 0.000e+00, 0.000e+00, 0.000e+00, 0.000e+00,\n",
       "         0.000e+00, 0.000e+00, 0.000e+00, 0.000e+00, 0.000e+00, 0.000e+00,\n",
       "         0.000e+00, 0.000e+00, 0.000e+00, 0.000e+00, 0.000e+00, 0.000e+00,\n",
       "         0.000e+00, 0.000e+00, 0.000e+00, 0.000e+00, 0.000e+00, 0.000e+00,\n",
       "         0.000e+00, 0.000e+00, 0.000e+00, 0.000e+00, 0.000e+00, 0.000e+00,\n",
       "         0.000e+00, 0.000e+00, 0.000e+00, 0.000e+00, 0.000e+00, 0.000e+00,\n",
       "         0.000e+00, 0.000e+00, 0.000e+00, 0.000e+00, 0.000e+00, 0.000e+00,\n",
       "         0.000e+00, 0.000e+00, 0.000e+00, 0.000e+00, 0.000e+00, 0.000e+00,\n",
       "         0.000e+00, 0.000e+00, 0.000e+00, 0.000e+00, 0.000e+00, 0.000e+00,\n",
       "         0.000e+00, 0.000e+00, 0.000e+00, 0.000e+00, 0.000e+00, 0.000e+00,\n",
       "         0.000e+00, 0.000e+00]]),\n",
       " array([0.20023826, 0.21619895, 0.23215963, 0.24812032, 0.264081  ,\n",
       "        0.2800417 , 0.2960024 , 0.31196308, 0.32792374, 0.34388444,\n",
       "        0.35984513, 0.37580582, 0.39176652, 0.40772718, 0.42368788,\n",
       "        0.43964857, 0.45560926, 0.47156996, 0.48753062, 0.50349134,\n",
       "        0.519452  , 0.53541267, 0.55137336, 0.56733406, 0.58329475,\n",
       "        0.59925544, 0.61521614, 0.6311768 , 0.6471375 , 0.6630982 ,\n",
       "        0.67905885, 0.69501954, 0.71098024, 0.72694093, 0.7429016 ,\n",
       "        0.7588623 , 0.774823  , 0.7907837 , 0.8067444 , 0.8227051 ,\n",
       "        0.8386657 , 0.8546264 , 0.8705871 , 0.8865478 , 0.9025085 ,\n",
       "        0.9184692 , 0.9344299 , 0.9503906 , 0.9663513 , 0.9823119 ,\n",
       "        0.9982726 , 1.0142334 , 1.030194  , 1.0461547 , 1.0621153 ,\n",
       "        1.078076  , 1.0940367 , 1.1099974 , 1.1259581 , 1.1419188 ,\n",
       "        1.1578795 , 1.1738402 , 1.1898009 , 1.2057616 , 1.2217222 ,\n",
       "        1.2376829 , 1.2536436 , 1.2696043 , 1.285565  , 1.3015257 ,\n",
       "        1.3174864 , 1.3334471 , 1.3494078 , 1.3653685 , 1.381329  ,\n",
       "        1.3972898 , 1.4132504 , 1.4292111 , 1.4451718 , 1.4611325 ,\n",
       "        1.4770932 , 1.4930539 , 1.5090146 , 1.5249753 , 1.540936  ,\n",
       "        1.5568967 , 1.5728574 , 1.5888181 , 1.6047788 , 1.6207395 ,\n",
       "        1.6367002 , 1.6526608 , 1.6686215 , 1.6845821 , 1.7005428 ,\n",
       "        1.7165035 , 1.7324642 , 1.7484249 , 1.7643856 , 1.7803463 ,\n",
       "        1.796307  , 1.8122677 , 1.8282284 , 1.844189  , 1.8601497 ,\n",
       "        1.8761104 , 1.8920711 , 1.9080318 , 1.9239925 , 1.9399532 ,\n",
       "        1.9559139 , 1.9718746 , 1.9878353 , 2.0037959 , 2.0197566 ,\n",
       "        2.0357172 , 2.051678  , 2.0676386 , 2.0835993 , 2.09956   ,\n",
       "        2.1155207 , 2.1314814 , 2.147442  , 2.1634028 , 2.1793635 ,\n",
       "        2.1953242 , 2.2112849 , 2.2272456 , 2.2432063 , 2.259167  ,\n",
       "        2.2751276 , 2.2910883 , 2.307049  , 2.3230097 , 2.3389704 ,\n",
       "        2.354931  , 2.3708918 , 2.3868525 , 2.4028132 , 2.418774  ,\n",
       "        2.4347346 , 2.4506953 , 2.4666557 , 2.4826164 , 2.498577  ,\n",
       "        2.5145378 , 2.5304985 , 2.5464592 , 2.56242   , 2.5783806 ,\n",
       "        2.5943413 , 2.610302  , 2.6262627 , 2.6422234 , 2.658184  ,\n",
       "        2.6741447 , 2.6901054 , 2.7060661 , 2.7220268 , 2.7379875 ,\n",
       "        2.7539482 , 2.769909  , 2.7858696 , 2.8018303 , 2.817791  ,\n",
       "        2.8337517 , 2.8497124 , 2.865673  , 2.8816338 , 2.8975945 ,\n",
       "        2.9135551 , 2.9295158 , 2.9454765 , 2.9614372 , 2.977398  ,\n",
       "        2.9933586 , 3.0093193 , 3.02528   , 3.0412407 , 3.0572014 ,\n",
       "        3.073162  , 3.0891225 , 3.1050832 , 3.121044  , 3.1370046 ,\n",
       "        3.1529653 , 3.168926  , 3.1848867 , 3.2008474 , 3.216808  ,\n",
       "        3.2327688 , 3.2487295 , 3.2646902 , 3.2806509 , 3.2966115 ,\n",
       "        3.3125722 , 3.328533  , 3.3444936 , 3.3604543 , 3.376415  ,\n",
       "        3.3923757 ], dtype=float32),\n",
       " <a list of 2 BarContainer objects>)"
      ]
     },
     "execution_count": 65,
     "metadata": {},
     "output_type": "execute_result"
    },
    {
     "data": {
      "image/png": "[encoded data removed]",
      "text/plain": [
       "<Figure size 432x288 with 1 Axes>"
      ]
     },
     "metadata": {
      "needs_background": "light"
     },
     "output_type": "display_data"
    }
   ],
   "source": [
    "plt.hist(preds[:,0], bins=200)"
   ]
  },
  {
   "cell_type": "code",
   "execution_count": 54,
   "id": "b5f929b1",
   "metadata": {
    "ExecuteTime": {
     "end_time": "2025-07-04T13:09:06.950867Z",
     "start_time": "2025-07-04T13:09:06.947903Z"
    }
   },
   "outputs": [
    {
     "data": {
      "text/plain": [
       "array([[3.5672893 , 0.18372218],\n",
       "       [2.37762767, 0.3533219 ],\n",
       "       [3.80121484, 0.41666888],\n",
       "       ...,\n",
       "       [2.97867352, 0.37128274],\n",
       "       [1.53187083, 0.27387738],\n",
       "       [1.20944413, 0.2808607 ]])"
      ]
     },
     "execution_count": 54,
     "metadata": {},
     "output_type": "execute_result"
    }
   ],
   "source": [
    "y_test"
   ]
  },
  {
   "cell_type": "code",
   "execution_count": 55,
   "id": "c09922cc",
   "metadata": {
    "ExecuteTime": {
     "end_time": "2025-07-04T13:09:06.954591Z",
     "start_time": "2025-07-04T13:09:06.952122Z"
    }
   },
   "outputs": [
    {
     "data": {
      "text/plain": [
       "array([[3.2803333 , 0.23472236],\n",
       "       [2.3447196 , 0.35185626],\n",
       "       [3.8638399 , 0.40523735],\n",
       "       ...,\n",
       "       [2.6783366 , 0.39569965],\n",
       "       [1.5230019 , 0.2957781 ],\n",
       "       [1.2772254 , 0.2536818 ]], dtype=float32)"
      ]
     },
     "execution_count": 55,
     "metadata": {},
     "output_type": "execute_result"
    }
   ],
   "source": [
    "mean_pred"
   ]
  },
  {
   "cell_type": "code",
   "execution_count": 56,
   "id": "07c49050",
   "metadata": {
    "ExecuteTime": {
     "end_time": "2025-07-04T13:09:06.958053Z",
     "start_time": "2025-07-04T13:09:06.955465Z"
    }
   },
   "outputs": [
    {
     "data": {
      "text/plain": [
       "array([[3.22728752, 0.2161428 ],\n",
       "       [2.26233555, 0.30619409],\n",
       "       [3.66325019, 0.34251763],\n",
       "       ...,\n",
       "       [2.54806421, 0.33744058],\n",
       "       [1.49056292, 0.26603029],\n",
       "       [1.25555132, 0.2331695 ]])"
      ]
     },
     "execution_count": 56,
     "metadata": {},
     "output_type": "execute_result"
    }
   ],
   "source": [
    "lower_bound"
   ]
  },
  {
   "cell_type": "code",
   "execution_count": 57,
   "id": "b41287b7",
   "metadata": {
    "ExecuteTime": {
     "end_time": "2025-07-04T13:09:06.961515Z",
     "start_time": "2025-07-04T13:09:06.959162Z"
    }
   },
   "outputs": [
    {
     "data": {
      "text/plain": [
       "array([[3.33554763, 0.25418885],\n",
       "       [2.42402083, 0.40071492],\n",
       "       [4.05817037, 0.47147809],\n",
       "       ...,\n",
       "       [2.80421492, 0.45696637],\n",
       "       [1.55352598, 0.32792691],\n",
       "       [1.29919945, 0.27619626]])"
      ]
     },
     "execution_count": 57,
     "metadata": {},
     "output_type": "execute_result"
    }
   ],
   "source": [
    "upper_bound"
   ]
  },
  {
   "cell_type": "code",
   "execution_count": 58,
   "id": "c54da8b3",
   "metadata": {
    "ExecuteTime": {
     "end_time": "2025-07-04T13:09:06.964856Z",
     "start_time": "2025-07-04T13:09:06.962380Z"
    }
   },
   "outputs": [
    {
     "data": {
      "text/plain": [
       "array([[False, False],\n",
       "       [ True,  True],\n",
       "       [ True,  True],\n",
       "       ...,\n",
       "       [False,  True],\n",
       "       [ True,  True],\n",
       "       [False, False]])"
      ]
     },
     "execution_count": 58,
     "metadata": {},
     "output_type": "execute_result"
    }
   ],
   "source": [
    "(y_test >= lower_bound) & (y_test <= upper_bound)"
   ]
  },
  {
   "cell_type": "code",
   "execution_count": null,
   "id": "2985d9db",
   "metadata": {},
   "outputs": [],
   "source": []
  },
  {
   "cell_type": "code",
   "execution_count": null,
   "id": "a406bfdc",
   "metadata": {},
   "outputs": [],
   "source": []
  }
 ],
 "metadata": {
  "kernelspec": {
   "display_name": "Python 3",
   "language": "python",
   "name": "python3"
  },
  "language_info": {
   "codemirror_mode": {
    "name": "ipython",
    "version": 3
   },
   "file_extension": ".py",
   "mimetype": "text/x-python",
   "name": "python",
   "nbconvert_exporter": "python",
   "pygments_lexer": "ipython3",
   "version": "3.8.10"
  },
  "toc": {
   "base_numbering": 1,
   "nav_menu": {},
   "number_sections": false,
   "sideBar": true,
   "skip_h1_title": false,
   "title_cell": "Table of Contents",
   "title_sidebar": "Contents",
   "toc_cell": false,
   "toc_position": {},
   "toc_section_display": true,
   "toc_window_display": false
  }
 },
 "nbformat": 4,
 "nbformat_minor": 5
}

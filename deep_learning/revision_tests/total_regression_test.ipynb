{
 "cells": [
  {
   "cell_type": "code",
   "execution_count": 18,
   "id": "43133297",
   "metadata": {
    "ExecuteTime": {
     "end_time": "2025-07-15T15:19:56.435474Z",
     "start_time": "2025-07-15T15:19:56.362364Z"
    }
   },
   "outputs": [],
   "source": [
    "%reload_ext autoreload\n",
    "%autoreload 2"
   ]
  },
  {
   "cell_type": "code",
   "execution_count": 19,
   "id": "8427f3d1",
   "metadata": {
    "ExecuteTime": {
     "end_time": "2025-07-15T15:19:56.647919Z",
     "start_time": "2025-07-15T15:19:56.584622Z"
    }
   },
   "outputs": [],
   "source": [
    "import sys\n",
    "sys.path.append('/workspace/deep_birth_death/src')"
   ]
  },
  {
   "cell_type": "code",
   "execution_count": 20,
   "id": "3c096d56",
   "metadata": {
    "ExecuteTime": {
     "end_time": "2025-07-15T15:19:56.879604Z",
     "start_time": "2025-07-15T15:19:56.817506Z"
    }
   },
   "outputs": [],
   "source": [
    "import pickle\n",
    "import numpy as np\n",
    "import pandas as pd\n",
    "import random\n",
    "from time import time\n",
    "\n",
    "from tensorflow.keras import backend as K\n",
    "from tensorflow.keras.layers import Input, GlobalAveragePooling1D, MaxPooling1D, Concatenate\n",
    "from tensorflow.keras.layers import Dense, Conv1D, Dropout, BatchNormalization, LeakyReLU, ELU\n",
    "from tensorflow.keras import Model\n",
    "from tensorflow.keras.callbacks import EarlyStopping\n",
    "from tensorflow.keras.optimizers import Adam\n",
    "from tensorflow.keras.models import load_model"
   ]
  },
  {
   "cell_type": "code",
   "execution_count": 21,
   "id": "2fd7a91f",
   "metadata": {
    "ExecuteTime": {
     "end_time": "2025-07-15T15:19:57.836881Z",
     "start_time": "2025-07-15T15:19:57.770557Z"
    }
   },
   "outputs": [],
   "source": [
    "def shuffle_three_arrays(a, b, c):\n",
    "    combined = list(zip(a, b, c))\n",
    "    random.shuffle(combined)\n",
    "    a_permuted, b_permuted, c_permuted = zip(*combined)\n",
    "    \n",
    "    return np.array(a_permuted), np.array(b_permuted), np.array(c_permuted)"
   ]
  },
  {
   "cell_type": "markdown",
   "id": "ad07406c",
   "metadata": {},
   "source": [
    "# Load data"
   ]
  },
  {
   "cell_type": "code",
   "execution_count": 22,
   "id": "ca38125c",
   "metadata": {
    "ExecuteTime": {
     "end_time": "2025-07-15T15:20:00.259160Z",
     "start_time": "2025-07-15T15:19:58.554618Z"
    }
   },
   "outputs": [],
   "source": [
    "n_tips = ['674', '489', '87']\n",
    "pickle_base = '/workspace/deep_birth_death/deep_learning/pickles/old_sims/dataset_'\n",
    "data = dict()\n",
    "for i in n_tips:\n",
    "    with open(pickle_base + i + \"_10k.pkl\", 'rb') as f:\n",
    "        data[i] = pickle.load(f)"
   ]
  },
  {
   "cell_type": "code",
   "execution_count": 23,
   "id": "1591beb2",
   "metadata": {
    "ExecuteTime": {
     "end_time": "2025-07-15T15:20:03.695448Z",
     "start_time": "2025-07-15T15:20:02.819603Z"
    }
   },
   "outputs": [],
   "source": [
    "max_size = 674\n",
    "\n",
    "\n",
    "x_train_total= {k: [] for k in [\"BD\", \"HE\", \"ME\", \"SAT\", \"SR\", \"WW\"]}\n",
    "x_test_total= {k: [] for k in [\"BD\", \"HE\", \"ME\", \"SAT\", \"SR\", \"WW\"]}\n",
    "y_train_total= {k: [] for k in [\"BD\", \"HE\", \"ME\", \"SAT\", \"SR\", \"WW\"]}\n",
    "y_test_total= {k: [] for k in [\"BD\", \"HE\", \"ME\", \"SAT\", \"SR\", \"WW\"]}\n",
    "resc_fact_train_total = {k: [] for k in [\"BD\", \"HE\", \"ME\", \"SAT\", \"SR\", \"WW\"]}\n",
    "resc_fact_test_total = {k: [] for k in [\"BD\", \"HE\", \"ME\", \"SAT\", \"SR\", \"WW\"]}\n",
    "\n",
    "for tip in data:\n",
    "\n",
    "    data[tip]['X_train'] = np.pad(data[tip]['X_train'], \n",
    "                                 pad_width=((0,0), (0, max_size - data[tip]['X_train'].shape[1])),\n",
    "                                 mode='constant', constant_values=0)\n",
    "    data[tip]['X_test'] = np.pad(data[tip]['X_test'], \n",
    "                                pad_width=((0,0), (0, max_size - data[tip]['X_test'].shape[1])),\n",
    "                                mode='constant', constant_values=0)\n",
    "\n",
    "    for label in np.unique(data[tip]['div_info_train']):\n",
    "        div_scenario = label.split('/')[1].split('_')[0]\n",
    "\n",
    "        x_train = data[tip]['X_train'][data[tip]['div_info_train'] == label]\n",
    "        x_test = data[tip]['X_test'][data[tip]['div_info_test'] == label]\n",
    "\n",
    "        y_train = data[tip]['y_reg_norm_train'][data[tip]['div_info_train'] == label]\n",
    "        y_test = data[tip]['y_reg_test'][data[tip]['div_info_test'] == label]\n",
    "        \n",
    "        resc_fact_train = data[tip]['resc_factor_train'][data[tip]['div_info_train'] == label]\n",
    "        resc_fact_test = data[tip]['resc_factor_test'][data[tip]['div_info_test'] == label]\n",
    "\n",
    "        if div_scenario in x_train_total:\n",
    "            x_train_total[div_scenario].extend(x_train)\n",
    "            x_test_total[div_scenario].extend(x_test)\n",
    "            y_train_total[div_scenario].extend(y_train)\n",
    "            y_test_total[div_scenario].extend(y_test)\n",
    "            resc_fact_train_total[div_scenario].extend(resc_fact_train)\n",
    "            resc_fact_test_total[div_scenario].extend(resc_fact_test)"
   ]
  },
  {
   "cell_type": "code",
   "execution_count": 24,
   "id": "9f6f99c3",
   "metadata": {
    "ExecuteTime": {
     "end_time": "2025-07-15T15:20:10.051027Z",
     "start_time": "2025-07-15T15:20:08.715922Z"
    },
    "scrolled": true
   },
   "outputs": [
    {
     "name": "stdout",
     "output_type": "stream",
     "text": [
      "BD\n",
      "(26904, 674)\n",
      "(26904, 2)\n",
      "(26904,)\n",
      "(3096, 674)\n",
      "(3096, 2)\n",
      "(3096,)\n",
      "HE\n",
      "(26994, 674)\n",
      "(26994, 2)\n",
      "(26994,)\n",
      "(3006, 674)\n",
      "(3006, 2)\n",
      "(3006,)\n",
      "ME\n",
      "(27056, 674)\n",
      "(27056, 4)\n",
      "(27056,)\n",
      "(2944, 674)\n",
      "(2944, 4)\n",
      "(2944,)\n",
      "SAT\n",
      "(27036, 674)\n",
      "(27036, 1)\n",
      "(27036,)\n",
      "(2964, 674)\n",
      "(2964, 1)\n",
      "(2964,)\n",
      "SR\n",
      "(26972, 674)\n",
      "(26972, 5)\n",
      "(26972,)\n",
      "(3028, 674)\n",
      "(3028, 5)\n",
      "(3028,)\n",
      "WW\n",
      "(27038, 674)\n",
      "(27038, 5)\n",
      "(27038,)\n",
      "(2962, 674)\n",
      "(2962, 5)\n",
      "(2962,)\n"
     ]
    }
   ],
   "source": [
    "for k in x_train_total:\n",
    "    x_train_total[k] = np.array(x_train_total[k])\n",
    "    x_test_total[k] = np.array(x_test_total[k])\n",
    "    y_train_total[k] = np.array(y_train_total[k])\n",
    "    y_test_total[k] = np.array(y_test_total[k])\n",
    "    resc_fact_train_total[k] = np.array(resc_fact_train_total[k])\n",
    "    resc_fact_test_total[k] = np.array(resc_fact_test_total[k])\n",
    "\n",
    "    x_train_total[k], y_train_total[k], resc_fact_train_total[k] = shuffle_three_arrays(x_train_total[k], y_train_total[k], resc_fact_train_total[k])\n",
    "    x_test_total[k], y_test_total[k], resc_fact_test_total[k] = shuffle_three_arrays(x_test_total[k], y_test_total[k], resc_fact_test_total[k])\n",
    "                                                          \n",
    "    print(k)\n",
    "    print(x_train_total[k].shape)\n",
    "    print(y_train_total[k].shape)  \n",
    "    print(resc_fact_train_total[k].shape)\n",
    "    print(x_test_total[k].shape )\n",
    "    print(y_test_total[k].shape )\n",
    "    print(resc_fact_test_total[k].shape)"
   ]
  },
  {
   "cell_type": "markdown",
   "id": "c66c2dc6",
   "metadata": {},
   "source": [
    "# Train the regression model"
   ]
  },
  {
   "cell_type": "code",
   "execution_count": 25,
   "id": "3bb90e4c",
   "metadata": {
    "ExecuteTime": {
     "end_time": "2025-07-15T15:20:11.968357Z",
     "start_time": "2025-07-15T15:20:11.907229Z"
    }
   },
   "outputs": [],
   "source": [
    "def create_nn(n_out, div_scenario = None):\n",
    "    input_data = Input(shape=(674, 1))\n",
    "\n",
    "\n",
    "    x = Conv1D(16, kernel_size=3, padding='same')(input_data)\n",
    "    x = ELU()(x)\n",
    "    x = Conv1D(16, kernel_size=3, padding='same')(x)\n",
    "    x = ELU()(x)\n",
    "    x = MaxPooling1D(pool_size=2)(x)\n",
    "    \n",
    "    x = Conv1D(32, kernel_size=3, padding='same')(x)\n",
    "    x = ELU()(x)\n",
    "    x = Conv1D(32, kernel_size=3, padding='same')(x)\n",
    "    x = ELU()(x)\n",
    "    x = MaxPooling1D(pool_size=2)(x)\n",
    "    \n",
    "    x = Conv1D(64, kernel_size=3, padding='same')(x)\n",
    "    x = ELU()(x)\n",
    "    x = Conv1D(64, kernel_size=3, padding='same')(x)\n",
    "    x = ELU()(x)\n",
    "    x = MaxPooling1D(pool_size=2)(x)\n",
    "    \n",
    "    x = Conv1D(128, kernel_size=3, padding='same')(x)\n",
    "    x = ELU()(x)\n",
    "    x = Dropout(0.3)(x)\n",
    "\n",
    "    x = GlobalAveragePooling1D()(x)\n",
    "\n",
    "    x = Dense(32)(x)\n",
    "    x = ELU()(x)\n",
    "    x = Dropout(0.3)(x)\n",
    "    \n",
    "    x = Dense(n_out)(x)\n",
    "\n",
    "\n",
    "    if div_scenario != \"SAT\":\n",
    "        out_list = []\n",
    "        for i in range(n_out):\n",
    "            y = Dense(32)(x)\n",
    "            y = ELU()(y)\n",
    "            y = Dropout(0.3)(y)\n",
    "            y = Dense(1)(y)\n",
    "            y = LeakyReLU(alpha=10)(y)\n",
    "            out_list.append(y)\n",
    "        output_class = Concatenate()(out_list)\n",
    "        \n",
    "    elif div_scenario == \"WW\":\n",
    "        out_list = []\n",
    "        for i in range(n_out):\n",
    "            y = Dense(32)(x)\n",
    "            y = ELU()(y)\n",
    "            y = Dropout(0.3)(y)\n",
    "            y = Dense(1)(y)\n",
    "            y = Linear(y)\n",
    "            out_list.append(y)\n",
    "        output_class = Concatenate()(out_list)                \n",
    "        \n",
    "    else:\n",
    "        x = Dense(32)(x)\n",
    "        x = ELU()(x)\n",
    "        x = Dropout(0.3)(x)\n",
    "        x = Dense(1)(x)\n",
    "        output_class = LeakyReLU(alpha=10)(x)\n",
    "            \n",
    "    return Model(input_data, output_class)"
   ]
  },
  {
   "cell_type": "code",
   "execution_count": null,
   "id": "1b85cfb2",
   "metadata": {
    "ExecuteTime": {
     "start_time": "2025-07-15T15:20:50.615Z"
    },
    "scrolled": true
   },
   "outputs": [
    {
     "name": "stdout",
     "output_type": "stream",
     "text": [
      "\n",
      "Regression training:  SAT\n",
      "Epoch 1/1000\n",
      "191/191 [==============================] - 9s 42ms/step - loss: 1.1012 - mse: 2.4267 - val_loss: 0.4279 - val_mse: 0.3107\n",
      "Epoch 2/1000\n",
      "120/191 [=================>............] - ETA: 2s - loss: 0.6509 - mse: 0.6917"
     ]
    }
   ],
   "source": [
    "out_folder_path = \"/workspace/deep_birth_death/deep_learning/models/testing_total_reg/\"\n",
    "callback = EarlyStopping(monitor='val_loss', patience=100, restore_best_weights=True)\n",
    "\n",
    "for div_scenario in [\"SAT\" , \"SR\", \"WW\"]:\n",
    "    \n",
    "    print(\"\\nRegression training: \", div_scenario)\n",
    "    \n",
    "    nn_model = create_nn(len(y_train_total[div_scenario][0]), div_scenario=div_scenario)\n",
    "    nn_model.compile(loss=\"mae\", optimizer=Adam(learning_rate=0.001), metrics=['mse'])    \n",
    "    \n",
    "    start = time()                     \n",
    "    history = nn_model.fit(x_train_total[div_scenario],\n",
    "                           y_train_total[div_scenario],\n",
    "                           batch_size=128, epochs=1000, validation_split=0.1,\n",
    "                           callbacks=[callback], verbose=1)                     \n",
    "    elapsed_time = time()-start  \n",
    "                         \n",
    "    print('Elapsed time', elapsed_time)\n",
    "              \n",
    "\n",
    "    #Save the results\n",
    "    save_path = out_folder_path + div_scenario + \"_TOTAL_regression_\" \n",
    "                         \n",
    "    nn_model.save(save_path + \"model.keras\") \n",
    "    with open(save_path + \"history.pkl\", 'wb') as f:\n",
    "        pickle.dump(history.history, f)\n",
    "    with open(save_path + \"model_data.pkl\", 'wb') as f:\n",
    "            pickle.dump([nn_model.count_params(), elapsed_time], f)\n",
    "                    "
   ]
  },
  {
   "cell_type": "markdown",
   "id": "4a58cecc",
   "metadata": {},
   "source": [
    "# Models evaluation"
   ]
  },
  {
   "cell_type": "code",
   "execution_count": 15,
   "id": "d6f6a78b",
   "metadata": {
    "ExecuteTime": {
     "end_time": "2025-07-15T15:19:04.394228Z",
     "start_time": "2025-07-15T15:19:01.700784Z"
    }
   },
   "outputs": [
    {
     "ename": "OSError",
     "evalue": "SavedModel file does not exist at: /workspace/deep_birth_death/deep_learning/models/testing_total_reg/SR_TOTAL_regression_model.keras/{saved_model.pbtxt|saved_model.pb}",
     "output_type": "error",
     "traceback": [
      "\u001b[0;31m---------------------------------------------------------------------------\u001b[0m",
      "\u001b[0;31mOSError\u001b[0m                                   Traceback (most recent call last)",
      "\u001b[0;32m<ipython-input-15-5becbd765296>\u001b[0m in \u001b[0;36m<module>\u001b[0;34m\u001b[0m\n\u001b[1;32m      6\u001b[0m     \u001b[0;31m# Load regression model\u001b[0m\u001b[0;34m\u001b[0m\u001b[0;34m\u001b[0m\u001b[0;34m\u001b[0m\u001b[0m\n\u001b[1;32m      7\u001b[0m     \u001b[0mmodel_path\u001b[0m \u001b[0;34m=\u001b[0m \u001b[0mout_folder_path\u001b[0m \u001b[0;34m+\u001b[0m \u001b[0mdiv_scenario\u001b[0m \u001b[0;34m+\u001b[0m \u001b[0;34m\"_TOTAL_regression_\"\u001b[0m\u001b[0;34m\u001b[0m\u001b[0;34m\u001b[0m\u001b[0m\n\u001b[0;32m----> 8\u001b[0;31m     \u001b[0mnn_model\u001b[0m \u001b[0;34m=\u001b[0m \u001b[0mload_model\u001b[0m\u001b[0;34m(\u001b[0m\u001b[0mmodel_path\u001b[0m \u001b[0;34m+\u001b[0m \u001b[0;34m'model.keras'\u001b[0m\u001b[0;34m)\u001b[0m\u001b[0;34m\u001b[0m\u001b[0;34m\u001b[0m\u001b[0m\n\u001b[0m\u001b[1;32m      9\u001b[0m \u001b[0;34m\u001b[0m\u001b[0m\n\u001b[1;32m     10\u001b[0m     \u001b[0my_pred\u001b[0m \u001b[0;34m=\u001b[0m \u001b[0mnn_model\u001b[0m\u001b[0;34m.\u001b[0m\u001b[0mpredict\u001b[0m\u001b[0;34m(\u001b[0m\u001b[0mx_test_total\u001b[0m\u001b[0;34m[\u001b[0m\u001b[0mdiv_scenario\u001b[0m\u001b[0;34m]\u001b[0m\u001b[0;34m)\u001b[0m\u001b[0;34m\u001b[0m\u001b[0;34m\u001b[0m\u001b[0m\n",
      "\u001b[0;32m/opt/conda/lib/python3.8/site-packages/tensorflow/python/keras/saving/save.py\u001b[0m in \u001b[0;36mload_model\u001b[0;34m(filepath, custom_objects, compile, options)\u001b[0m\n\u001b[1;32m    204\u001b[0m         \u001b[0mfilepath\u001b[0m \u001b[0;34m=\u001b[0m \u001b[0mpath_to_string\u001b[0m\u001b[0;34m(\u001b[0m\u001b[0mfilepath\u001b[0m\u001b[0;34m)\u001b[0m\u001b[0;34m\u001b[0m\u001b[0;34m\u001b[0m\u001b[0m\n\u001b[1;32m    205\u001b[0m         \u001b[0;32mif\u001b[0m \u001b[0misinstance\u001b[0m\u001b[0;34m(\u001b[0m\u001b[0mfilepath\u001b[0m\u001b[0;34m,\u001b[0m \u001b[0mstr\u001b[0m\u001b[0;34m)\u001b[0m\u001b[0;34m:\u001b[0m\u001b[0;34m\u001b[0m\u001b[0;34m\u001b[0m\u001b[0m\n\u001b[0;32m--> 206\u001b[0;31m           \u001b[0;32mreturn\u001b[0m \u001b[0msaved_model_load\u001b[0m\u001b[0;34m.\u001b[0m\u001b[0mload\u001b[0m\u001b[0;34m(\u001b[0m\u001b[0mfilepath\u001b[0m\u001b[0;34m,\u001b[0m \u001b[0mcompile\u001b[0m\u001b[0;34m,\u001b[0m \u001b[0moptions\u001b[0m\u001b[0;34m)\u001b[0m\u001b[0;34m\u001b[0m\u001b[0;34m\u001b[0m\u001b[0m\n\u001b[0m\u001b[1;32m    207\u001b[0m \u001b[0;34m\u001b[0m\u001b[0m\n\u001b[1;32m    208\u001b[0m   raise IOError(\n",
      "\u001b[0;32m/opt/conda/lib/python3.8/site-packages/tensorflow/python/keras/saving/saved_model/load.py\u001b[0m in \u001b[0;36mload\u001b[0;34m(path, compile, options)\u001b[0m\n\u001b[1;32m    119\u001b[0m   \u001b[0;31m# Look for metadata file or parse the SavedModel\u001b[0m\u001b[0;34m\u001b[0m\u001b[0;34m\u001b[0m\u001b[0;34m\u001b[0m\u001b[0m\n\u001b[1;32m    120\u001b[0m   \u001b[0mmetadata\u001b[0m \u001b[0;34m=\u001b[0m \u001b[0msaved_metadata_pb2\u001b[0m\u001b[0;34m.\u001b[0m\u001b[0mSavedMetadata\u001b[0m\u001b[0;34m(\u001b[0m\u001b[0;34m)\u001b[0m\u001b[0;34m\u001b[0m\u001b[0;34m\u001b[0m\u001b[0m\n\u001b[0;32m--> 121\u001b[0;31m   \u001b[0mmeta_graph_def\u001b[0m \u001b[0;34m=\u001b[0m \u001b[0mloader_impl\u001b[0m\u001b[0;34m.\u001b[0m\u001b[0mparse_saved_model\u001b[0m\u001b[0;34m(\u001b[0m\u001b[0mpath\u001b[0m\u001b[0;34m)\u001b[0m\u001b[0;34m.\u001b[0m\u001b[0mmeta_graphs\u001b[0m\u001b[0;34m[\u001b[0m\u001b[0;36m0\u001b[0m\u001b[0;34m]\u001b[0m\u001b[0;34m\u001b[0m\u001b[0;34m\u001b[0m\u001b[0m\n\u001b[0m\u001b[1;32m    122\u001b[0m   \u001b[0mobject_graph_def\u001b[0m \u001b[0;34m=\u001b[0m \u001b[0mmeta_graph_def\u001b[0m\u001b[0;34m.\u001b[0m\u001b[0mobject_graph_def\u001b[0m\u001b[0;34m\u001b[0m\u001b[0;34m\u001b[0m\u001b[0m\n\u001b[1;32m    123\u001b[0m   \u001b[0mpath_to_metadata_pb\u001b[0m \u001b[0;34m=\u001b[0m \u001b[0mos\u001b[0m\u001b[0;34m.\u001b[0m\u001b[0mpath\u001b[0m\u001b[0;34m.\u001b[0m\u001b[0mjoin\u001b[0m\u001b[0;34m(\u001b[0m\u001b[0mpath\u001b[0m\u001b[0;34m,\u001b[0m \u001b[0mconstants\u001b[0m\u001b[0;34m.\u001b[0m\u001b[0mSAVED_METADATA_PATH\u001b[0m\u001b[0;34m)\u001b[0m\u001b[0;34m\u001b[0m\u001b[0;34m\u001b[0m\u001b[0m\n",
      "\u001b[0;32m/opt/conda/lib/python3.8/site-packages/tensorflow/python/saved_model/loader_impl.py\u001b[0m in \u001b[0;36mparse_saved_model\u001b[0;34m(export_dir)\u001b[0m\n\u001b[1;32m    111\u001b[0m       \u001b[0;32mraise\u001b[0m \u001b[0mIOError\u001b[0m\u001b[0;34m(\u001b[0m\u001b[0;34m\"Cannot parse file %s: %s.\"\u001b[0m \u001b[0;34m%\u001b[0m \u001b[0;34m(\u001b[0m\u001b[0mpath_to_pbtxt\u001b[0m\u001b[0;34m,\u001b[0m \u001b[0mstr\u001b[0m\u001b[0;34m(\u001b[0m\u001b[0me\u001b[0m\u001b[0;34m)\u001b[0m\u001b[0;34m)\u001b[0m\u001b[0;34m)\u001b[0m\u001b[0;34m\u001b[0m\u001b[0;34m\u001b[0m\u001b[0m\n\u001b[1;32m    112\u001b[0m   \u001b[0;32melse\u001b[0m\u001b[0;34m:\u001b[0m\u001b[0;34m\u001b[0m\u001b[0;34m\u001b[0m\u001b[0m\n\u001b[0;32m--> 113\u001b[0;31m     raise IOError(\n\u001b[0m\u001b[1;32m    114\u001b[0m         \u001b[0;34m\"SavedModel file does not exist at: %s%s{%s|%s}\"\u001b[0m \u001b[0;34m%\u001b[0m\u001b[0;34m\u001b[0m\u001b[0;34m\u001b[0m\u001b[0m\n\u001b[1;32m    115\u001b[0m         (export_dir, os.path.sep, constants.SAVED_MODEL_FILENAME_PBTXT,\n",
      "\u001b[0;31mOSError\u001b[0m: SavedModel file does not exist at: /workspace/deep_birth_death/deep_learning/models/testing_total_reg/SR_TOTAL_regression_model.keras/{saved_model.pbtxt|saved_model.pb}"
     ]
    }
   ],
   "source": [
    "total_regression_results = dict()\n",
    "\n",
    "for div_scenario in x_test_total:\n",
    "    total_regression_results[div_scenario] = dict()\n",
    "    \n",
    "    # Load regression model \n",
    "    model_path = out_folder_path + div_scenario + \"_TOTAL_regression_\"  \n",
    "    nn_model = load_model(model_path + 'model.keras')\n",
    "    \n",
    "    y_pred = nn_model.predict(x_test_total[div_scenario])\n",
    "\n",
    "    y_test = y_test_total[div_scenario]     \n",
    "    \n",
    "    # Rescale back the values\n",
    "    if div_scenario == \"BD\" or div_scenario == \"HE\" or div_scenario == \"SAT\":\n",
    "                    \n",
    "        y_pred[:, 0] = y_pred[:, 0] / resc_fact_test_total[div_scenario]\n",
    "    \n",
    "    elif div_scenario == \"ME\":\n",
    "\n",
    "        y_pred[:, 0] = y_pred[:, 0] / resc_fact_test_total[div_scenario]\n",
    "        y_pred[:, 2] = y_pred[:, 2] / resc_fact_test_total[div_scenario]\n",
    "  \n",
    "    else:\n",
    "                    \n",
    "        y_pred[:, 0] = y_pred[:, 0] / resc_fact_test_total[div_scenario]\n",
    "        y_pred[:, 1] = y_pred[:, 1] / resc_fact_test_total[div_scenario]\n",
    "        y_pred[:, 4] = y_pred[:, 4] / resc_fact_test_total[div_scenario]\n",
    "\n",
    "    error = abs(y_pred-y_test)\n",
    "    r_error = abs((y_pred - y_test)/ y_test)\n",
    "    \n",
    "    total_regression_results[div_scenario]['MAE'] = np.mean(error, axis=0)\n",
    "    total_regression_results[div_scenario]['MRE'] = np.mean(r_error, axis=0)"
   ]
  },
  {
   "cell_type": "code",
   "execution_count": 16,
   "id": "49805753",
   "metadata": {
    "ExecuteTime": {
     "end_time": "2025-07-15T15:19:05.303904Z",
     "start_time": "2025-07-15T15:19:05.260225Z"
    }
   },
   "outputs": [
    {
     "data": {
      "text/plain": [
       "{'BD': {'MAE': array([0.16890474, 0.08685253]),\n",
       "  'MRE': array([0.08498494, 0.88742897])},\n",
       " 'HE': {'MAE': array([0.27084062, 0.02065759]),\n",
       "  'MRE': array([0.13442117, 0.02432648])},\n",
       " 'ME': {'MAE': array([0.03656115, 0.08245859, 4.74847935, 0.04930744]),\n",
       "  'MRE': array([0.14024427, 0.17142284, 0.68083257, 0.28396805])},\n",
       " 'SAT': {'MAE': array([0.10877592]), 'MRE': array([0.05593215])},\n",
       " 'SR': {}}"
      ]
     },
     "execution_count": 16,
     "metadata": {},
     "output_type": "execute_result"
    }
   ],
   "source": [
    "total_regression_results"
   ]
  },
  {
   "cell_type": "code",
   "execution_count": 17,
   "id": "0eeb5154",
   "metadata": {
    "ExecuteTime": {
     "end_time": "2025-07-15T15:19:28.762276Z",
     "start_time": "2025-07-15T15:19:28.699417Z"
    }
   },
   "outputs": [
    {
     "name": "stdout",
     "output_type": "stream",
     "text": [
      "MAE and MRE for :BD diversification scenario\n",
      "  param       MAE       MRE\n",
      "0     r  0.168905  0.084985\n",
      "1     a  0.086853  0.887429\n",
      "MAE and MRE for :HE diversification scenario\n",
      "  param       MAE       MRE\n",
      "0     r  0.270841  0.134421\n",
      "1     a  0.020658  0.024326\n",
      "MAE and MRE for :ME diversification scenario\n",
      "  param       MAE       MRE\n",
      "0     r  0.036561  0.140244\n",
      "1     a  0.082459  0.171423\n",
      "2  time  4.748479  0.680833\n",
      "3  frac  0.049307  0.283968\n",
      "MAE and MRE for :SAT diversification scenario\n",
      "      param       MAE       MRE\n",
      "0  lambda 0  0.108776  0.055932\n"
     ]
    },
    {
     "ename": "KeyError",
     "evalue": "'MAE'",
     "output_type": "error",
     "traceback": [
      "\u001b[0;31m---------------------------------------------------------------------------\u001b[0m",
      "\u001b[0;31mKeyError\u001b[0m                                  Traceback (most recent call last)",
      "\u001b[0;32m<ipython-input-17-76badf403be1>\u001b[0m in \u001b[0;36m<module>\u001b[0;34m\u001b[0m\n\u001b[1;32m     10\u001b[0m \u001b[0;32mfor\u001b[0m \u001b[0mdiv_scenario\u001b[0m \u001b[0;32min\u001b[0m \u001b[0mx_test_total\u001b[0m\u001b[0;34m:\u001b[0m\u001b[0;34m\u001b[0m\u001b[0;34m\u001b[0m\u001b[0m\n\u001b[1;32m     11\u001b[0m     \u001b[0mparam_names\u001b[0m \u001b[0;34m=\u001b[0m \u001b[0mreg_values\u001b[0m\u001b[0;34m[\u001b[0m\u001b[0mdiv_scenario\u001b[0m\u001b[0;34m]\u001b[0m\u001b[0;34m\u001b[0m\u001b[0;34m\u001b[0m\u001b[0m\n\u001b[0;32m---> 12\u001b[0;31m     \u001b[0mmae_vals\u001b[0m \u001b[0;34m=\u001b[0m \u001b[0mtotal_regression_results\u001b[0m\u001b[0;34m[\u001b[0m\u001b[0mdiv_scenario\u001b[0m\u001b[0;34m]\u001b[0m\u001b[0;34m[\u001b[0m\u001b[0;34m'MAE'\u001b[0m\u001b[0;34m]\u001b[0m\u001b[0;34m\u001b[0m\u001b[0;34m\u001b[0m\u001b[0m\n\u001b[0m\u001b[1;32m     13\u001b[0m     \u001b[0mmre_vals\u001b[0m \u001b[0;34m=\u001b[0m \u001b[0mtotal_regression_results\u001b[0m\u001b[0;34m[\u001b[0m\u001b[0mdiv_scenario\u001b[0m\u001b[0;34m]\u001b[0m\u001b[0;34m[\u001b[0m\u001b[0;34m'MRE'\u001b[0m\u001b[0;34m]\u001b[0m\u001b[0;34m\u001b[0m\u001b[0;34m\u001b[0m\u001b[0m\n\u001b[1;32m     14\u001b[0m \u001b[0;34m\u001b[0m\u001b[0m\n",
      "\u001b[0;31mKeyError\u001b[0m: 'MAE'"
     ]
    }
   ],
   "source": [
    "reg_values = {\n",
    "    'BD': ['r', 'a'],\n",
    "    'HE': ['r', 'a'],\n",
    "    'ME': ['r', 'a', 'time', 'frac'],\n",
    "    'SR': ['r0', 'r1', 'a0', 'a1', 'time'],\n",
    "    'WW': ['r0', 'r1', 'a0', 'a1', 'time'],\n",
    "    'SAT': ['lambda 0'],\n",
    "}\n",
    "    \n",
    "for div_scenario in x_test_total:   \n",
    "    param_names = reg_values[div_scenario]\n",
    "    mae_vals = total_regression_results[div_scenario]['MAE']\n",
    "    mre_vals = total_regression_results[div_scenario]['MRE']\n",
    "    \n",
    "    df = pd.DataFrame({\n",
    "            \"param\": param_names,\n",
    "            \"MAE\": mae_vals,\n",
    "            \"MRE\": mre_vals\n",
    "        })\n",
    "    \n",
    "    print(\"MAE and MRE for :\" + div_scenario + \" diversification scenario\")\n",
    "    print(df)"
   ]
  },
  {
   "cell_type": "code",
   "execution_count": null,
   "id": "106141f6",
   "metadata": {},
   "outputs": [],
   "source": []
  }
 ],
 "metadata": {
  "kernelspec": {
   "display_name": "Python 3",
   "language": "python",
   "name": "python3"
  },
  "language_info": {
   "codemirror_mode": {
    "name": "ipython",
    "version": 3
   },
   "file_extension": ".py",
   "mimetype": "text/x-python",
   "name": "python",
   "nbconvert_exporter": "python",
   "pygments_lexer": "ipython3",
   "version": "3.8.10"
  },
  "toc": {
   "base_numbering": 1,
   "nav_menu": {},
   "number_sections": false,
   "sideBar": true,
   "skip_h1_title": false,
   "title_cell": "Table of Contents",
   "title_sidebar": "Contents",
   "toc_cell": false,
   "toc_position": {},
   "toc_section_display": true,
   "toc_window_display": false
  }
 },
 "nbformat": 4,
 "nbformat_minor": 5
}

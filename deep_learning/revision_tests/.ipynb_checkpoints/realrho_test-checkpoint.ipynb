{
 "cells": [
  {
   "cell_type": "code",
   "execution_count": 1,
   "id": "3fa6df7c",
   "metadata": {
    "ExecuteTime": {
     "end_time": "2025-07-08T10:49:41.696661Z",
     "start_time": "2025-07-08T10:49:41.684300Z"
    }
   },
   "outputs": [],
   "source": [
    "%reload_ext autoreload\n",
    "%autoreload 2"
   ]
  },
  {
   "cell_type": "code",
   "execution_count": 2,
   "id": "d7cef86d",
   "metadata": {
    "ExecuteTime": {
     "end_time": "2025-07-08T10:49:41.717135Z",
     "start_time": "2025-07-08T10:49:41.708767Z"
    }
   },
   "outputs": [],
   "source": [
    "import sys\n",
    "sys.path.append('/workspace/phylo_estimation/data_inference')"
   ]
  },
  {
   "cell_type": "code",
   "execution_count": 3,
   "id": "44ad45d0",
   "metadata": {
    "ExecuteTime": {
     "end_time": "2025-07-08T10:49:43.739174Z",
     "start_time": "2025-07-08T10:49:41.718609Z"
    }
   },
   "outputs": [],
   "source": [
    "import pickle\n",
    "import itertools\n",
    "import time\n",
    "import os\n",
    "from time import time\n",
    "\n",
    "import pandas as pd\n",
    "import numpy as np\n",
    "import matplotlib.pyplot as plt\n",
    "import seaborn as sns\n",
    "\n",
    "from tensorflow.keras.models import load_model\n",
    "\n",
    "from evaluation.classification import generate_class_results, plot_conf_mat, \\\n",
    "                                      get_classification_results, generate_class_results_calibrate_model"
   ]
  },
  {
   "cell_type": "markdown",
   "id": "cf5de9e9",
   "metadata": {},
   "source": [
    "# Load data"
   ]
  },
  {
   "cell_type": "code",
   "execution_count": 4,
   "id": "38fcd559",
   "metadata": {
    "ExecuteTime": {
     "end_time": "2025-07-08T10:49:43.766475Z",
     "start_time": "2025-07-08T10:49:43.740711Z"
    }
   },
   "outputs": [],
   "source": [
    "pickle_path = '/workspace/phylo_estimation/data_inference/pickles/real_rho_test/'\n",
    "res_path = \"/workspace/phylo_estimation/data_inference/models/class/\"\n",
    "\n",
    "n_tips = ['674']"
   ]
  },
  {
   "cell_type": "markdown",
   "id": "1a59908d",
   "metadata": {},
   "source": [
    "# Classification"
   ]
  },
  {
   "cell_type": "code",
   "execution_count": 5,
   "id": "6770f478",
   "metadata": {
    "ExecuteTime": {
     "end_time": "2025-07-08T10:49:50.483510Z",
     "start_time": "2025-07-08T10:49:43.768170Z"
    }
   },
   "outputs": [
    {
     "name": "stdout",
     "output_type": "stream",
     "text": [
      "--- 674 tips ---\n",
      "--- Inference time:  2.9711225032806396 seconds ---\n"
     ]
    },
    {
     "name": "stderr",
     "output_type": "stream",
     "text": [
      "/workspace/phylo_estimation/data_inference/evaluation/classification.py:132: RuntimeWarning: overflow encountered in exp\n",
      "  return np.exp(scaled_prediction) / np.sum(np.exp(scaled_prediction), axis=-1, keepdims=True)\n",
      "/workspace/phylo_estimation/data_inference/evaluation/classification.py:132: RuntimeWarning: invalid value encountered in true_divide\n",
      "  return np.exp(scaled_prediction) / np.sum(np.exp(scaled_prediction), axis=-1, keepdims=True)\n"
     ]
    }
   ],
   "source": [
    "\n",
    "results = dict()\n",
    "results_calibrated_model = dict()\n",
    "\n",
    "for i in n_tips:\n",
    "    with open(pickle_path + \"dataset_\" + i + \"_1000_realrho_test.pkl\", 'rb') as f:\n",
    "        data = pickle.load(f)\n",
    "    \n",
    "    results[i] = dict()\n",
    "    results_calibrated_model[i] = dict()\n",
    "        \n",
    "    model_path = res_path + i + \"_classification_\"\n",
    "\n",
    "    print('---', i, 'tips ---')\n",
    "    results[i] = generate_class_results(model_path, data['X_test'],\n",
    "                                        data['y_class_test'])\n",
    "    results_calibrated_model[i] = generate_class_results_calibrate_model(model_path, data['X_test'],\n",
    "                                        data['y_class_test'])"
   ]
  },
  {
   "cell_type": "markdown",
   "id": "40f73346",
   "metadata": {},
   "source": [
    "### No calibrated model "
   ]
  },
  {
   "cell_type": "code",
   "execution_count": 6,
   "id": "13e3f22a",
   "metadata": {
    "ExecuteTime": {
     "end_time": "2025-07-08T10:49:50.530190Z",
     "start_time": "2025-07-08T10:49:50.485085Z"
    }
   },
   "outputs": [
    {
     "data": {
      "text/html": [
       "<div>\n",
       "<style scoped>\n",
       "    .dataframe tbody tr th:only-of-type {\n",
       "        vertical-align: middle;\n",
       "    }\n",
       "\n",
       "    .dataframe tbody tr th {\n",
       "        vertical-align: top;\n",
       "    }\n",
       "\n",
       "    .dataframe thead th {\n",
       "        text-align: right;\n",
       "    }\n",
       "</style>\n",
       "<table border=\"1\" class=\"dataframe\">\n",
       "  <thead>\n",
       "    <tr style=\"text-align: right;\">\n",
       "      <th></th>\n",
       "      <th>674</th>\n",
       "    </tr>\n",
       "  </thead>\n",
       "  <tbody>\n",
       "    <tr>\n",
       "      <th>accuracy</th>\n",
       "      <td>0.930333</td>\n",
       "    </tr>\n",
       "    <tr>\n",
       "      <th>F1-Score</th>\n",
       "      <td>0.929845</td>\n",
       "    </tr>\n",
       "    <tr>\n",
       "      <th>Recall</th>\n",
       "      <td>0.930333</td>\n",
       "    </tr>\n",
       "    <tr>\n",
       "      <th>Precision</th>\n",
       "      <td>0.930228</td>\n",
       "    </tr>\n",
       "    <tr>\n",
       "      <th>Number of params</th>\n",
       "      <td>53110</td>\n",
       "    </tr>\n",
       "    <tr>\n",
       "      <th>Train time</th>\n",
       "      <td>873.546248</td>\n",
       "    </tr>\n",
       "  </tbody>\n",
       "</table>\n",
       "</div>"
      ],
      "text/plain": [
       "                         674\n",
       "accuracy            0.930333\n",
       "F1-Score            0.929845\n",
       "Recall              0.930333\n",
       "Precision           0.930228\n",
       "Number of params       53110\n",
       "Train time        873.546248"
      ]
     },
     "execution_count": 6,
     "metadata": {},
     "output_type": "execute_result"
    }
   ],
   "source": [
    "get_classification_results(results)"
   ]
  },
  {
   "cell_type": "code",
   "execution_count": 7,
   "id": "d2decbfd",
   "metadata": {
    "ExecuteTime": {
     "end_time": "2025-07-08T10:49:50.756528Z",
     "start_time": "2025-07-08T10:49:50.531693Z"
    }
   },
   "outputs": [
    {
     "data": {
      "image/png": "[encoded data removed]",
      "text/plain": [
       "<Figure size 360x360 with 1 Axes>"
      ]
     },
     "metadata": {
      "needs_background": "light"
     },
     "output_type": "display_data"
    },
    {
     "name": "stdout",
     "output_type": "stream",
     "text": [
      "              precision    recall  f1-score   support\n",
      "\n",
      "           0     0.8902    0.9730    0.9298      1000\n",
      "           1     0.9252    0.9030    0.9140      1000\n",
      "           2     0.8537    0.8110    0.8318      1000\n",
      "           3     1.0000    1.0000    1.0000      1000\n",
      "           4     0.9133    0.8950    0.9040      1000\n",
      "           5     0.9990    1.0000    0.9995      1000\n",
      "\n",
      "    accuracy                         0.9303      6000\n",
      "   macro avg     0.9302    0.9303    0.9298      6000\n",
      "weighted avg     0.9302    0.9303    0.9298      6000\n",
      "\n"
     ]
    }
   ],
   "source": [
    "label_names = [\"BD\", \"HE\", \"ME\", \"SAT\", \"SR\", \"WW\"]\n",
    "for i in results:\n",
    "    plot_conf_mat((results[i][\"y_pred\"]), (results[i][\"y_test\"]), label_names, i)"
   ]
  },
  {
   "cell_type": "markdown",
   "id": "2e4c7d2c",
   "metadata": {},
   "source": [
    "### Calibrated model "
   ]
  },
  {
   "cell_type": "code",
   "execution_count": 8,
   "id": "4141a400",
   "metadata": {
    "ExecuteTime": {
     "end_time": "2025-07-08T10:49:50.801418Z",
     "start_time": "2025-07-08T10:49:50.758190Z"
    }
   },
   "outputs": [
    {
     "data": {
      "text/html": [
       "<div>\n",
       "<style scoped>\n",
       "    .dataframe tbody tr th:only-of-type {\n",
       "        vertical-align: middle;\n",
       "    }\n",
       "\n",
       "    .dataframe tbody tr th {\n",
       "        vertical-align: top;\n",
       "    }\n",
       "\n",
       "    .dataframe thead th {\n",
       "        text-align: right;\n",
       "    }\n",
       "</style>\n",
       "<table border=\"1\" class=\"dataframe\">\n",
       "  <thead>\n",
       "    <tr style=\"text-align: right;\">\n",
       "      <th></th>\n",
       "      <th>674</th>\n",
       "    </tr>\n",
       "  </thead>\n",
       "  <tbody>\n",
       "    <tr>\n",
       "      <th>accuracy</th>\n",
       "      <td>0.923667</td>\n",
       "    </tr>\n",
       "    <tr>\n",
       "      <th>F1-Score</th>\n",
       "      <td>0.923356</td>\n",
       "    </tr>\n",
       "    <tr>\n",
       "      <th>Recall</th>\n",
       "      <td>0.923667</td>\n",
       "    </tr>\n",
       "    <tr>\n",
       "      <th>Precision</th>\n",
       "      <td>0.924233</td>\n",
       "    </tr>\n",
       "    <tr>\n",
       "      <th>Number of params</th>\n",
       "      <td>53110</td>\n",
       "    </tr>\n",
       "    <tr>\n",
       "      <th>Train time</th>\n",
       "      <td>963.543995</td>\n",
       "    </tr>\n",
       "  </tbody>\n",
       "</table>\n",
       "</div>"
      ],
      "text/plain": [
       "                         674\n",
       "accuracy            0.923667\n",
       "F1-Score            0.923356\n",
       "Recall              0.923667\n",
       "Precision           0.924233\n",
       "Number of params       53110\n",
       "Train time        963.543995"
      ]
     },
     "execution_count": 8,
     "metadata": {},
     "output_type": "execute_result"
    }
   ],
   "source": [
    "get_classification_results(results_calibrated_model)"
   ]
  },
  {
   "cell_type": "code",
   "execution_count": 9,
   "id": "ad6032dc",
   "metadata": {
    "ExecuteTime": {
     "end_time": "2025-07-08T10:49:51.003422Z",
     "start_time": "2025-07-08T10:49:50.802736Z"
    }
   },
   "outputs": [
    {
     "data": {
      "image/png": "[encoded data removed]",
      "text/plain": [
       "<Figure size 360x360 with 1 Axes>"
      ]
     },
     "metadata": {
      "needs_background": "light"
     },
     "output_type": "display_data"
    },
    {
     "name": "stdout",
     "output_type": "stream",
     "text": [
      "              precision    recall  f1-score   support\n",
      "\n",
      "           0     0.8902    0.9730    0.9298      1000\n",
      "           1     0.9252    0.9030    0.9140      1000\n",
      "           2     0.8537    0.8110    0.8318      1000\n",
      "           3     1.0000    1.0000    1.0000      1000\n",
      "           4     0.9133    0.8950    0.9040      1000\n",
      "           5     0.9990    1.0000    0.9995      1000\n",
      "\n",
      "    accuracy                         0.9303      6000\n",
      "   macro avg     0.9302    0.9303    0.9298      6000\n",
      "weighted avg     0.9302    0.9303    0.9298      6000\n",
      "\n"
     ]
    }
   ],
   "source": [
    "label_names = [\"BD\", \"HE\", \"ME\", \"SAT\", \"SR\", \"WW\"]\n",
    "for i in results_calibrated_model:\n",
    "    plot_conf_mat((results[i][\"y_pred\"]), (results[i][\"y_test\"]), label_names, i)"
   ]
  },
  {
   "cell_type": "markdown",
   "id": "c25610c0",
   "metadata": {},
   "source": [
    "# Regression"
   ]
  },
  {
   "cell_type": "code",
   "execution_count": 10,
   "id": "e97d628b",
   "metadata": {
    "ExecuteTime": {
     "end_time": "2025-07-08T10:49:51.038473Z",
     "start_time": "2025-07-08T10:49:51.004712Z"
    }
   },
   "outputs": [],
   "source": [
    "pd.options.display.float_format = \"{:,.4f}\".format"
   ]
  },
  {
   "cell_type": "code",
   "execution_count": 11,
   "id": "76f1eff1",
   "metadata": {
    "ExecuteTime": {
     "end_time": "2025-07-08T10:49:51.246237Z",
     "start_time": "2025-07-08T10:49:51.040337Z"
    }
   },
   "outputs": [],
   "source": [
    "with open(pickle_path + \"dataset_\" + \"674\" + \"_1000_realrho_test.pkl\", 'rb') as f:\n",
    "    data = pickle.load(f)\n",
    "res_path = \"/workspace/phylo_estimation/data_inference/models/reg/\""
   ]
  },
  {
   "cell_type": "code",
   "execution_count": 12,
   "id": "944fb551",
   "metadata": {
    "ExecuteTime": {
     "end_time": "2025-07-08T10:49:55.937926Z",
     "start_time": "2025-07-08T10:49:51.248292Z"
    }
   },
   "outputs": [
    {
     "name": "stdout",
     "output_type": "stream",
     "text": [
      "674_1000_realrho_test/BD_sim_no_fossil1000_rescale.csv\n",
      "BD\n",
      "674_1000_realrho_test/HE_sim_no_fossil1000_rescale.csv\n",
      "HE\n",
      "674_1000_realrho_test/ME_rho_PGP_sim_no_fossil1000_rescale.csv\n",
      "ME\n",
      "674_1000_realrho_test/SAT_sim_no_fossil1000_rescale.csv\n",
      "SAT\n",
      "674_1000_realrho_test/SR_sim_no_fossil1000_rescale.csv\n",
      "SR\n",
      "674_1000_realrho_test/WW_sim_no_fossil1000_rescale.csv\n",
      "WW\n"
     ]
    }
   ],
   "source": [
    "mae_dict = dict()\n",
    "inf_times = dict()\n",
    "\n",
    "    \n",
    "for label in np.unique(data['div_info_test']):\n",
    "    print(label)\n",
    "    div_scenario = label.split('/')[1].split('_')[0]\n",
    "    mae_dict[div_scenario] = dict()\n",
    "    print(div_scenario)\n",
    "    \n",
    "    inf_times[div_scenario] = dict()\n",
    "    \n",
    "    norm_types = ['norm', 'no_norm']\n",
    "    for norm in norm_types:\n",
    "        mae_dict[div_scenario][norm] = dict()\n",
    "        inf_times[div_scenario][norm] = dict()\n",
    "        \n",
    "        # Load regression model \n",
    "        model_path = res_path + div_scenario + '/' + \"674\" + \"_regression_\"\n",
    "        if norm != 'no_norm':\n",
    "            model_path += norm + '_'\n",
    "        \n",
    "        nn_model = load_model(model_path + 'model.keras')\n",
    "    \n",
    "    \n",
    "    \n",
    "    \n",
    "        pred = nn_model.predict(np.expand_dims(data['X_test'][data['div_info_test'] == label], axis=2))\n",
    "         \n",
    "        \n",
    "        \n",
    "        if norm == 'norm':\n",
    "            norm_text = '_norm'\n",
    "        else:\n",
    "            norm_text = ''\n",
    "        y_reg_test = data['y_reg' + norm_text + '_test'][data['div_info_test'] == label]\n",
    "        y_reg_test = [np.array(elem) for elem in y_reg_test]\n",
    "        \n",
    "        real = y_reg_test\n",
    "        error = abs(pred-real)\n",
    "        \n",
    "        resc_factor_test = data['resc_factor_test'][data['div_info_test'] == label]\n",
    "        \n",
    "        if norm == 'norm':\n",
    "            mae_dict[div_scenario][norm]['mae_rescaled'] = np.mean(error, axis=0)\n",
    "            \n",
    "            \n",
    "            if div_scenario == \"BD\" or div_scenario == \"HE\" or div_scenario == \"SAT\":\n",
    "                \n",
    "                pred[:, 0] = pred[:, 0] / resc_factor_test\n",
    "\n",
    "            elif div_scenario == \"ME\":\n",
    "                \n",
    "                pred[:, 0] = pred[:, 0] / resc_factor_test\n",
    "                pred[:, 2] = pred[:, 2] / resc_factor_test\n",
    "\n",
    "            else:\n",
    "    \n",
    "                pred[:, 0] = pred[:, 0] / resc_factor_test\n",
    "                pred[:, 1] = pred[:, 1] / resc_factor_test\n",
    "                pred[:, 4] = pred[:, 4] / resc_factor_test\n",
    "                \n",
    "            y_reg_test = data['y_reg_test'][data['div_info_test'] == label]\n",
    "            y_reg_test = [np.array(elem) for elem in y_reg_test]\n",
    "            \n",
    "            real = y_reg_test\n",
    "            error = abs(pred-real)\n",
    "            \n",
    "            mae_dict[div_scenario][norm]['mae'] = np.mean(error, axis=0)\n",
    "            \n",
    "        else: \n",
    "        \n",
    "            mae_dict[div_scenario][norm]['mae'] = np.mean(error, axis=0)\n",
    "            \n",
    "            if div_scenario == \"BD\" or div_scenario == \"HE\" or div_scenario == \"SAT\":\n",
    "                \n",
    "                pred[:, 0] = pred[:, 0] * resc_factor_test\n",
    "\n",
    "            elif div_scenario == \"ME\":\n",
    "                pred[:, 0] = pred[:, 0] * resc_factor_test\n",
    "                pred[:, 2] = pred[:, 2] * resc_factor_test\n",
    "\n",
    "            else:\n",
    "                \n",
    "                pred[:, 0] = pred[:, 0] * resc_factor_test\n",
    "                pred[:, 1] = pred[:, 1] * resc_factor_test\n",
    "                pred[:, 4] = pred[:, 4] * resc_factor_test\n",
    "                \n",
    "            \n",
    "            y_reg_test = data['y_reg_norm_test'][data['div_info_test'] == label]\n",
    "            y_reg_test = [np.array(elem) for elem in y_reg_test]\n",
    "            \n",
    "            real = y_reg_test\n",
    "            error = abs(pred-real)                \n",
    "        \n",
    "            mae_dict[div_scenario][norm]['mae_rescaled'] = np.mean(error, axis=0)     "
   ]
  },
  {
   "cell_type": "code",
   "execution_count": 13,
   "id": "c260ff65",
   "metadata": {
    "ExecuteTime": {
     "end_time": "2025-07-08T10:49:55.968762Z",
     "start_time": "2025-07-08T10:49:55.939299Z"
    }
   },
   "outputs": [],
   "source": [
    "def get_regression_div_results(results, scenario, norm, error):\n",
    "    reg_values = {\n",
    "        'BD': ['r', 'a'],\n",
    "        'HE': ['r', 'a'],\n",
    "        'ME': ['r', 'a', 'time', 'frac'],\n",
    "        'SR': ['r0', 'r1', 'a0', 'a1', 'time'],\n",
    "        'WW': ['r0', 'r1', 'a0', 'a1', 'time'],\n",
    "        'SAT': ['lambda 0'],\n",
    "    }\n",
    "\n",
    "    # Extraemos la lista de valores\n",
    "    values = results[scenario][norm][error]\n",
    "\n",
    "    # Comprobamos tamaño\n",
    "    if len(values) != len(reg_values[scenario]):\n",
    "        raise ValueError(f\"Dimensiones no coinciden: {len(values)} valores vs {len(reg_values[scenario])} parámetros.\")\n",
    "\n",
    "    # Creamos un DataFrame de una sola fila\n",
    "    df = pd.DataFrame([values], columns=reg_values[scenario], index=['MAE'])\n",
    "\n",
    "    return df"
   ]
  },
  {
   "cell_type": "code",
   "execution_count": 14,
   "id": "0d1b2b6b",
   "metadata": {
    "ExecuteTime": {
     "end_time": "2025-07-08T10:49:56.008113Z",
     "start_time": "2025-07-08T10:49:55.970073Z"
    }
   },
   "outputs": [
    {
     "name": "stdout",
     "output_type": "stream",
     "text": [
      "BD\n",
      "         r      a\n",
      "MAE 0.1321 0.1119\n",
      "HE\n",
      "         r      a\n",
      "MAE 0.2071 0.0215\n",
      "ME\n",
      "         r      a   time   frac\n",
      "MAE 0.0342 0.0794 5.0498 0.0497\n",
      "SAT\n",
      "     lambda 0\n",
      "MAE    0.0610\n",
      "SR\n",
      "        r0     r1     a0     a1   time\n",
      "MAE 0.0742 0.0224 0.1097 0.0965 3.7160\n",
      "WW\n",
      "        r0     r1     a0     a1   time\n",
      "MAE 0.0349 0.1033 0.1690 0.0856 2.8707\n"
     ]
    }
   ],
   "source": [
    "labels = ['BD', 'HE', 'ME', 'SAT', 'SR', 'WW']\n",
    "for label in labels: \n",
    "    print(label)\n",
    "    data = get_regression_div_results(mae_dict, label, 'norm', 'mae')\n",
    "    print(data)"
   ]
  },
  {
   "cell_type": "code",
   "execution_count": null,
   "id": "15bd3e4d",
   "metadata": {},
   "outputs": [],
   "source": []
  }
 ],
 "metadata": {
  "kernelspec": {
   "display_name": "Python 3",
   "language": "python",
   "name": "python3"
  },
  "language_info": {
   "codemirror_mode": {
    "name": "ipython",
    "version": 3
   },
   "file_extension": ".py",
   "mimetype": "text/x-python",
   "name": "python",
   "nbconvert_exporter": "python",
   "pygments_lexer": "ipython3",
   "version": "3.8.10"
  },
  "toc": {
   "base_numbering": 1,
   "nav_menu": {},
   "number_sections": false,
   "sideBar": true,
   "skip_h1_title": false,
   "title_cell": "Table of Contents",
   "title_sidebar": "Contents",
   "toc_cell": false,
   "toc_position": {},
   "toc_section_display": true,
   "toc_window_display": false
  }
 },
 "nbformat": 4,
 "nbformat_minor": 5
}

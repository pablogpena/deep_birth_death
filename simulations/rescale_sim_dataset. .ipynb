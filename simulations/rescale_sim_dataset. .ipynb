{
 "cells": [
  {
   "cell_type": "code",
   "execution_count": 8,
   "id": "75c3b0c1",
   "metadata": {
    "ExecuteTime": {
     "end_time": "2025-07-15T14:28:06.512637Z",
     "start_time": "2025-07-15T14:28:06.509203Z"
    }
   },
   "outputs": [],
   "source": [
    "import pandas as pd\n",
    "import numpy as np\n",
    "from ete3 import Tree\n",
    "\n",
    "\n",
    "from tqdm.auto import tqdm"
   ]
  },
  {
   "cell_type": "code",
   "execution_count": 9,
   "id": "27c70deb",
   "metadata": {
    "ExecuteTime": {
     "end_time": "2025-07-15T14:28:07.765138Z",
     "start_time": "2025-07-15T14:28:07.760070Z"
    }
   },
   "outputs": [],
   "source": [
    "pd.set_option('display.max_columns', None)"
   ]
  },
  {
   "cell_type": "code",
   "execution_count": 10,
   "id": "70c1cc88",
   "metadata": {
    "ExecuteTime": {
     "end_time": "2025-07-15T14:28:08.824582Z",
     "start_time": "2025-07-15T14:28:08.821121Z"
    }
   },
   "outputs": [],
   "source": [
    "def get_average_branch_length(tre):\n",
    "    \"\"\"\n",
    "    Returns average branch length for given tree\n",
    "    :param tre: str, .nwk tree, the tree on which we measure the branch length\n",
    "    :return: float, average branch length\n",
    "    \"\"\"\n",
    "    tree = Tree(tre)\n",
    "    \n",
    "    br_length = [nod.dist for nod in tree.traverse()]\n",
    "    return np.average(br_length)"
   ]
  },
  {
   "cell_type": "code",
   "execution_count": 13,
   "id": "68fee281",
   "metadata": {
    "ExecuteTime": {
     "end_time": "2025-07-15T15:02:48.629772Z",
     "start_time": "2025-07-15T15:02:48.624776Z"
    }
   },
   "outputs": [],
   "source": [
    "files = [\n",
    "         \n",
    "#         \"/workspace/deep_birth_death/simulations/testing_k_sims/674_10k/BD_sim_no_fossil10000.csv\",\n",
    "#         \"/workspace/deep_birth_death/simulations/testing_k_sims/674_10k/HE_sim_no_fossil10000.csv\",\n",
    "#         \"/workspace/deep_birth_death/simulations/testing_k_sims/674_10k/ME_rho_PGP_sim_no_fossil10000.csv\",\n",
    "#         \"/workspace/deep_birth_death/simulations/testing_k_sims/674_10k/SR_sim_no_fossil10000.csv\",\n",
    "#         \"/workspace/deep_birth_death/simulations/testing_k_sims/674_10k/WW_sim_no_fossil10000.csv\",\n",
    "#         \"/workspace/deep_birth_death/simulations/testing_k_sims/674_10k/SAT_sim_no_fossil10000.csv\",     \n",
    "    \n",
    "    \n",
    "    \n",
    "         \"/workspace/deep_birth_death/simulations/testing_k_sims/489_10k/BD_sim_no_fossil10000.csv\",\n",
    "         \"/workspace/deep_birth_death/simulations/testing_k_sims/489_10k/HE_sim_no_fossil10000.csv\",\n",
    "         \"/workspace/deep_birth_death/simulations/testing_k_sims/489_10k/ME_rho_PGP_sim_no_fossil10000.csv\",\n",
    "         \"/workspace/deep_birth_death/simulations/testing_k_sims/489_10k/SR_sim_no_fossil10000.csv\",\n",
    "         \"/workspace/deep_birth_death/simulations/testing_k_sims/489_10k/WW_sim_no_fossil10000.csv\",\n",
    "         \"/workspace/deep_birth_death/simulations/testing_k_sims/489_10k/SAT_sim_no_fossil10000.csv\", \n",
    "#    \n",
    "#    \n",
    "#    \n",
    "#         \"/workspace/deep_birth_death/simulations/testing_k_sims/87_10k/BD_sim_no_fossil10000.csv\",\n",
    "#         \"/workspace/deep_birth_death/simulations/testing_k_sims/87_10k/HE_sim_no_fossil10000.csv\",\n",
    "#         \"/workspace/deep_birth_death/simulations/testing_k_sims/87_10k/ME_rho_PGP_sim_no_fossil10000.csv\",\n",
    "#         \"/workspace/deep_birth_death/simulations/testing_k_sims/87_10k/SR_sim_no_fossil10000.csv\",\n",
    "#         \"/workspace/deep_birth_death/simulations/testing_k_sims/87_10k/WW_sim_no_fossil10000.csv\",\n",
    "#         \"/workspace/deep_birth_death/simulations/testing_k_sims/87_10k/SAT_sim_no_fossil10000.csv\",     \n",
    "          \n",
    "]"
   ]
  },
  {
   "cell_type": "code",
   "execution_count": 14,
   "id": "3e9b87b3",
   "metadata": {
    "ExecuteTime": {
     "end_time": "2025-07-15T15:17:22.281410Z",
     "start_time": "2025-07-15T15:02:50.100684Z"
    }
   },
   "outputs": [
    {
     "data": {
      "application/vnd.jupyter.widget-view+json": {
       "model_id": "b4545899d6bf4b3faa2c0a2b531cb024",
       "version_major": 2,
       "version_minor": 0
      },
      "text/plain": [
       "  0%|          | 0/6 [00:00<?, ?it/s]"
      ]
     },
     "metadata": {},
     "output_type": "display_data"
    }
   ],
   "source": [
    "pbar = tqdm(files)\n",
    "\n",
    "for file in pbar:\n",
    "    pbar.set_description(file, refresh=True)\n",
    "    # Read .csv\n",
    "    df = pd.read_csv(file, sep = \"|\")\n",
    "    \n",
    "    # Calculate new rescale factor column\n",
    "    df['resc_factor'] = df['tree'].apply(get_average_branch_length)\n",
    "    \n",
    "    # Add lambda and mu columns\n",
    "    df[\"mu0\"]= (df[\"a0\"]*df[\"r0\"]) / (1-df[\"a0\"])\n",
    "    df[\"mu1\"]= (df[\"a1\"]*df[\"r1\"]) / (1-df[\"a1\"])\n",
    "    df[\"lambda0\"]= df[\"r0\"]+df[\"mu0\"]\n",
    "    df[\"lambda1\"]= df[\"r1\"]+df[\"mu1\"]\n",
    "    \n",
    "    # Add rescaled columns\n",
    "    df[\"norm_r0\"]= df[\"r0\"] * df[\"resc_factor\"]\n",
    "    df[\"norm_r1\"]= df[\"r1\"] * df[\"resc_factor\"]\n",
    "    df[\"norm_a0\"]= df[\"a0\"] * df[\"resc_factor\"]\n",
    "    df[\"norm_a1\"]= df[\"a1\"] * df[\"resc_factor\"]\n",
    "    df[\"norm_time\"]= df[\"time\"] * df[\"resc_factor\"]\n",
    "    df[\"norm_frac0\"]= df[\"frac0\"] * df[\"resc_factor\"]\n",
    "    df[\"norm_frac1\"]= df[\"frac1\"] * df[\"resc_factor\"]\n",
    "    df[\"norm_mu0\"]= df[\"mu0\"] * df[\"resc_factor\"]\n",
    "    df[\"norm_mu1\"]= df[\"mu1\"] * df[\"resc_factor\"]\n",
    "    df[\"norm_lambda0\"]= df[\"lambda0\"] * df[\"resc_factor\"]\n",
    "    df[\"norm_lambda1\"]= df[\"lambda1\"] * df[\"resc_factor\"]\n",
    "    \n",
    "    # Save new csv\n",
    "    df.to_csv(file[:-4] + \"_rescale.csv\", sep='|', header=True, index=False)"
   ]
  },
  {
   "cell_type": "code",
   "execution_count": null,
   "id": "7ab50064",
   "metadata": {},
   "outputs": [],
   "source": []
  },
  {
   "cell_type": "code",
   "execution_count": null,
   "id": "f3e1f74c",
   "metadata": {},
   "outputs": [],
   "source": []
  },
  {
   "cell_type": "code",
   "execution_count": null,
   "id": "f9ccc159",
   "metadata": {},
   "outputs": [],
   "source": []
  },
  {
   "cell_type": "code",
   "execution_count": null,
   "id": "bb8bc679",
   "metadata": {},
   "outputs": [],
   "source": []
  }
 ],
 "metadata": {
  "kernelspec": {
   "display_name": "Python 3",
   "language": "python",
   "name": "python3"
  },
  "language_info": {
   "codemirror_mode": {
    "name": "ipython",
    "version": 3
   },
   "file_extension": ".py",
   "mimetype": "text/x-python",
   "name": "python",
   "nbconvert_exporter": "python",
   "pygments_lexer": "ipython3",
   "version": "3.8.10"
  },
  "toc": {
   "base_numbering": 1,
   "nav_menu": {},
   "number_sections": false,
   "sideBar": true,
   "skip_h1_title": false,
   "title_cell": "Table of Contents",
   "title_sidebar": "Contents",
   "toc_cell": false,
   "toc_position": {},
   "toc_section_display": true,
   "toc_window_display": false
  }
 },
 "nbformat": 4,
 "nbformat_minor": 5
}

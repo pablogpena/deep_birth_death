{
 "cells": [
  {
   "cell_type": "code",
   "execution_count": 23,
   "id": "8dd4fd7a",
   "metadata": {
    "ExecuteTime": {
     "end_time": "2025-08-08T13:51:27.522991Z",
     "start_time": "2025-08-08T13:51:27.220944Z"
    }
   },
   "outputs": [],
   "source": [
    "%reload_ext autoreload\n",
    "%autoreload 2"
   ]
  },
  {
   "cell_type": "code",
   "execution_count": 24,
   "id": "acdfa92b",
   "metadata": {
    "ExecuteTime": {
     "end_time": "2025-08-08T13:51:28.541872Z",
     "start_time": "2025-08-08T13:51:28.356708Z"
    }
   },
   "outputs": [],
   "source": [
    "import pandas as pd\n",
    "import numpy as np\n",
    "from sklearn.metrics import classification_report\n",
    "import sys\n",
    "\n",
    "sys.path.append('/workspace/deep_birth_death/src')\n",
    "\n",
    "from evaluation.classification import get_MLE_classification_results, plot_conf_mat"
   ]
  },
  {
   "cell_type": "markdown",
   "id": "333c1396",
   "metadata": {},
   "source": [
    "### Data Loading and Preprocessing"
   ]
  },
  {
   "cell_type": "code",
   "execution_count": 25,
   "id": "21092ff9",
   "metadata": {
    "ExecuteTime": {
     "end_time": "2025-08-08T13:51:30.058507Z",
     "start_time": "2025-08-08T13:51:29.708977Z"
    }
   },
   "outputs": [],
   "source": [
    "n_tips = [674, 489, 87]\n",
    "div_scenarios = [\"BD\", \"HE\", \"ME\", \"SAT\", \"SR\", \"WW\"]\n",
    "\n",
    "scenario_to_idx = {scen: i for i, scen in enumerate(div_scenarios)}\n",
    "\n",
    "\n",
    "likelihood_model_names = [\"cbd\", \"ME\", \"shift\", \"SAT\"]\n",
    "\n",
    "model_selection_results = dict()\n",
    "classified_unknown = dict()\n",
    "\n",
    "for tip in n_tips:\n",
    "    model_selection_results[tip] = dict()\n",
    "    classified_unknown[tip] = dict()\n",
    "    \n",
    "    model_selection_results[tip][\"y_pred\"] = []\n",
    "    model_selection_results[tip][\"y_test\"] = []\n",
    "\n",
    "    \n",
    "    for div in div_scenarios:\n",
    "        classified_unknown[tip][div] = dict()\n",
    "        classified_unknown[tip][div] = 0 \n",
    "        \n",
    "        #Load inference data      \n",
    "        treepar_file_path = \"/workspace/deep_birth_death/MLE/inference_data/\" + str(tip) + \"/TreePar_inference_\" + str(tip) + \"_\" + div + \".csv\"\n",
    "        dd_file_path = \"/workspace/deep_birth_death/MLE/inference_data/\" + str(tip) + \"/DDD_inference_\" + str(tip) + \"_\" + div + \".csv\"\n",
    "        \n",
    "        df_tp = pd.read_csv(treepar_file_path)\n",
    "        df_dd = pd.read_csv(dd_file_path)\n",
    "        \n",
    "        classified_unknow = 0\n",
    "        df_merged = df_tp.merge(df_dd[['AIC']], left_index=True, right_index=True, how='inner', suffixes=('_tp', '_dd'))\n",
    "        \n",
    "        #Model selection based on AIC criteria\n",
    "        for i, row in df_merged.iterrows():\n",
    "            aic_values = np.array([\n",
    "                row[\"aic_cbd\"],\n",
    "                row[\"aic_me\"],\n",
    "                row[\"aic_shift\"],\n",
    "                row[\"AIC\"] \n",
    "            ])\n",
    "            \n",
    "            \n",
    "            best_idx = np.argmin(aic_values)  \n",
    "            best_model = likelihood_model_names[best_idx]\n",
    "            \n",
    "            if best_model == \"cbd\":\n",
    "                estimated_a = row[\"estimated_a\"]\n",
    "                estimated_r = row[\"estimated_r\"]\n",
    "                \n",
    "                if estimated_r < 0 or estimated_a < 0:\n",
    "                    best_model = \"unknown\"\n",
    "                elif estimated_a > 0.8:\n",
    "                    best_model = \"HE\"\n",
    "                else:\n",
    "                    best_model = \"BD\"\n",
    "                    \n",
    "            if best_model == \"shift\":\n",
    "                estimated_r0 = row[\"estimated_r0\"]\n",
    "                estimated_r1 = row[\"estimated_r1\"]\n",
    "                if estimated_r0 < 0 and estimated_r1 > 0:\n",
    "                    best_model = \"WW\"\n",
    "                elif estimated_r0 > 0 and estimated_r1 > 0: \n",
    "                    best_model = \"SR\"\n",
    "                else: \n",
    "                    best_model = \"unknow\"\n",
    "                    \n",
    "            #Split the unknow predicted scenarios\n",
    "            if best_model == \"unknow\": \n",
    "                 classified_unknown[tip][div] += 1\n",
    "            \n",
    "            #Save the correct scenarios \n",
    "            else:\n",
    "                real_scenario = str(div)\n",
    "                model_selection_results[tip][\"y_pred\"].append(scenario_to_idx[best_model])\n",
    "                model_selection_results[tip][\"y_test\"].append(scenario_to_idx[real_scenario])\n",
    "                    \n",
    "        \n",
    "    #Save the model selection results\n",
    "    report = classification_report(model_selection_results[tip][\"y_test\"],  model_selection_results[tip][\"y_pred\"], output_dict=True)\n",
    "\n",
    "    \n",
    "    model_selection_results[tip]['accuracy'] = report['accuracy']\n",
    "    model_selection_results[tip]['f1-score'] = report['macro avg']['f1-score']\n",
    "    model_selection_results[tip]['recall'] = report['macro avg']['recall']\n",
    "    model_selection_results[tip]['precision'] = report['macro avg']['precision']"
   ]
  },
  {
   "cell_type": "markdown",
   "id": "5b455af9",
   "metadata": {},
   "source": [
    "### Results generation"
   ]
  },
  {
   "cell_type": "code",
   "execution_count": 26,
   "id": "790002f7",
   "metadata": {
    "ExecuteTime": {
     "end_time": "2025-08-08T13:51:31.379273Z",
     "start_time": "2025-08-08T13:51:31.300973Z"
    }
   },
   "outputs": [
    {
     "name": "stdout",
     "output_type": "stream",
     "text": [
      "Unknown scenarios predicted by TreePar\n"
     ]
    },
    {
     "data": {
      "text/html": [
       "<div>\n",
       "<style scoped>\n",
       "    .dataframe tbody tr th:only-of-type {\n",
       "        vertical-align: middle;\n",
       "    }\n",
       "\n",
       "    .dataframe tbody tr th {\n",
       "        vertical-align: top;\n",
       "    }\n",
       "\n",
       "    .dataframe thead th {\n",
       "        text-align: right;\n",
       "    }\n",
       "</style>\n",
       "<table border=\"1\" class=\"dataframe\">\n",
       "  <thead>\n",
       "    <tr style=\"text-align: right;\">\n",
       "      <th></th>\n",
       "      <th>674</th>\n",
       "      <th>489</th>\n",
       "      <th>87</th>\n",
       "    </tr>\n",
       "  </thead>\n",
       "  <tbody>\n",
       "    <tr>\n",
       "      <th>BD</th>\n",
       "      <td>6</td>\n",
       "      <td>4</td>\n",
       "      <td>6</td>\n",
       "    </tr>\n",
       "    <tr>\n",
       "      <th>HE</th>\n",
       "      <td>4</td>\n",
       "      <td>4</td>\n",
       "      <td>2</td>\n",
       "    </tr>\n",
       "    <tr>\n",
       "      <th>ME</th>\n",
       "      <td>6</td>\n",
       "      <td>7</td>\n",
       "      <td>17</td>\n",
       "    </tr>\n",
       "    <tr>\n",
       "      <th>SAT</th>\n",
       "      <td>0</td>\n",
       "      <td>0</td>\n",
       "      <td>0</td>\n",
       "    </tr>\n",
       "    <tr>\n",
       "      <th>SR</th>\n",
       "      <td>22</td>\n",
       "      <td>17</td>\n",
       "      <td>34</td>\n",
       "    </tr>\n",
       "    <tr>\n",
       "      <th>WW</th>\n",
       "      <td>0</td>\n",
       "      <td>0</td>\n",
       "      <td>0</td>\n",
       "    </tr>\n",
       "  </tbody>\n",
       "</table>\n",
       "</div>"
      ],
      "text/plain": [
       "     674  489  87 \n",
       "BD     6    4    6\n",
       "HE     4    4    2\n",
       "ME     6    7   17\n",
       "SAT    0    0    0\n",
       "SR    22   17   34\n",
       "WW     0    0    0"
      ]
     },
     "execution_count": 26,
     "metadata": {},
     "output_type": "execute_result"
    }
   ],
   "source": [
    "df = pd.DataFrame.from_dict(classified_unknown, orient='index')\n",
    "print(\"Unknown scenarios predicted by TreePar\")\n",
    "df.T"
   ]
  },
  {
   "cell_type": "code",
   "execution_count": 27,
   "id": "b0bc55b5",
   "metadata": {
    "ExecuteTime": {
     "end_time": "2025-08-08T13:51:32.759248Z",
     "start_time": "2025-08-08T13:51:32.585992Z"
    }
   },
   "outputs": [
    {
     "data": {
      "text/html": [
       "<div>\n",
       "<style scoped>\n",
       "    .dataframe tbody tr th:only-of-type {\n",
       "        vertical-align: middle;\n",
       "    }\n",
       "\n",
       "    .dataframe tbody tr th {\n",
       "        vertical-align: top;\n",
       "    }\n",
       "\n",
       "    .dataframe thead th {\n",
       "        text-align: right;\n",
       "    }\n",
       "</style>\n",
       "<table border=\"1\" class=\"dataframe\">\n",
       "  <thead>\n",
       "    <tr style=\"text-align: right;\">\n",
       "      <th></th>\n",
       "      <th>674</th>\n",
       "      <th>489</th>\n",
       "      <th>87</th>\n",
       "    </tr>\n",
       "  </thead>\n",
       "  <tbody>\n",
       "    <tr>\n",
       "      <th>accuracy</th>\n",
       "      <td>0.731317</td>\n",
       "      <td>0.737828</td>\n",
       "      <td>0.715342</td>\n",
       "    </tr>\n",
       "    <tr>\n",
       "      <th>F1-Score</th>\n",
       "      <td>0.732764</td>\n",
       "      <td>0.726884</td>\n",
       "      <td>0.694824</td>\n",
       "    </tr>\n",
       "    <tr>\n",
       "      <th>Recall</th>\n",
       "      <td>0.733054</td>\n",
       "      <td>0.74201</td>\n",
       "      <td>0.694126</td>\n",
       "    </tr>\n",
       "    <tr>\n",
       "      <th>Precision</th>\n",
       "      <td>0.808988</td>\n",
       "      <td>0.792207</td>\n",
       "      <td>0.726768</td>\n",
       "    </tr>\n",
       "  </tbody>\n",
       "</table>\n",
       "</div>"
      ],
      "text/plain": [
       "                674       489       87 \n",
       "accuracy   0.731317  0.737828  0.715342\n",
       "F1-Score   0.732764  0.726884  0.694824\n",
       "Recall     0.733054   0.74201  0.694126\n",
       "Precision  0.808988  0.792207  0.726768"
      ]
     },
     "execution_count": 27,
     "metadata": {},
     "output_type": "execute_result"
    }
   ],
   "source": [
    "get_MLE_classification_results(model_selection_results)"
   ]
  },
  {
   "cell_type": "code",
   "execution_count": 28,
   "id": "e39a6a87",
   "metadata": {
    "ExecuteTime": {
     "end_time": "2025-08-08T13:51:34.172598Z",
     "start_time": "2025-08-08T13:51:33.507969Z"
    },
    "scrolled": true
   },
   "outputs": [
    {
     "data": {
      "image/png": "[encoded data removed]",
      "text/plain": [
       "<Figure size 360x360 with 1 Axes>"
      ]
     },
     "metadata": {
      "needs_background": "light"
     },
     "output_type": "display_data"
    },
    {
     "name": "stdout",
     "output_type": "stream",
     "text": [
      "              precision    recall  f1-score   support\n",
      "\n",
      "           0     0.9286    0.5532    0.6933        94\n",
      "           1     1.0000    0.5729    0.7285        96\n",
      "           2     0.5704    0.8617    0.6864        94\n",
      "           3     0.9709    1.0000    0.9852       100\n",
      "           4     0.4476    0.8205    0.5792        78\n",
      "           5     0.9365    0.5900    0.7239       100\n",
      "\n",
      "    accuracy                         0.7313       562\n",
      "   macro avg     0.8090    0.7331    0.7328       562\n",
      "weighted avg     0.8230    0.7313    0.7397       562\n",
      "\n"
     ]
    },
    {
     "data": {
      "image/png": "[encoded data removed]",
      "text/plain": [
       "<Figure size 360x360 with 1 Axes>"
      ]
     },
     "metadata": {
      "needs_background": "light"
     },
     "output_type": "display_data"
    },
    {
     "name": "stdout",
     "output_type": "stream",
     "text": [
      "              precision    recall  f1-score   support\n",
      "\n",
      "           0     0.8548    0.5521    0.6709        96\n",
      "           1     1.0000    0.5208    0.6849        96\n",
      "           2     0.5714    0.9032    0.7000        93\n",
      "           3     0.9900    0.9900    0.9900       100\n",
      "           4     0.3786    0.7959    0.5132        49\n",
      "           5     0.9583    0.6900    0.8023       100\n",
      "\n",
      "    accuracy                         0.7378       534\n",
      "   macro avg     0.7922    0.7420    0.7269       534\n",
      "weighted avg     0.8326    0.7378    0.7484       534\n",
      "\n"
     ]
    },
    {
     "data": {
      "image/png": "[encoded data removed]",
      "text/plain": [
       "<Figure size 360x360 with 1 Axes>"
      ]
     },
     "metadata": {
      "needs_background": "light"
     },
     "output_type": "display_data"
    },
    {
     "name": "stdout",
     "output_type": "stream",
     "text": [
      "              precision    recall  f1-score   support\n",
      "\n",
      "           0     0.7474    0.7553    0.7513        94\n",
      "           1     0.9322    0.5612    0.7006        98\n",
      "           2     0.4748    0.7952    0.5946        83\n",
      "           3     0.9901    1.0000    0.9950       100\n",
      "           4     0.3125    0.3030    0.3077        66\n",
      "           5     0.9036    0.7500    0.8197       100\n",
      "\n",
      "    accuracy                         0.7153       541\n",
      "   macro avg     0.7268    0.6941    0.6948       541\n",
      "weighted avg     0.7597    0.7153    0.7217       541\n",
      "\n"
     ]
    }
   ],
   "source": [
    "for tip in n_tips:\n",
    "    plot_conf_mat(model_selection_results[tip][\"y_pred\"], model_selection_results[tip][\"y_test\"], div_scenarios, str(tip))"
   ]
  }
 ],
 "metadata": {
  "kernelspec": {
   "display_name": "Python 3",
   "language": "python",
   "name": "python3"
  },
  "language_info": {
   "codemirror_mode": {
    "name": "ipython",
    "version": 3
   },
   "file_extension": ".py",
   "mimetype": "text/x-python",
   "name": "python",
   "nbconvert_exporter": "python",
   "pygments_lexer": "ipython3",
   "version": "3.8.10"
  },
  "toc": {
   "base_numbering": 1,
   "nav_menu": {},
   "number_sections": false,
   "sideBar": true,
   "skip_h1_title": false,
   "title_cell": "Table of Contents",
   "title_sidebar": "Contents",
   "toc_cell": false,
   "toc_position": {},
   "toc_section_display": true,
   "toc_window_display": false
  }
 },
 "nbformat": 4,
 "nbformat_minor": 5
}

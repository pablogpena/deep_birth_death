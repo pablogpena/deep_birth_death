{
 "cells": [
  {
   "cell_type": "code",
   "execution_count": 35,
   "id": "c9519754",
   "metadata": {
    "ExecuteTime": {
     "end_time": "2025-08-10T17:31:56.307163Z",
     "start_time": "2025-08-10T17:31:56.261413Z"
    }
   },
   "outputs": [],
   "source": [
    "%reload_ext autoreload\n",
    "%autoreload 2"
   ]
  },
  {
   "cell_type": "code",
   "execution_count": 36,
   "id": "b735e587",
   "metadata": {
    "ExecuteTime": {
     "end_time": "2025-08-10T17:31:56.520691Z",
     "start_time": "2025-08-10T17:31:56.483073Z"
    }
   },
   "outputs": [],
   "source": [
    "import pandas as pd\n",
    "import numpy as np"
   ]
  },
  {
   "cell_type": "markdown",
   "id": "e379ada3",
   "metadata": {},
   "source": [
    "## Set up"
   ]
  },
  {
   "cell_type": "code",
   "execution_count": 44,
   "id": "7115fa6c",
   "metadata": {
    "ExecuteTime": {
     "end_time": "2025-08-10T17:33:51.380677Z",
     "start_time": "2025-08-10T17:33:51.338422Z"
    }
   },
   "outputs": [],
   "source": [
    "treepar_file_path = \"/workspace/deep_birth_death/MLE/inference_data/empiric/TreePar_empiric_inference.csv\"\n",
    "dd_file_path = \"/workspace/deep_birth_death/MLE/inference_data/empiric/DDD_empiric_inference.csv\"\n",
    "\n",
    "div_scenarios = [\"BD\", \"HE\", \"ME\", \"SAT\", \"SR\", \"WW\"]\n",
    "likelihood_model_names = [\"cbd\", \"ME\", \"shift\", \"SAT\"]"
   ]
  },
  {
   "cell_type": "markdown",
   "id": "31b50c3b",
   "metadata": {},
   "source": [
    "## Read the inference data"
   ]
  },
  {
   "cell_type": "code",
   "execution_count": 45,
   "id": "5e40bee2",
   "metadata": {
    "ExecuteTime": {
     "end_time": "2025-08-10T17:33:51.890658Z",
     "start_time": "2025-08-10T17:33:51.848340Z"
    }
   },
   "outputs": [],
   "source": [
    "df_tp = pd.read_csv(treepar_file_path)\n",
    "df_dd = pd.read_csv(dd_file_path)\n",
    "\n",
    "df_merged = df_tp.merge(df_dd[['AIC']], left_index=True, right_index=True, how='inner', suffixes=('_tp', '_dd'))"
   ]
  },
  {
   "cell_type": "markdown",
   "id": "0a618ed8",
   "metadata": {},
   "source": [
    "## Evalute the AIC"
   ]
  },
  {
   "cell_type": "code",
   "execution_count": 49,
   "id": "40eaac9c",
   "metadata": {
    "ExecuteTime": {
     "end_time": "2025-08-10T17:36:32.390404Z",
     "start_time": "2025-08-10T17:36:32.344348Z"
    },
    "scrolled": true
   },
   "outputs": [
    {
     "name": "stdout",
     "output_type": "stream",
     "text": [
      "The selected diversification scenario for eucalypts using model selection is : WW\n",
      "AIC value = 2762.52061445991\n",
      "The selected diversification scenario for conifers using model selection is : SR\n",
      "AIC value = 3573.52898214668\n",
      "The selected diversification scenario for cetaceans using model selection is : SR\n",
      "AIC value = 556.451438320556\n"
     ]
    }
   ],
   "source": [
    "for i, row in df_merged.iterrows():\n",
    "    name = df_merged[\"name\"][i]\n",
    "\n",
    "    aic_values = np.array([\n",
    "        row[\"aic_cbd\"],\n",
    "        row[\"aic_me\"],\n",
    "        row[\"aic_shift\"],\n",
    "        row[\"AIC\"] \n",
    "    ])\n",
    "    \n",
    "    if name == \"conifers\": #We take out the DDD inference because the likelihood is 0 \n",
    "        \n",
    "        aic_values = np.array([\n",
    "            row[\"aic_cbd\"],\n",
    "            row[\"aic_me\"],\n",
    "            row[\"aic_shift\"]\n",
    "        ])\n",
    "        \n",
    "    \n",
    "    best_idx = np.argmin(aic_values) \n",
    "    best_model = likelihood_model_names[best_idx]\n",
    "\n",
    "    if best_model == \"cbd\":\n",
    "        estimated_a = row[\"estimated_a\"]\n",
    "        estimated_r = row[\"estimated_r\"]\n",
    "        \n",
    "        if estimated_r < 0 or estimated_a < 0:\n",
    "            best_model = \"unknown\"\n",
    "        elif estimated_a > 0.8:\n",
    "            best_model = \"HE\"\n",
    "        else:\n",
    "            best_model = \"BD\"\n",
    "            \n",
    "    if best_model == \"shift\":\n",
    "        estimated_r0 = row[\"estimated_r0\"]\n",
    "        estimated_r1 = row[\"estimated_r1\"]\n",
    "        if estimated_r0 < 0 and estimated_r1 > 0:\n",
    "            best_model = \"WW\"\n",
    "        elif estimated_r0 > 0 and estimated_r1 > 0: \n",
    "            best_model = \"SR\"\n",
    "        else: \n",
    "            best_model = \"unknow\"\n",
    "            \n",
    "    print(\"The selected diversification scenario for \" + name + \n",
    "      \" using model selection is : \" + best_model + \"\\n\" +\n",
    "        \"AIC value = \" + str(np.min(aic_values)))"
   ]
  },
  {
   "cell_type": "markdown",
   "id": "6bcd03fc",
   "metadata": {},
   "source": [
    "## Estimate the parameters"
   ]
  },
  {
   "cell_type": "code",
   "execution_count": 50,
   "id": "8a225c31",
   "metadata": {
    "ExecuteTime": {
     "end_time": "2025-08-10T17:36:39.609218Z",
     "start_time": "2025-08-10T17:36:39.566549Z"
    },
    "scrolled": false
   },
   "outputs": [
    {
     "name": "stdout",
     "output_type": "stream",
     "text": [
      "eucalypts estimated parameters:\n",
      "r0: -0.261043125239362\n",
      "r1: 0.0688499208827288\n",
      "a0: 1.21808419387\n",
      "a1: 0.962008797205983\n",
      "t: 5.01415299999999\n",
      "conifers estimated parameters:\n",
      "r0: 0.0338362845288278\n",
      "r1: 0.0125112725326837\n",
      "a0: 0.763168329460883\n",
      "a1: 0.703166320545217\n",
      "t: 24.5506652242002\n",
      "cetaceans estimated parameters:\n",
      "r0: 0.0620341733585666\n",
      "r1: 0.0802823874085986\n",
      "a0: 0.0919229324451192\n",
      "a1: 0.520238395964933\n",
      "t: 2.78828300249999\n"
     ]
    }
   ],
   "source": [
    "for i, row in df_merged.iterrows():\n",
    "    name = row[\"name\"]\n",
    "    if name == \"eucalypts\":\n",
    "        print(\n",
    "            f\"{name} estimated parameters:\\n\"\n",
    "            f\"r0: {row['estimated_r0']}\\n\"\n",
    "            f\"r1: {row['estimated_r1']}\\n\"\n",
    "            f\"a0: {row['estimated_a0']}\\n\"\n",
    "            f\"a1: {row['estimated_a1']}\\n\"\n",
    "            f\"t: {row['estimated_t']}\"\n",
    "        )\n",
    "    elif name == \"conifers\": \n",
    "        print(\n",
    "            f\"{name} estimated parameters:\\n\"\n",
    "            f\"r0: {row['estimated_r0']}\\n\"\n",
    "            f\"r1: {row['estimated_r1']}\\n\"\n",
    "            f\"a0: {row['estimated_a0']}\\n\"\n",
    "            f\"a1: {row['estimated_a1']}\\n\"\n",
    "            f\"t: {row['estimated_t']}\"\n",
    "        )        \n",
    "    else: \n",
    "        print(\n",
    "            f\"{name} estimated parameters:\\n\"\n",
    "            f\"r0: {row['estimated_r0']}\\n\"\n",
    "            f\"r1: {row['estimated_r1']}\\n\"\n",
    "            f\"a0: {row['estimated_a0']}\\n\"\n",
    "            f\"a1: {row['estimated_a1']}\\n\"\n",
    "            f\"t: {row['estimated_t']}\"\n",
    "        )         "
   ]
  }
 ],
 "metadata": {
  "kernelspec": {
   "display_name": "Python 3",
   "language": "python",
   "name": "python3"
  },
  "language_info": {
   "codemirror_mode": {
    "name": "ipython",
    "version": 3
   },
   "file_extension": ".py",
   "mimetype": "text/x-python",
   "name": "python",
   "nbconvert_exporter": "python",
   "pygments_lexer": "ipython3",
   "version": "3.8.10"
  },
  "toc": {
   "base_numbering": 1,
   "nav_menu": {},
   "number_sections": false,
   "sideBar": true,
   "skip_h1_title": false,
   "title_cell": "Table of Contents",
   "title_sidebar": "Contents",
   "toc_cell": false,
   "toc_position": {},
   "toc_section_display": true,
   "toc_window_display": false
  }
 },
 "nbformat": 4,
 "nbformat_minor": 5
}

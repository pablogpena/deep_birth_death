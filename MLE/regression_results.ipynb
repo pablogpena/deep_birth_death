{
 "cells": [
  {
   "cell_type": "code",
   "execution_count": 1,
   "id": "6570ab70",
   "metadata": {
    "ExecuteTime": {
     "end_time": "2025-08-07T12:59:57.535391Z",
     "start_time": "2025-08-07T12:59:57.520442Z"
    }
   },
   "outputs": [],
   "source": [
    "%reload_ext autoreload\n",
    "%autoreload 2"
   ]
  },
  {
   "cell_type": "code",
   "execution_count": 2,
   "id": "bf387c96",
   "metadata": {
    "ExecuteTime": {
     "end_time": "2025-08-07T12:59:59.903268Z",
     "start_time": "2025-08-07T12:59:57.713752Z"
    }
   },
   "outputs": [],
   "source": [
    "import pandas as pd\n",
    "import numpy as np\n",
    "import seaborn as sns\n",
    "import matplotlib.pyplot as plt\n",
    "import sys\n",
    "\n",
    "sys.path.append('/workspace/deep_birth_death/src')\n",
    "\n",
    "from evaluation.regression import get_regression_metrics, plot_errors_boxplot, plot_errors, predicted_minus_target_vs_target, get_clipping_results"
   ]
  },
  {
   "cell_type": "markdown",
   "id": "78544430",
   "metadata": {},
   "source": [
    "## Generate the results"
   ]
  },
  {
   "cell_type": "code",
   "execution_count": 3,
   "id": "66f2e5c6",
   "metadata": {
    "ExecuteTime": {
     "end_time": "2025-08-07T12:59:59.931591Z",
     "start_time": "2025-08-07T12:59:59.904924Z"
    }
   },
   "outputs": [],
   "source": [
    "pd.options.display.float_format = \"{:,.4f}\".format"
   ]
  },
  {
   "cell_type": "code",
   "execution_count": 4,
   "id": "1c83c876",
   "metadata": {
    "ExecuteTime": {
     "end_time": "2025-08-07T12:59:59.959270Z",
     "start_time": "2025-08-07T12:59:59.933424Z"
    }
   },
   "outputs": [],
   "source": [
    "n_tips = [674, 489, 87]\n",
    "div_scenarios = [\"BD\", \"HE\", \"ME\", \"SAT\", \"SR\", \"WW\"]"
   ]
  },
  {
   "cell_type": "code",
   "execution_count": 5,
   "id": "5f3ef768",
   "metadata": {
    "ExecuteTime": {
     "end_time": "2025-08-07T13:00:00.043685Z",
     "start_time": "2025-08-07T12:59:59.960672Z"
    },
    "scrolled": true
   },
   "outputs": [],
   "source": [
    "inference_results = dict()\n",
    "\n",
    "for tip in n_tips:\n",
    "    inference_results[tip] = dict()\n",
    "    for div in div_scenarios:\n",
    "        \n",
    "        #Load the data\n",
    "        inference_results[tip][div] = dict()\n",
    "\n",
    "        file_path = \"/workspace/deep_birth_death/MLE/inference_data/\" + str(tip) + \"/TreePar_inference_\" + str(tip) + \"_\" + div + \".csv\"\n",
    "        if div == \"SAT\":\n",
    "            file_path = \"/workspace/deep_birth_death/MLE/inference_data/\" + str(tip) + \"/DDD_inference_\" + str(tip) + \"_\" + div + \".csv\"\n",
    "        df = pd.read_csv(file_path)\n",
    "        \n",
    "        if div == \"BD\":\n",
    "            y_test = df[[\"real_a0\", \"real_r0\"]].to_numpy()\n",
    "            y_pred_raw = df[[\"estimated_a\", \"estimated_r\"]].to_numpy()\n",
    "            \n",
    "            min_value = np.array([0.01, 0.01])            \n",
    "            max_value = np.array([0.5, 4])                        \n",
    "            \n",
    "        elif div == \"HE\":\n",
    "            y_test = df[[\"real_a0\", \"real_r0\"]].to_numpy()\n",
    "            y_pred_raw = df[[\"estimated_a\", \"estimated_r\"]].to_numpy()\n",
    "            \n",
    "            min_value = np.array([0.8, 0.01])            \n",
    "            max_value = np.array([0.9, 4])   \n",
    "                        \n",
    "        elif div == \"SAT\":\n",
    "            y_test = df[[\"real_lambda\"]].to_numpy()\n",
    "            y_pred_raw = df[[\"estimated_lambda\"]].to_numpy()\n",
    "            \n",
    "            min_value = np.array([0.01])            \n",
    "            max_value = np.array([4])  \n",
    "  \n",
    "            \n",
    "        elif div == \"ME\":\n",
    "            y_test = df[[\"real_a0\", \"real_r0\", \"real_frac_1\", \"real_t\"]].to_numpy()\n",
    "            y_pred_raw = df[[\"estimated_a_me\", \"estimated_r_me\", \"estimated_frac_1_me\", \"estimated_time_me\"]].to_numpy()\n",
    "          \n",
    "            min_value = np.array([0.3, 0.01, 0.1, 3])            \n",
    "            max_value = np.array([0.8, 1, 0.3, 20]) \n",
    "        \n",
    "        elif div == \"SR\":\n",
    "            y_test = df[[\"real_a0\", \"real_a1\",\"real_r0\", \"real_r1\", \"real_t\"]].to_numpy()\n",
    "            y_pred_raw = df[[\"estimated_a0\", \"estimated_a1\", \"estimated_r0\", \"estimated_r1\", \"estimated_t\"]].to_numpy()\n",
    "        \n",
    "            min_value = np.array([0.05, 0.55, 0.25, 0.01, 3])            \n",
    "            max_value = np.array([0.5, 0.95, 1.99, 1, 20])         \n",
    "        \n",
    "        else: \n",
    "            y_test = df[[\"real_a0\", \"real_a1\",\"real_r0\", \"real_r1\", \"real_t\"]].to_numpy()\n",
    "            y_pred_raw = df[[\"estimated_a0\", \"estimated_a1\", \"estimated_r0\", \"estimated_r1\", \"estimated_t\"]].to_numpy()\n",
    "            \n",
    "            min_value = np.array([1.3, 0.25, -0.2, 0.5, 3])            \n",
    "            max_value = np.array([2, 0.6, -0.01, 1.5, 20])              \n",
    "        \n",
    "\n",
    "        \n",
    "        #Clip the values\n",
    "        y_pred = np.clip(y_pred_raw, min_value, max_value)\n",
    "        precentage_clipped = (np.sum(y_pred_raw != y_pred, axis=0)/y_pred_raw.shape[0])*100\n",
    "        \n",
    "        clipped_below = (np.sum(y_pred_raw < min_value, axis=0) / y_pred_raw.shape[0]) * 100\n",
    "        clipped_above = (np.sum(y_pred_raw > max_value, axis=0) / y_pred_raw.shape[0]) * 100\n",
    "    \n",
    "        #Estimate the erros\n",
    "        mae = np.mean(np.abs(y_pred - y_test), axis=0)\n",
    "        mre = np.mean(np.abs((y_pred - y_test) / y_test), axis=0)\n",
    "        \n",
    "        raw_error = y_pred - y_test\n",
    "        abs_error = abs(y_pred - y_test)\n",
    "        \n",
    "        #Save the results\n",
    "        inference_results[tip][div][\"MAE\"] = mae\n",
    "        inference_results[tip][div][\"MRE\"] = mre       \n",
    "        inference_results[tip][div][\"raw_error\"] = raw_error\n",
    "        inference_results[tip][div][\"abs_error\"] = abs_error   \n",
    "        \n",
    "        inference_results[tip][div][\"clipped_perc\"] = precentage_clipped\n",
    "        inference_results[tip][div][\"clipped_below\"] = clipped_below        \n",
    "        inference_results[tip][div][\"clipped_above\"] = clipped_above   \n",
    "        \n",
    "        inference_results[tip][div][\"real_values\"] = y_test  \n",
    "        "
   ]
  },
  {
   "cell_type": "markdown",
   "id": "43779140",
   "metadata": {},
   "source": [
    "## Get regression metrics"
   ]
  },
  {
   "cell_type": "markdown",
   "id": "cbef8181",
   "metadata": {},
   "source": [
    "### MAE "
   ]
  },
  {
   "cell_type": "code",
   "execution_count": 6,
   "id": "4b03f021",
   "metadata": {
    "ExecuteTime": {
     "end_time": "2025-08-07T13:00:00.099886Z",
     "start_time": "2025-08-07T13:00:00.045387Z"
    },
    "scrolled": false
   },
   "outputs": [
    {
     "name": "stdout",
     "output_type": "stream",
     "text": [
      "----------- Size is 674 -----------\n",
      "\n",
      "-----------Div_scenario is BD -----------\n",
      "         r      a\n",
      "MAE 0.0688 0.1166 \n",
      "\n",
      "-----------Div_scenario is HE -----------\n",
      "         r      a\n",
      "MAE 0.0191 0.2462 \n",
      "\n",
      "-----------Div_scenario is ME -----------\n",
      "         r      a   time   frac\n",
      "MAE 0.0574 0.0338 0.0584 0.9089 \n",
      "\n",
      "-----------Div_scenario is SAT -----------\n",
      "     lambda 0\n",
      "MAE    0.0631 \n",
      "\n",
      "-----------Div_scenario is SR -----------\n",
      "        r0     r1     a0     a1   time\n",
      "MAE 0.0837 0.2204 0.0499 0.0285 1.3913 \n",
      "\n",
      "-----------Div_scenario is WW -----------\n",
      "        r0     r1     a0     a1   time\n",
      "MAE 0.2117 0.1621 0.0351 0.1407 0.3356 \n",
      "\n",
      "----------- Size is 489 -----------\n",
      "\n",
      "-----------Div_scenario is BD -----------\n",
      "         r      a\n",
      "MAE 0.0805 0.1510 \n",
      "\n",
      "-----------Div_scenario is HE -----------\n",
      "         r      a\n",
      "MAE 0.0260 0.2678 \n",
      "\n",
      "-----------Div_scenario is ME -----------\n",
      "         r      a   time   frac\n",
      "MAE 0.0580 0.0264 0.0543 0.7131 \n",
      "\n",
      "-----------Div_scenario is SAT -----------\n",
      "     lambda 0\n",
      "MAE    0.0700 \n",
      "\n",
      "-----------Div_scenario is SR -----------\n",
      "        r0     r1     a0     a1   time\n",
      "MAE 0.0802 0.1660 0.0464 0.0333 1.5679 \n",
      "\n",
      "-----------Div_scenario is WW -----------\n",
      "        r0     r1     a0     a1   time\n",
      "MAE 0.1796 0.1550 0.0386 0.0974 0.3904 \n",
      "\n",
      "----------- Size is 87 -----------\n",
      "\n",
      "-----------Div_scenario is BD -----------\n",
      "         r      a\n",
      "MAE 0.1433 0.3459 \n",
      "\n",
      "-----------Div_scenario is HE -----------\n",
      "         r      a\n",
      "MAE 0.0315 0.6111 \n",
      "\n",
      "-----------Div_scenario is ME -----------\n",
      "         r      a   time   frac\n",
      "MAE 0.1230 0.0567 0.0757 1.8258 \n",
      "\n",
      "-----------Div_scenario is SAT -----------\n",
      "     lambda 0\n",
      "MAE    0.1800 \n",
      "\n",
      "-----------Div_scenario is SR -----------\n",
      "        r0     r1     a0     a1   time\n",
      "MAE 0.1869 0.1964 0.1439 0.0415 2.0699 \n",
      "\n",
      "-----------Div_scenario is WW -----------\n",
      "        r0     r1     a0     a1   time\n",
      "MAE 0.1815 0.1678 0.0425 0.1451 0.6091 \n",
      "\n"
     ]
    }
   ],
   "source": [
    "for tip in n_tips: \n",
    "    print(\"----------- Size is \" + str(tip) + \" -----------\\n\")\n",
    "    for scenario in div_scenarios: \n",
    "        print(\"-----------Div_scenario is \" + scenario +\" -----------\")\n",
    "        mae = get_regression_metrics(inference_results, tip, scenario, \"MAE\")\n",
    "        print(mae, \"\\n\")"
   ]
  },
  {
   "cell_type": "markdown",
   "id": "6d12e122",
   "metadata": {},
   "source": [
    "### MRE "
   ]
  },
  {
   "cell_type": "code",
   "execution_count": 8,
   "id": "2c56564d",
   "metadata": {
    "ExecuteTime": {
     "end_time": "2025-08-06T09:15:21.917775Z",
     "start_time": "2025-08-06T09:15:21.846522Z"
    },
    "scrolled": true
   },
   "outputs": [
    {
     "name": "stdout",
     "output_type": "stream",
     "text": [
      "----------- Size is 674 -----------\n",
      "\n",
      "-----------Div_scenario is BD -----------\n",
      "         r      a\n",
      "MRE 0.4991 0.0583 \n",
      "\n",
      "-----------Div_scenario is HE -----------\n",
      "         r      a\n",
      "MRE 0.0225 0.1247 \n",
      "\n",
      "-----------Div_scenario is ME -----------\n",
      "         r      a   time   frac\n",
      "MRE 0.1251 0.1016 0.2870 0.0936 \n",
      "\n",
      "-----------Div_scenario is SAT -----------\n",
      "     lambda 0\n",
      "MRE    0.0343 \n",
      "\n",
      "-----------Div_scenario is SR -----------\n",
      "        r0     r1     a0     a1   time\n",
      "MRE 0.3660 0.3205 0.0837 0.7424 0.1554 \n",
      "\n",
      "-----------Div_scenario is WW -----------\n",
      "        r0     r1     a0     a1   time\n",
      "MRE 0.1220 0.3624 0.4966 0.1417 0.0281 \n",
      "\n",
      "----------- Size is 489 -----------\n",
      "\n",
      "-----------Div_scenario is BD -----------\n",
      "         r      a\n",
      "MRE 0.7354 0.0745 \n",
      "\n",
      "-----------Div_scenario is HE -----------\n",
      "         r      a\n",
      "MRE 0.0308 0.1648 \n",
      "\n",
      "-----------Div_scenario is ME -----------\n",
      "         r      a   time   frac\n",
      "MRE 0.1224 0.0905 0.2582 0.0776 \n",
      "\n",
      "-----------Div_scenario is SAT -----------\n",
      "     lambda 0\n",
      "MRE    0.0341 \n",
      "\n",
      "-----------Div_scenario is SR -----------\n",
      "        r0     r1     a0     a1   time\n",
      "MRE 0.4339 0.2314 0.0793 0.5705 0.2072 \n",
      "\n",
      "-----------Div_scenario is WW -----------\n",
      "        r0     r1     a0     a1   time\n",
      "MRE 0.1053 0.3593 0.3962 0.1072 0.0332 \n",
      "\n",
      "----------- Size is 87 -----------\n",
      "\n",
      "-----------Div_scenario is BD -----------\n",
      "         r      a\n",
      "MRE 1.1123 0.1682 \n",
      "\n",
      "-----------Div_scenario is HE -----------\n",
      "         r      a\n",
      "MRE 0.0374 0.3364 \n",
      "\n",
      "-----------Div_scenario is ME -----------\n",
      "         r      a   time   frac\n",
      "MRE 0.2414 0.2618 0.3531 0.1807 \n",
      "\n",
      "-----------Div_scenario is SAT -----------\n",
      "     lambda 0\n",
      "MRE    0.0863 \n",
      "\n",
      "-----------Div_scenario is SR -----------\n",
      "        r0     r1     a0     a1   time\n",
      "MRE 1.1461 0.2915 0.2537 0.7350 0.3698 \n",
      "\n",
      "-----------Div_scenario is WW -----------\n",
      "        r0     r1     a0     a1   time\n",
      "MRE 0.1103 0.4282 0.4198 0.1766 0.0466 \n",
      "\n"
     ]
    }
   ],
   "source": [
    "for tip in n_tips: \n",
    "    print(\"----------- Size is \" + str(tip) + \" -----------\\n\")\n",
    "    for scenario in div_scenarios: \n",
    "        print(\"-----------Div_scenario is \" + scenario +\" -----------\")\n",
    "        mre = get_regression_metrics(inference_results, tip, scenario, \"MRE\")\n",
    "        print(mre, \"\\n\")"
   ]
  },
  {
   "cell_type": "markdown",
   "id": "7120b3e9",
   "metadata": {},
   "source": [
    "### Clipping percentage"
   ]
  },
  {
   "cell_type": "code",
   "execution_count": 9,
   "id": "e699aca2",
   "metadata": {
    "ExecuteTime": {
     "end_time": "2025-08-06T09:15:22.352099Z",
     "start_time": "2025-08-06T09:15:22.227376Z"
    }
   },
   "outputs": [
    {
     "name": "stdout",
     "output_type": "stream",
     "text": [
      "\n",
      "----------- Size is 674 -----------\n",
      "--- BD ---\n",
      "                a      r\n",
      "Clipped % 17.0000 1.0000\n",
      "             a      r\n",
      "Below % 9.0000 0.0000\n",
      "             a      r\n",
      "Above % 8.0000 1.0000 \n",
      "\n",
      "--- HE ---\n",
      "                a      r\n",
      "Clipped % 21.0000 5.0000\n",
      "             a      r\n",
      "Below % 7.0000 0.0000\n",
      "              a      r\n",
      "Above % 14.0000 5.0000 \n",
      "\n",
      "--- ME ---\n",
      "                a      r    frac   time\n",
      "Clipped % 16.0000 0.0000 30.0000 5.0000\n",
      "              a      r    frac   time\n",
      "Below % 13.0000 0.0000 24.0000 2.0000\n",
      "             a      r   frac   time\n",
      "Above % 3.0000 0.0000 6.0000 3.0000 \n",
      "\n",
      "--- SAT ---\n",
      "           lambda 0\n",
      "Clipped %    3.0000\n",
      "         lambda 0\n",
      "Below %    1.0000\n",
      "         lambda 0\n",
      "Above %    2.0000 \n",
      "\n",
      "--- SR ---\n",
      "               a0      a1     r0      r1   time\n",
      "Clipped % 28.5714 85.7143 0.0000 50.0000 0.0000\n",
      "             a0      a1     r0      r1   time\n",
      "Below % 28.5714 35.7143 0.0000 50.0000 0.0000\n",
      "            a0      a1     r0     r1   time\n",
      "Above % 0.0000 50.0000 0.0000 0.0000 0.0000 \n",
      "\n",
      "--- WW ---\n",
      "               a0      a1      r0      r1   time\n",
      "Clipped % 50.0000 75.0000 58.0000 10.0000 1.0000\n",
      "             a0      a1      r0     r1   time\n",
      "Below % 44.0000 69.0000 17.0000 8.0000 1.0000\n",
      "            a0     a1      r0     r1   time\n",
      "Above % 6.0000 6.0000 41.0000 2.0000 0.0000 \n",
      "\n",
      "\n",
      "----------- Size is 489 -----------\n",
      "--- BD ---\n",
      "                a      r\n",
      "Clipped % 16.0000 2.0000\n",
      "              a      r\n",
      "Below % 10.0000 0.0000\n",
      "             a      r\n",
      "Above % 6.0000 2.0000 \n",
      "\n",
      "--- HE ---\n",
      "                a      r\n",
      "Clipped % 24.0000 8.0000\n",
      "              a      r\n",
      "Below % 11.0000 0.0000\n",
      "              a      r\n",
      "Above % 13.0000 8.0000 \n",
      "\n",
      "--- ME ---\n",
      "                a      r    frac   time\n",
      "Clipped % 11.0000 0.0000 40.0000 1.0000\n",
      "              a      r    frac   time\n",
      "Below % 10.0000 0.0000 34.0000 0.0000\n",
      "             a      r   frac   time\n",
      "Above % 1.0000 0.0000 6.0000 1.0000 \n",
      "\n",
      "--- SAT ---\n",
      "           lambda 0\n",
      "Clipped %    3.0000\n",
      "         lambda 0\n",
      "Below %    0.0000\n",
      "         lambda 0\n",
      "Above %    3.0000 \n",
      "\n",
      "--- SR ---\n",
      "               a0      a1     r0      r1   time\n",
      "Clipped % 26.6667 66.6667 5.0000 40.0000 6.6667\n",
      "             a0      a1     r0      r1   time\n",
      "Below % 15.0000 30.0000 5.0000 40.0000 6.6667\n",
      "             a0      a1     r0     r1   time\n",
      "Above % 11.6667 36.6667 0.0000 0.0000 0.0000 \n",
      "\n",
      "--- WW ---\n",
      "               a0      a1      r0     r1   time\n",
      "Clipped % 41.0000 75.0000 46.0000 6.0000 2.0000\n",
      "             a0      a1      r0     r1   time\n",
      "Below % 35.0000 68.0000 15.0000 5.0000 0.0000\n",
      "            a0     a1      r0     r1   time\n",
      "Above % 6.0000 7.0000 31.0000 1.0000 2.0000 \n",
      "\n",
      "\n",
      "----------- Size is 87 -----------\n",
      "--- BD ---\n",
      "                a      r\n",
      "Clipped % 38.0000 7.0000\n",
      "              a      r\n",
      "Below % 20.0000 0.0000\n",
      "              a      r\n",
      "Above % 18.0000 7.0000 \n",
      "\n",
      "--- HE ---\n",
      "                a       r\n",
      "Clipped % 55.0000 10.0000\n",
      "              a      r\n",
      "Below % 25.0000 3.0000\n",
      "              a      r\n",
      "Above % 30.0000 7.0000 \n",
      "\n",
      "--- ME ---\n",
      "                a      r    frac    time\n",
      "Clipped % 31.0000 0.0000 54.0000 10.0000\n",
      "              a      r    frac   time\n",
      "Below % 22.0000 0.0000 51.0000 5.0000\n",
      "             a      r   frac   time\n",
      "Above % 9.0000 0.0000 3.0000 5.0000 \n",
      "\n",
      "--- SAT ---\n",
      "           lambda 0\n",
      "Clipped %    4.0000\n",
      "         lambda 0\n",
      "Below %    0.0000\n",
      "         lambda 0\n",
      "Above %    4.0000 \n",
      "\n",
      "--- SR ---\n",
      "               a0      a1      r0      r1    time\n",
      "Clipped % 70.0000 93.0000 32.0000 68.0000 28.0000\n",
      "             a0      a1      r0      r1    time\n",
      "Below % 15.0000 27.0000 32.0000 68.0000 27.0000\n",
      "             a0      a1     r0     r1   time\n",
      "Above % 55.0000 66.0000 0.0000 0.0000 1.0000 \n",
      "\n",
      "--- WW ---\n",
      "               a0      a1      r0      r1   time\n",
      "Clipped % 43.0000 79.0000 43.0000 23.0000 3.0000\n",
      "             a0      a1      r0      r1   time\n",
      "Below % 33.0000 53.0000 19.0000 20.0000 0.0000\n",
      "             a0      a1      r0     r1   time\n",
      "Above % 10.0000 26.0000 24.0000 3.0000 3.0000 \n",
      "\n"
     ]
    }
   ],
   "source": [
    "for tip in n_tips:\n",
    "    print(f\"\\n----------- Size is {tip} -----------\")\n",
    "    for div in div_scenarios:\n",
    "        print(f\"--- {div} ---\")\n",
    "        df_tot, df_below, df_above = get_clipping_results(inference_results, tip, div)\n",
    "        print(df_tot)\n",
    "        print(df_below)\n",
    "        print(df_above, \"\\n\")"
   ]
  },
  {
   "cell_type": "markdown",
   "id": "16e14aaf",
   "metadata": {},
   "source": [
    "### Errors boxplots "
   ]
  },
  {
   "cell_type": "code",
   "execution_count": null,
   "id": "eac5b5ba",
   "metadata": {
    "ExecuteTime": {
     "end_time": "2025-08-06T09:14:44.426231Z",
     "start_time": "2025-08-06T09:14:42.235Z"
    },
    "scrolled": true
   },
   "outputs": [],
   "source": [
    "for tip in n_tips:\n",
    "    print(f\"\\n----------- Size is {tip} -----------\")\n",
    "    for scenario in div_scenarios:\n",
    "        plot_errors_boxplot(inference_results, tip, scenario)       "
   ]
  },
  {
   "cell_type": "markdown",
   "id": "ab05014e",
   "metadata": {},
   "source": [
    "### Errors swarmplots "
   ]
  },
  {
   "cell_type": "code",
   "execution_count": null,
   "id": "b6aeca23",
   "metadata": {
    "ExecuteTime": {
     "end_time": "2025-08-06T09:14:44.426690Z",
     "start_time": "2025-08-06T09:14:42.236Z"
    }
   },
   "outputs": [],
   "source": [
    "for tip in n_tips:\n",
    "    print(f\"\\n----------- Size is {tip} -----------\")\n",
    "    for scenario in div_scenarios:\n",
    "        plot_errors(inference_results, tip, scenario)      "
   ]
  },
  {
   "cell_type": "markdown",
   "id": "0743b55b",
   "metadata": {},
   "source": [
    "### Absolute errors vs target"
   ]
  },
  {
   "cell_type": "code",
   "execution_count": null,
   "id": "c10c48cb",
   "metadata": {
    "ExecuteTime": {
     "end_time": "2025-08-06T09:14:44.427147Z",
     "start_time": "2025-08-06T09:14:42.237Z"
    },
    "scrolled": true
   },
   "outputs": [],
   "source": [
    "for tip in n_tips:\n",
    "    for scenario in div_scenarios:\n",
    "        predicted_minus_target_vs_target(inference_results, tip, scenario)    "
   ]
  },
  {
   "cell_type": "code",
   "execution_count": null,
   "id": "7d9f0938",
   "metadata": {},
   "outputs": [],
   "source": []
  }
 ],
 "metadata": {
  "kernelspec": {
   "display_name": "Python 3",
   "language": "python",
   "name": "python3"
  },
  "language_info": {
   "codemirror_mode": {
    "name": "ipython",
    "version": 3
   },
   "file_extension": ".py",
   "mimetype": "text/x-python",
   "name": "python",
   "nbconvert_exporter": "python",
   "pygments_lexer": "ipython3",
   "version": "3.8.10"
  },
  "toc": {
   "base_numbering": 1,
   "nav_menu": {},
   "number_sections": false,
   "sideBar": true,
   "skip_h1_title": false,
   "title_cell": "Table of Contents",
   "title_sidebar": "Contents",
   "toc_cell": false,
   "toc_position": {},
   "toc_section_display": true,
   "toc_window_display": false
  }
 },
 "nbformat": 4,
 "nbformat_minor": 5
}

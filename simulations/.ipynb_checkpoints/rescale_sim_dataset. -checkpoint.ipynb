{
 "cells": [
  {
   "cell_type": "code",
   "execution_count": null,
   "id": "e1fb51fb",
   "metadata": {},
   "outputs": [],
   "source": [
    "import pandas as pd\n",
    "import numpy as np\n",
    "from ete3 import Tree\n",
    "\n",
    "\n",
    "from tqdm.auto import tqdm"
   ]
  },
  {
   "cell_type": "code",
   "execution_count": null,
   "id": "9f1ce690",
   "metadata": {},
   "outputs": [],
   "source": [
    "pd.set_option('display.max_columns', None)"
   ]
  },
  {
   "cell_type": "code",
   "execution_count": null,
   "id": "0d30e6c1",
   "metadata": {},
   "outputs": [],
   "source": [
    "def get_average_branch_length(tre):\n",
    "    \"\"\"\n",
    "    Returns average branch length for given tree\n",
    "    :param tre: str, .nwk tree, the tree on which we measure the branch length\n",
    "    :return: float, average branch length\n",
    "    \"\"\"\n",
    "    tree = Tree(tre)\n",
    "    \n",
    "    br_length = [nod.dist for nod in tree.traverse()]\n",
    "    return np.average(br_length)"
   ]
  },
  {
   "cell_type": "code",
   "execution_count": null,
   "id": "d7287730",
   "metadata": {},
   "outputs": [],
   "source": [
    "files = [\n",
    "         #\"/workspace/coniferas/simulations/simulations_no_fossil/489/BD_sim_no_fossil1e+05.csv\",\n",
    "         #\"/workspace/coniferas/simulations/simulations_no_fossil/489/HE_sim_no_fossil1e+05.csv\",\n",
    "         #\"/workspace/coniferas/simulations/simulations_no_fossil/489/ME_rho_PGP_sim_no_fossil1e+05.csv\",\n",
    "         #\"/workspace/coniferas/simulations/simulations_no_fossil/489/ME_PGP_sim_no_fossil1e+05.csv\",\n",
    "         #\"/workspace/coniferas/simulations/simulations_no_fossil/489/SR_sim_no_fossil1e+05.csv\",\n",
    "         #\"/workspace/coniferas/simulations/simulations_no_fossil/489/SAT_sim_no_fossil1e+05.csv\"\n",
    "          \n",
    "]"
   ]
  },
  {
   "cell_type": "code",
   "execution_count": null,
   "id": "01fee533",
   "metadata": {},
   "outputs": [],
   "source": [
    "pbar = tqdm(files)\n",
    "\n",
    "for file in pbar:\n",
    "    pbar.set_description(file, refresh=True)\n",
    "    # Read .csv\n",
    "    df = pd.read_csv(file, sep = \"|\")\n",
    "    \n",
    "    # Calculate new rescale factor column\n",
    "    df['resc_factor'] = df['tree'].apply(get_average_branch_length)\n",
    "    \n",
    "    # Add lambda and mu columns\n",
    "    df[\"mu0\"]= (df[\"a0\"]*df[\"r0\"]) / (1-df[\"a0\"])\n",
    "    df[\"mu1\"]= (df[\"a1\"]*df[\"r1\"]) / (1-df[\"a1\"])\n",
    "    df[\"lambda0\"]= df[\"r0\"]+df[\"mu0\"]\n",
    "    df[\"lambda1\"]= df[\"r1\"]+df[\"mu1\"]\n",
    "    \n",
    "    # Add rescaled columns\n",
    "    df[\"norm_r0\"]= df[\"r0\"] * df[\"resc_factor\"]\n",
    "    df[\"norm_r1\"]= df[\"r1\"] * df[\"resc_factor\"]\n",
    "    df[\"norm_a0\"]= df[\"a0\"] * df[\"resc_factor\"]\n",
    "    df[\"norm_a1\"]= df[\"a1\"] * df[\"resc_factor\"]\n",
    "    df[\"norm_time\"]= df[\"time\"] * df[\"resc_factor\"]\n",
    "    df[\"norm_frac0\"]= df[\"frac0\"] * df[\"resc_factor\"]\n",
    "    df[\"norm_frac1\"]= df[\"frac1\"] * df[\"resc_factor\"]\n",
    "    df[\"norm_mu0\"]= df[\"mu0\"] * df[\"resc_factor\"]\n",
    "    df[\"norm_mu1\"]= df[\"mu1\"] * df[\"resc_factor\"]\n",
    "    df[\"norm_lambda0\"]= df[\"lambda0\"] * df[\"resc_factor\"]\n",
    "    df[\"norm_lambda1\"]= df[\"lambda1\"] * df[\"resc_factor\"]\n",
    "    \n",
    "    # Save new csv\n",
    "    df.to_csv(file[:-4] + \"_rescale.csv\", sep='|', header=True, index=False)"
   ]
  },
  {
   "cell_type": "code",
   "execution_count": null,
   "id": "ce633e90",
   "metadata": {},
   "outputs": [],
   "source": []
  },
  {
   "cell_type": "code",
   "execution_count": null,
   "id": "0d8bd88e",
   "metadata": {},
   "outputs": [],
   "source": []
  },
  {
   "cell_type": "code",
   "execution_count": null,
   "id": "a89bae04",
   "metadata": {},
   "outputs": [],
   "source": []
  },
  {
   "cell_type": "code",
   "execution_count": null,
   "id": "817e88dc",
   "metadata": {},
   "outputs": [],
   "source": []
  }
 ],
 "metadata": {
  "kernelspec": {
   "display_name": "Python 3",
   "language": "python",
   "name": "python3"
  },
  "language_info": {
   "codemirror_mode": {
    "name": "ipython",
    "version": 3
   },
   "file_extension": ".py",
   "mimetype": "text/x-python",
   "name": "python",
   "nbconvert_exporter": "python",
   "pygments_lexer": "ipython3",
   "version": "3.8.10"
  },
  "toc": {
   "base_numbering": 1,
   "nav_menu": {},
   "number_sections": false,
   "sideBar": true,
   "skip_h1_title": false,
   "title_cell": "Table of Contents",
   "title_sidebar": "Contents",
   "toc_cell": false,
   "toc_position": {},
   "toc_section_display": true,
   "toc_window_display": false
  }
 },
 "nbformat": 4,
 "nbformat_minor": 5
}

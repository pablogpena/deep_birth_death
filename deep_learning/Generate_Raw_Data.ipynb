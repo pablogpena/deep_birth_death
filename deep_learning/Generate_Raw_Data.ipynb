{
 "cells": [
  {
   "cell_type": "markdown",
   "metadata": {},
   "source": [
    "# Imports"
   ]
  },
  {
   "cell_type": "code",
   "execution_count": 2,
   "metadata": {
    "ExecuteTime": {
     "end_time": "2025-07-15T11:17:51.261162Z",
     "start_time": "2025-07-15T11:17:51.209382Z"
    }
   },
   "outputs": [],
   "source": [
    "%reload_ext autoreload\n",
    "%autoreload 2"
   ]
  },
  {
   "cell_type": "code",
   "execution_count": 4,
   "metadata": {
    "ExecuteTime": {
     "end_time": "2025-07-15T11:18:05.110938Z",
     "start_time": "2025-07-15T11:18:05.064630Z"
    }
   },
   "outputs": [],
   "source": [
    "import sys\n",
    "sys.path.append('/workspace/deep_birth_death/src')"
   ]
  },
  {
   "cell_type": "code",
   "execution_count": 5,
   "metadata": {
    "ExecuteTime": {
     "end_time": "2025-07-15T11:18:05.425164Z",
     "start_time": "2025-07-15T11:18:05.374259Z"
    }
   },
   "outputs": [],
   "source": [
    "import pandas as pd\n",
    "from ete3 import Tree\n",
    "import matplotlib.pyplot as plt\n",
    "\n",
    "import pickle, os\n",
    "\n",
    "from dataset_code.load_dataset_vec import *"
   ]
  },
  {
   "cell_type": "code",
   "execution_count": 6,
   "metadata": {
    "ExecuteTime": {
     "end_time": "2025-07-15T11:18:09.950526Z",
     "start_time": "2025-07-15T11:18:09.914262Z"
    }
   },
   "outputs": [],
   "source": [
    "def show_dataset_features(dataset):\n",
    "    print(\"Vectorized trees shape: \", np.shape(dataset.X_vec))\n",
    "\n",
    "    print(\"-\"*20)\n",
    "    print(\"Labels: \", dataset.label_names)\n",
    "    print(\"Labels of the trees shape: \", np.shape(dataset.label))\n",
    "\n",
    "    print(\"-\"*20)\n",
    "    print(\"-\"*20)\n",
    "    print(\"time shape: \", np.shape(dataset.time))\n",
    "    print(\"frac0 shape: \", np.shape(dataset.frac0))\n",
    "    print(\"frac1 shape: \", np.shape(dataset.frac1))\n",
    "    print(\"r0 shape: \", np.shape(dataset.r0))\n",
    "    print(\"r1 shape: \", np.shape(dataset.r1))\n",
    "    print(\"a0 shape: \", np.shape(dataset.a0))\n",
    "    print(\"a1 shape: \", np.shape(dataset.a1))\n",
    "    \n",
    "    print(\"-\"*20)\n",
    "    print(\"resc_factor shape: \", np.shape(dataset.resc_factor))\n",
    "    print(\"mu0 shape: \", np.shape(dataset.mu0))\n",
    "    print(\"mu1 shape: \", np.shape(dataset.mu1))\n",
    "    print(\"lambda0 shape: \", np.shape(dataset.lambda0))\n",
    "    print(\"lambda1 shape: \", np.shape(dataset.lambda1))\n",
    "\n",
    "    print(\"-\"*20)\n",
    "    print(\"-\"*20)\n",
    "    print(\"norm_time shape: \", np.shape(dataset.norm_time))\n",
    "    print(\"norm_frac0 shape: \", np.shape(dataset.norm_frac0))\n",
    "    print(\"norm_frac1 shape: \", np.shape(dataset.norm_frac1))\n",
    "    print(\"norm_r0 shape: \", np.shape(dataset.norm_r0))\n",
    "    print(\"norm_r1 shape: \", np.shape(dataset.norm_r1))\n",
    "    print(\"norm_a0 shape: \", np.shape(dataset.norm_a0))\n",
    "    print(\"norm_a1 shape: \", np.shape(dataset.norm_a1))\n",
    "    print(\"norm_mu0 shape: \", np.shape(dataset.norm_mu0))\n",
    "    print(\"norm_mu10 shape: \", np.shape(dataset.norm_mu1))\n",
    "    print(\"norm_lambda0 shape: \", np.shape(dataset.norm_lambda0))\n",
    "    print(\"norm_lambda1 shape: \", np.shape(dataset.norm_lambda1))"
   ]
  },
  {
   "cell_type": "markdown",
   "metadata": {},
   "source": [
    "# Load and generate pickle file containing data information"
   ]
  },
  {
   "cell_type": "code",
   "execution_count": 8,
   "metadata": {
    "ExecuteTime": {
     "end_time": "2025-07-15T11:22:04.257058Z",
     "start_time": "2025-07-15T11:22:04.227758Z"
    },
    "scrolled": true
   },
   "outputs": [],
   "source": [
    "files = [ \n",
    "        [\"/workspace/deep_birth_death/simulations/testing_k_sims/674_10k/BD_sim_no_fossil10000_rescale.csv\",\n",
    "        \"/workspace/deep_birth_death/simulations/testing_k_sims/674_10k/HE_sim_no_fossil10000_rescale.csv\",\n",
    "        \"/workspace/deep_birth_death/simulations/testing_k_sims/674_10k/ME_rho_PGP_sim_no_fossil10000_rescale.csv\",\n",
    "        \"/workspace/deep_birth_death/simulations/testing_k_sims/674_10k/SAT_sim_no_fossil10000_rescale.csv\",\n",
    "        \"/workspace/deep_birth_death/simulations/testing_k_sims/674_10k/SR_sim_no_fossil10000_rescale.csv\",\n",
    "        \"/workspace/deep_birth_death/simulations/testing_k_sims/674_10k/WW_sim_no_fossil10000_rescale.csv\",],\n",
    "        \n",
    "    \n",
    "        [\"/workspace/deep_birth_death/simulations/testing_k_sims/489_10k/BD_sim_no_fossil10000_rescale.csv\",\n",
    "        \"/workspace/deep_birth_death/simulations/testing_k_sims/489_10k/HE_sim_no_fossil10000_rescale.csv\",\n",
    "        \"/workspace/deep_birth_death/simulations/testing_k_sims/489_10k/ME_rho_PGP_sim_no_fossil10000_rescale.csv\",\n",
    "        \"/workspace/deep_birth_death/simulations/testing_k_sims/489_10k/SAT_sim_no_fossil10000_rescale.csv\",\n",
    "        \"/workspace/deep_birth_death/simulations/testing_k_sims/489_10k/SR_sim_no_fossil10000_rescale.csv\",\n",
    "        \"/workspace/deep_birth_death/simulations/testing_k_sims/489_10k/WW_sim_no_fossil10000_rescale.csv\",],\n",
    "    \n",
    "    \n",
    "        [\"/workspace/deep_birth_death/simulations/testing_k_sims/87_10k/BD_sim_no_fossil10000_rescale.csv\",\n",
    "        \"/workspace/deep_birth_death/simulations/testing_k_sims/87_10k/HE_sim_no_fossil10000_rescale.csv\",\n",
    "        \"/workspace/deep_birth_death/simulations/testing_k_sims/87_10k/ME_rho_PGP_sim_no_fossil10000_rescale.csv\",\n",
    "        \"/workspace/deep_birth_death/simulations/testing_k_sims/87_10k/SAT_sim_no_fossil10000_rescale.csv\",\n",
    "        \"/workspace/deep_birth_death/simulations/testing_k_sims/87_10k/SR_sim_no_fossil10000_rescale.csv\",\n",
    "        \"/workspace/deep_birth_death/simulations/testing_k_sims/87_10k/WW_sim_no_fossil10000_rescale.csv\",],\n",
    "            \n",
    "         ]"
   ]
  },
  {
   "cell_type": "code",
   "execution_count": 9,
   "metadata": {
    "ExecuteTime": {
     "end_time": "2025-07-15T11:33:51.669879Z",
     "start_time": "2025-07-15T11:22:04.705118Z"
    },
    "scrolled": true
   },
   "outputs": [
    {
     "name": "stdout",
     "output_type": "stream",
     "text": [
      "Loading trees from:  /workspace/deep_birth_death/simulations/testing_k_sims/674_10k/BD_sim_no_fossil10000_rescale.csv\n",
      "Encoding Vec trees\n"
     ]
    },
    {
     "name": "stderr",
     "output_type": "stream",
     "text": [
      "100%|██████████| 10000/10000 [00:31<00:00, 312.89it/s]\n",
      "/workspace/deep_birth_death/src/dataset_code/utilities_vec.py:64: VisibleDeprecationWarning: Creating an ndarray from ragged nested sequences (which is a list-or-tuple of lists-or-tuples-or ndarrays with different lengths or shapes) is deprecated. If you meant to do this, you must specify 'dtype=object' when creating the ndarray\n",
      "  trees_vec_res = np.array(trees_vec_res)\n"
     ]
    },
    {
     "name": "stdout",
     "output_type": "stream",
     "text": [
      "10000  trees loaded\n",
      "Loading trees from:  /workspace/deep_birth_death/simulations/testing_k_sims/674_10k/HE_sim_no_fossil10000_rescale.csv\n",
      "Encoding Vec trees\n"
     ]
    },
    {
     "name": "stderr",
     "output_type": "stream",
     "text": [
      "100%|██████████| 10000/10000 [00:31<00:00, 320.25it/s]\n"
     ]
    },
    {
     "name": "stdout",
     "output_type": "stream",
     "text": [
      "10000  trees loaded\n",
      "Loading trees from:  /workspace/deep_birth_death/simulations/testing_k_sims/674_10k/ME_rho_PGP_sim_no_fossil10000_rescale.csv\n",
      "Encoding Vec trees\n"
     ]
    },
    {
     "name": "stderr",
     "output_type": "stream",
     "text": [
      "100%|██████████| 10000/10000 [00:34<00:00, 288.36it/s]\n"
     ]
    },
    {
     "name": "stdout",
     "output_type": "stream",
     "text": [
      "10000  trees loaded\n",
      "Loading trees from:  /workspace/deep_birth_death/simulations/testing_k_sims/674_10k/SAT_sim_no_fossil10000_rescale.csv\n",
      "Encoding Vec trees\n"
     ]
    },
    {
     "name": "stderr",
     "output_type": "stream",
     "text": [
      "100%|██████████| 30000/30000 [01:05<00:00, 460.74it/s]\n"
     ]
    },
    {
     "name": "stdout",
     "output_type": "stream",
     "text": [
      "30000  trees loaded\n",
      "Loading trees from:  /workspace/deep_birth_death/simulations/testing_k_sims/674_10k/SR_sim_no_fossil10000_rescale.csv\n",
      "Encoding Vec trees\n"
     ]
    },
    {
     "name": "stderr",
     "output_type": "stream",
     "text": [
      "100%|██████████| 10000/10000 [00:35<00:00, 281.26it/s]\n"
     ]
    },
    {
     "name": "stdout",
     "output_type": "stream",
     "text": [
      "10000  trees loaded\n",
      "Loading trees from:  /workspace/deep_birth_death/simulations/testing_k_sims/674_10k/WW_sim_no_fossil10000_rescale.csv\n",
      "Encoding Vec trees\n"
     ]
    },
    {
     "name": "stderr",
     "output_type": "stream",
     "text": [
      "100%|██████████| 10000/10000 [00:36<00:00, 276.73it/s]\n"
     ]
    },
    {
     "name": "stdout",
     "output_type": "stream",
     "text": [
      "10000  trees loaded\n",
      "Vectorized trees shape:  (80000, 674)\n",
      "--------------------\n",
      "Labels:  ['/workspace/deep_birth_death/simulations/testing_k_sims/674_10k/BD_sim_no_fossil10000_rescale.csv', '/workspace/deep_birth_death/simulations/testing_k_sims/674_10k/HE_sim_no_fossil10000_rescale.csv', '/workspace/deep_birth_death/simulations/testing_k_sims/674_10k/ME_rho_PGP_sim_no_fossil10000_rescale.csv', '/workspace/deep_birth_death/simulations/testing_k_sims/674_10k/SAT_sim_no_fossil10000_rescale.csv', '/workspace/deep_birth_death/simulations/testing_k_sims/674_10k/SR_sim_no_fossil10000_rescale.csv', '/workspace/deep_birth_death/simulations/testing_k_sims/674_10k/WW_sim_no_fossil10000_rescale.csv']\n",
      "Labels of the trees shape:  (80000,)\n",
      "--------------------\n",
      "--------------------\n",
      "time shape:  (80000,)\n",
      "frac0 shape:  (80000,)\n",
      "frac1 shape:  (80000,)\n",
      "r0 shape:  (80000,)\n",
      "r1 shape:  (80000,)\n",
      "a0 shape:  (80000,)\n",
      "a1 shape:  (80000,)\n",
      "--------------------\n",
      "resc_factor shape:  (80000,)\n",
      "mu0 shape:  (80000,)\n",
      "mu1 shape:  (80000,)\n",
      "lambda0 shape:  (80000,)\n",
      "lambda1 shape:  (80000,)\n",
      "--------------------\n",
      "--------------------\n",
      "norm_time shape:  (80000,)\n",
      "norm_frac0 shape:  (80000,)\n",
      "norm_frac1 shape:  (80000,)\n",
      "norm_r0 shape:  (80000,)\n",
      "norm_r1 shape:  (80000,)\n",
      "norm_a0 shape:  (80000,)\n",
      "norm_a1 shape:  (80000,)\n",
      "norm_mu0 shape:  (80000,)\n",
      "norm_mu10 shape:  (80000,)\n",
      "norm_lambda0 shape:  (80000,)\n",
      "norm_lambda1 shape:  (80000,)\n",
      "Loading trees from:  /workspace/deep_birth_death/simulations/testing_k_sims/489_10k/BD_sim_no_fossil10000_rescale.csv\n",
      "Encoding Vec trees\n"
     ]
    },
    {
     "name": "stderr",
     "output_type": "stream",
     "text": [
      "100%|██████████| 10000/10000 [00:31<00:00, 316.01it/s]\n"
     ]
    },
    {
     "name": "stdout",
     "output_type": "stream",
     "text": [
      "10000  trees loaded\n",
      "Loading trees from:  /workspace/deep_birth_death/simulations/testing_k_sims/489_10k/HE_sim_no_fossil10000_rescale.csv\n",
      "Encoding Vec trees\n"
     ]
    },
    {
     "name": "stderr",
     "output_type": "stream",
     "text": [
      "100%|██████████| 10000/10000 [00:31<00:00, 313.34it/s]\n"
     ]
    },
    {
     "name": "stdout",
     "output_type": "stream",
     "text": [
      "10000  trees loaded\n",
      "Loading trees from:  /workspace/deep_birth_death/simulations/testing_k_sims/489_10k/ME_rho_PGP_sim_no_fossil10000_rescale.csv\n",
      "Encoding Vec trees\n"
     ]
    },
    {
     "name": "stderr",
     "output_type": "stream",
     "text": [
      "100%|██████████| 10000/10000 [00:35<00:00, 284.54it/s]\n"
     ]
    },
    {
     "name": "stdout",
     "output_type": "stream",
     "text": [
      "10000  trees loaded\n",
      "Loading trees from:  /workspace/deep_birth_death/simulations/testing_k_sims/489_10k/SAT_sim_no_fossil10000_rescale.csv\n",
      "Encoding Vec trees\n"
     ]
    },
    {
     "name": "stderr",
     "output_type": "stream",
     "text": [
      "100%|██████████| 20000/20000 [00:32<00:00, 609.20it/s]\n"
     ]
    },
    {
     "name": "stdout",
     "output_type": "stream",
     "text": [
      "20000  trees loaded\n",
      "Loading trees from:  /workspace/deep_birth_death/simulations/testing_k_sims/489_10k/SR_sim_no_fossil10000_rescale.csv\n",
      "Encoding Vec trees\n"
     ]
    },
    {
     "name": "stderr",
     "output_type": "stream",
     "text": [
      "100%|██████████| 10000/10000 [00:31<00:00, 315.73it/s]\n"
     ]
    },
    {
     "name": "stdout",
     "output_type": "stream",
     "text": [
      "10000  trees loaded\n",
      "Loading trees from:  /workspace/deep_birth_death/simulations/testing_k_sims/489_10k/WW_sim_no_fossil10000_rescale.csv\n",
      "Encoding Vec trees\n"
     ]
    },
    {
     "name": "stderr",
     "output_type": "stream",
     "text": [
      "100%|██████████| 10000/10000 [00:32<00:00, 304.46it/s]\n"
     ]
    },
    {
     "name": "stdout",
     "output_type": "stream",
     "text": [
      "10000  trees loaded\n",
      "Vectorized trees shape:  (70000, 489)\n",
      "--------------------\n",
      "Labels:  ['/workspace/deep_birth_death/simulations/testing_k_sims/489_10k/BD_sim_no_fossil10000_rescale.csv', '/workspace/deep_birth_death/simulations/testing_k_sims/489_10k/HE_sim_no_fossil10000_rescale.csv', '/workspace/deep_birth_death/simulations/testing_k_sims/489_10k/ME_rho_PGP_sim_no_fossil10000_rescale.csv', '/workspace/deep_birth_death/simulations/testing_k_sims/489_10k/SAT_sim_no_fossil10000_rescale.csv', '/workspace/deep_birth_death/simulations/testing_k_sims/489_10k/SR_sim_no_fossil10000_rescale.csv', '/workspace/deep_birth_death/simulations/testing_k_sims/489_10k/WW_sim_no_fossil10000_rescale.csv']\n",
      "Labels of the trees shape:  (70000,)\n",
      "--------------------\n",
      "--------------------\n",
      "time shape:  (70000,)\n",
      "frac0 shape:  (70000,)\n",
      "frac1 shape:  (70000,)\n",
      "r0 shape:  (70000,)\n",
      "r1 shape:  (70000,)\n",
      "a0 shape:  (70000,)\n",
      "a1 shape:  (70000,)\n",
      "--------------------\n",
      "resc_factor shape:  (70000,)\n",
      "mu0 shape:  (70000,)\n",
      "mu1 shape:  (70000,)\n",
      "lambda0 shape:  (70000,)\n",
      "lambda1 shape:  (70000,)\n",
      "--------------------\n",
      "--------------------\n",
      "norm_time shape:  (70000,)\n",
      "norm_frac0 shape:  (70000,)\n",
      "norm_frac1 shape:  (70000,)\n",
      "norm_r0 shape:  (70000,)\n",
      "norm_r1 shape:  (70000,)\n",
      "norm_a0 shape:  (70000,)\n",
      "norm_a1 shape:  (70000,)\n",
      "norm_mu0 shape:  (70000,)\n",
      "norm_mu10 shape:  (70000,)\n",
      "norm_lambda0 shape:  (70000,)\n",
      "norm_lambda1 shape:  (70000,)\n",
      "Loading trees from:  /workspace/deep_birth_death/simulations/testing_k_sims/87_10k/BD_sim_no_fossil10000_rescale.csv\n",
      "Encoding Vec trees\n"
     ]
    },
    {
     "name": "stderr",
     "output_type": "stream",
     "text": [
      "100%|██████████| 10000/10000 [00:08<00:00, 1159.00it/s]\n"
     ]
    },
    {
     "name": "stdout",
     "output_type": "stream",
     "text": [
      "10000  trees loaded\n",
      "Loading trees from:  /workspace/deep_birth_death/simulations/testing_k_sims/87_10k/HE_sim_no_fossil10000_rescale.csv\n",
      "Encoding Vec trees\n"
     ]
    },
    {
     "name": "stderr",
     "output_type": "stream",
     "text": [
      "100%|██████████| 10000/10000 [00:06<00:00, 1462.13it/s]\n"
     ]
    },
    {
     "name": "stdout",
     "output_type": "stream",
     "text": [
      "10000  trees loaded\n",
      "Loading trees from:  /workspace/deep_birth_death/simulations/testing_k_sims/87_10k/ME_rho_PGP_sim_no_fossil10000_rescale.csv\n",
      "Encoding Vec trees\n"
     ]
    },
    {
     "name": "stderr",
     "output_type": "stream",
     "text": [
      "100%|██████████| 10000/10000 [00:06<00:00, 1461.22it/s]\n"
     ]
    },
    {
     "name": "stdout",
     "output_type": "stream",
     "text": [
      "10000  trees loaded\n",
      "Loading trees from:  /workspace/deep_birth_death/simulations/testing_k_sims/87_10k/SAT_sim_no_fossil10000_rescale.csv\n",
      "Encoding Vec trees\n"
     ]
    },
    {
     "name": "stderr",
     "output_type": "stream",
     "text": [
      "100%|██████████| 10000/10000 [00:06<00:00, 1467.46it/s]\n"
     ]
    },
    {
     "name": "stdout",
     "output_type": "stream",
     "text": [
      "10000  trees loaded\n",
      "Loading trees from:  /workspace/deep_birth_death/simulations/testing_k_sims/87_10k/SR_sim_no_fossil10000_rescale.csv\n",
      "Encoding Vec trees\n"
     ]
    },
    {
     "name": "stderr",
     "output_type": "stream",
     "text": [
      "100%|██████████| 10000/10000 [00:06<00:00, 1444.56it/s]\n"
     ]
    },
    {
     "name": "stdout",
     "output_type": "stream",
     "text": [
      "10000  trees loaded\n",
      "Loading trees from:  /workspace/deep_birth_death/simulations/testing_k_sims/87_10k/WW_sim_no_fossil10000_rescale.csv\n",
      "Encoding Vec trees\n"
     ]
    },
    {
     "name": "stderr",
     "output_type": "stream",
     "text": [
      "100%|██████████| 10000/10000 [00:06<00:00, 1459.64it/s]\n"
     ]
    },
    {
     "name": "stdout",
     "output_type": "stream",
     "text": [
      "10000  trees loaded\n",
      "Vectorized trees shape:  (60000, 87)\n",
      "--------------------\n",
      "Labels:  ['/workspace/deep_birth_death/simulations/testing_k_sims/87_10k/BD_sim_no_fossil10000_rescale.csv', '/workspace/deep_birth_death/simulations/testing_k_sims/87_10k/HE_sim_no_fossil10000_rescale.csv', '/workspace/deep_birth_death/simulations/testing_k_sims/87_10k/ME_rho_PGP_sim_no_fossil10000_rescale.csv', '/workspace/deep_birth_death/simulations/testing_k_sims/87_10k/SAT_sim_no_fossil10000_rescale.csv', '/workspace/deep_birth_death/simulations/testing_k_sims/87_10k/SR_sim_no_fossil10000_rescale.csv', '/workspace/deep_birth_death/simulations/testing_k_sims/87_10k/WW_sim_no_fossil10000_rescale.csv']\n",
      "Labels of the trees shape:  (60000,)\n",
      "--------------------\n",
      "--------------------\n",
      "time shape:  (60000,)\n",
      "frac0 shape:  (60000,)\n",
      "frac1 shape:  (60000,)\n",
      "r0 shape:  (60000,)\n",
      "r1 shape:  (60000,)\n",
      "a0 shape:  (60000,)\n",
      "a1 shape:  (60000,)\n",
      "--------------------\n",
      "resc_factor shape:  (60000,)\n",
      "mu0 shape:  (60000,)\n",
      "mu1 shape:  (60000,)\n",
      "lambda0 shape:  (60000,)\n",
      "lambda1 shape:  (60000,)\n",
      "--------------------\n",
      "--------------------\n",
      "norm_time shape:  (60000,)\n",
      "norm_frac0 shape:  (60000,)\n",
      "norm_frac1 shape:  (60000,)\n",
      "norm_r0 shape:  (60000,)\n",
      "norm_r1 shape:  (60000,)\n",
      "norm_a0 shape:  (60000,)\n",
      "norm_a1 shape:  (60000,)\n",
      "norm_mu0 shape:  (60000,)\n",
      "norm_mu10 shape:  (60000,)\n",
      "norm_lambda0 shape:  (60000,)\n",
      "norm_lambda1 shape:  (60000,)\n"
     ]
    }
   ],
   "source": [
    "for file_set in files:\n",
    "    raw_dataset = load_dataset_vec(file_set)\n",
    "    show_dataset_features(raw_dataset)\n",
    "    \n",
    "    os.makedirs(\"/workspace/deep_birth_death/deep_learning/pickles/testing_k/\" +\n",
    "                os.path.dirname(file_set[0]).split('/')[-2] + '/', exist_ok=True)\n",
    "\n",
    "    with open(\"/workspace/deep_birth_death/deep_learning/pickles/testing_k/\" +\n",
    "              os.path.dirname(file_set[0]).split('/')[-2] + '/raw_' + \n",
    "              os.path.dirname(file_set[0]).split('/')[-1] +'.pkl', 'wb') as f:\n",
    "        pickle.dump(raw_dataset, f)"
   ]
  },
  {
   "cell_type": "code",
   "execution_count": null,
   "metadata": {},
   "outputs": [],
   "source": []
  }
 ],
 "metadata": {
  "kernelspec": {
   "display_name": "Python 3",
   "language": "python",
   "name": "python3"
  },
  "language_info": {
   "codemirror_mode": {
    "name": "ipython",
    "version": 3
   },
   "file_extension": ".py",
   "mimetype": "text/x-python",
   "name": "python",
   "nbconvert_exporter": "python",
   "pygments_lexer": "ipython3",
   "version": "3.8.10"
  },
  "toc": {
   "base_numbering": 1,
   "nav_menu": {},
   "number_sections": false,
   "sideBar": true,
   "skip_h1_title": false,
   "title_cell": "Table of Contents",
   "title_sidebar": "Contents",
   "toc_cell": false,
   "toc_position": {},
   "toc_section_display": true,
   "toc_window_display": false
  },
  "varInspector": {
   "cols": {
    "lenName": 16,
    "lenType": 16,
    "lenVar": 40
   },
   "kernels_config": {
    "python": {
     "delete_cmd_postfix": "",
     "delete_cmd_prefix": "del ",
     "library": "var_list.py",
     "varRefreshCmd": "print(var_dic_list())"
    },
    "r": {
     "delete_cmd_postfix": ") ",
     "delete_cmd_prefix": "rm(",
     "library": "var_list.r",
     "varRefreshCmd": "cat(var_dic_list()) "
    }
   },
   "types_to_exclude": [
    "module",
    "function",
    "builtin_function_or_method",
    "instance",
    "_Feature"
   ],
   "window_display": false
  }
 },
 "nbformat": 4,
 "nbformat_minor": 4
}

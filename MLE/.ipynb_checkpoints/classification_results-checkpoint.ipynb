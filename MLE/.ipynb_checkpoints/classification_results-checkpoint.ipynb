{
 "cells": [
  {
   "cell_type": "code",
   "execution_count": 33,
   "id": "8dd4fd7a",
   "metadata": {
    "ExecuteTime": {
     "end_time": "2025-07-14T11:39:52.031800Z",
     "start_time": "2025-07-14T11:39:51.901034Z"
    }
   },
   "outputs": [],
   "source": [
    "%reload_ext autoreload\n",
    "%autoreload 2"
   ]
  },
  {
   "cell_type": "code",
   "execution_count": 34,
   "id": "acdfa92b",
   "metadata": {
    "ExecuteTime": {
     "end_time": "2025-07-14T11:39:52.245804Z",
     "start_time": "2025-07-14T11:39:52.129401Z"
    }
   },
   "outputs": [],
   "source": [
    "import pandas as pd\n",
    "import numpy as np\n",
    "from sklearn.metrics import classification_report\n",
    "import sys\n",
    "\n",
    "sys.path.append('/workspace/phylo_estimation/data_inference')\n",
    "\n",
    "from evaluation.classification import get_MLE_classification_results, plot_conf_mat"
   ]
  },
  {
   "cell_type": "markdown",
   "id": "333c1396",
   "metadata": {},
   "source": [
    "### Data Loading and Preprocessing"
   ]
  },
  {
   "cell_type": "code",
   "execution_count": 39,
   "id": "8b3b368b",
   "metadata": {
    "ExecuteTime": {
     "end_time": "2025-07-14T11:48:17.536383Z",
     "start_time": "2025-07-14T11:48:17.166937Z"
    },
    "scrolled": true
   },
   "outputs": [
    {
     "name": "stdout",
     "output_type": "stream",
     "text": [
      "{'BD': 0, 'HE': 1, 'ME': 2, 'SAT': 3, 'SR': 4, 'WW': 5}\n"
     ]
    }
   ],
   "source": [
    "n_tips = [674, 489, 87]\n",
    "div_scenarios = [\"BD\", \"HE\", \"ME\", \"SAT\", \"SR\", \"WW\"]\n",
    "scenario_to_idx = {scen: i for i, scen in enumerate(div_scenarios)}\n",
    "\n",
    "print(scenario_to_idx)\n",
    "likelihood_model_names = [\"cbd\", \"ME\", \"shift\", \"SAT\"]\n",
    "\n",
    "model_selection_results = dict()\n",
    "\n",
    "for tip in n_tips:\n",
    "    model_selection_results[tip] = dict()\n",
    "    model_selection_results[tip][\"y_pred\"] = []\n",
    "    model_selection_results[tip][\"y_test\"] = []\n",
    "\n",
    "    \n",
    "    for div in div_scenarios:\n",
    "               \n",
    "        treepar_file_path = \"/workspace/phylo_estimation/MLE/inference_data/\" + str(tip) + \"/TreePar_inference_\" + str(tip) + \"_\" + div + \".csv\"\n",
    "        dd_file_path = file_path = \"/workspace/phylo_estimation/MLE/inference_data/\" + str(tip) + \"/DDD_inference_\" + str(tip) + \"_\" + div + \".csv\"\n",
    "        \n",
    "        df_tp = pd.read_csv(treepar_file_path)\n",
    "        df_dd = pd.read_csv(dd_file_path)\n",
    "        \n",
    "        df_merged = df_tp.merge(df_dd[['AIC']], left_index=True, right_index=True, how='inner', suffixes=('_tp', '_dd'))\n",
    "\n",
    "        for i, row in df_merged.iterrows():\n",
    "            aic_values = np.array([\n",
    "                row[\"aic_cbd\"],\n",
    "                row[\"aic_me\"],\n",
    "                row[\"aic_shift\"],\n",
    "                row[\"AIC\"] \n",
    "            ])\n",
    "            \n",
    "            real_scenario = str(div)\n",
    "            best_idx = np.argmin(aic_values)  \n",
    "            best_model = likelihood_model_names[best_idx]\n",
    "            \n",
    "            if best_model == \"cbd\":\n",
    "                estimated_a = row[\"estimated_a\"]\n",
    "                if estimated_a > 0.8:\n",
    "                    best_model = \"HE\"\n",
    "                else: \n",
    "                    best_model = \"BD\"\n",
    "            if best_model == \"shift\":\n",
    "                estimated_r0 = row[\"estimated_r0\"]\n",
    "                if estimated_r0 < 0:\n",
    "                    best_model = \"WW\"\n",
    "                else: \n",
    "                    best_model = \"SR\"\n",
    "            \n",
    "            model_selection_results[tip][\"y_pred\"].append(scenario_to_idx[best_model])\n",
    "            \n",
    "            model_selection_results[tip][\"y_test\"].append(scenario_to_idx[real_scenario])\n",
    "                    \n",
    "    \n",
    "    report = classification_report(model_selection_results[tip][\"y_test\"],  model_selection_results[tip][\"y_pred\"], output_dict=True)\n",
    "    \n",
    "    model_selection_results[tip]['accuracy'] = report['accuracy']\n",
    "    model_selection_results[tip]['f1-score'] = report['macro avg']['f1-score']\n",
    "    model_selection_results[tip]['recall'] = report['macro avg']['recall']\n",
    "    model_selection_results[tip]['precision'] = report['macro avg']['precision']\n",
    "\n",
    "        "
   ]
  },
  {
   "cell_type": "markdown",
   "id": "5b455af9",
   "metadata": {},
   "source": [
    "### Results generation"
   ]
  },
  {
   "cell_type": "code",
   "execution_count": 40,
   "id": "b0bc55b5",
   "metadata": {
    "ExecuteTime": {
     "end_time": "2025-07-14T11:48:22.911714Z",
     "start_time": "2025-07-14T11:48:22.775834Z"
    }
   },
   "outputs": [
    {
     "data": {
      "text/html": [
       "<div>\n",
       "<style scoped>\n",
       "    .dataframe tbody tr th:only-of-type {\n",
       "        vertical-align: middle;\n",
       "    }\n",
       "\n",
       "    .dataframe tbody tr th {\n",
       "        vertical-align: top;\n",
       "    }\n",
       "\n",
       "    .dataframe thead th {\n",
       "        text-align: right;\n",
       "    }\n",
       "</style>\n",
       "<table border=\"1\" class=\"dataframe\">\n",
       "  <thead>\n",
       "    <tr style=\"text-align: right;\">\n",
       "      <th></th>\n",
       "      <th>674</th>\n",
       "      <th>489</th>\n",
       "      <th>87</th>\n",
       "    </tr>\n",
       "  </thead>\n",
       "  <tbody>\n",
       "    <tr>\n",
       "      <th>accuracy</th>\n",
       "      <td>0.721667</td>\n",
       "      <td>0.731667</td>\n",
       "      <td>0.696667</td>\n",
       "    </tr>\n",
       "    <tr>\n",
       "      <th>F1-Score</th>\n",
       "      <td>0.727836</td>\n",
       "      <td>0.73564</td>\n",
       "      <td>0.705875</td>\n",
       "    </tr>\n",
       "    <tr>\n",
       "      <th>Recall</th>\n",
       "      <td>0.721667</td>\n",
       "      <td>0.731667</td>\n",
       "      <td>0.696667</td>\n",
       "    </tr>\n",
       "    <tr>\n",
       "      <th>Precision</th>\n",
       "      <td>0.813586</td>\n",
       "      <td>0.810223</td>\n",
       "      <td>0.739189</td>\n",
       "    </tr>\n",
       "  </tbody>\n",
       "</table>\n",
       "</div>"
      ],
      "text/plain": [
       "                674       489       87 \n",
       "accuracy   0.721667  0.731667  0.696667\n",
       "F1-Score   0.727836   0.73564  0.705875\n",
       "Recall     0.721667  0.731667  0.696667\n",
       "Precision  0.813586  0.810223  0.739189"
      ]
     },
     "execution_count": 40,
     "metadata": {},
     "output_type": "execute_result"
    }
   ],
   "source": [
    "get_MLE_classification_results(model_selection_results)"
   ]
  },
  {
   "cell_type": "code",
   "execution_count": 41,
   "id": "e39a6a87",
   "metadata": {
    "ExecuteTime": {
     "end_time": "2025-07-14T11:48:26.614203Z",
     "start_time": "2025-07-14T11:48:25.821110Z"
    },
    "scrolled": true
   },
   "outputs": [
    {
     "data": {
      "image/png": "[encoded data removed]",
      "text/plain": [
       "<Figure size 360x360 with 1 Axes>"
      ]
     },
     "metadata": {
      "needs_background": "light"
     },
     "output_type": "display_data"
    },
    {
     "name": "stdout",
     "output_type": "stream",
     "text": [
      "              precision    recall  f1-score   support\n",
      "\n",
      "           0     0.9286    0.5200    0.6667       100\n",
      "           1     1.0000    0.5500    0.7097       100\n",
      "           2     0.5704    0.8100    0.6694       100\n",
      "           3     0.9709    1.0000    0.9852       100\n",
      "           4     0.4751    0.8600    0.6121       100\n",
      "           5     0.9365    0.5900    0.7239       100\n",
      "\n",
      "    accuracy                         0.7217       600\n",
      "   macro avg     0.8136    0.7217    0.7278       600\n",
      "weighted avg     0.8136    0.7217    0.7278       600\n",
      "\n"
     ]
    },
    {
     "data": {
      "image/png": "[encoded data removed]",
      "text/plain": [
       "<Figure size 360x360 with 1 Axes>"
      ]
     },
     "metadata": {
      "needs_background": "light"
     },
     "output_type": "display_data"
    },
    {
     "name": "stdout",
     "output_type": "stream",
     "text": [
      "              precision    recall  f1-score   support\n",
      "\n",
      "           0     0.8548    0.5300    0.6543       100\n",
      "           1     1.0000    0.5000    0.6667       100\n",
      "           2     0.5526    0.8400    0.6667       100\n",
      "           3     0.9802    0.9900    0.9851       100\n",
      "           4     0.5153    0.8400    0.6388       100\n",
      "           5     0.9583    0.6900    0.8023       100\n",
      "\n",
      "    accuracy                         0.7317       600\n",
      "   macro avg     0.8102    0.7317    0.7356       600\n",
      "weighted avg     0.8102    0.7317    0.7356       600\n",
      "\n"
     ]
    },
    {
     "data": {
      "image/png": "[encoded data removed]",
      "text/plain": [
       "<Figure size 360x360 with 1 Axes>"
      ]
     },
     "metadata": {
      "needs_background": "light"
     },
     "output_type": "display_data"
    },
    {
     "name": "stdout",
     "output_type": "stream",
     "text": [
      "              precision    recall  f1-score   support\n",
      "\n",
      "           0     0.7474    0.7100    0.7282       100\n",
      "           1     0.9322    0.5500    0.6918       100\n",
      "           2     0.4748    0.6600    0.5523       100\n",
      "           3     0.9901    1.0000    0.9950       100\n",
      "           4     0.4286    0.5100    0.4658       100\n",
      "           5     0.8621    0.7500    0.8021       100\n",
      "\n",
      "    accuracy                         0.6967       600\n",
      "   macro avg     0.7392    0.6967    0.7059       600\n",
      "weighted avg     0.7392    0.6967    0.7059       600\n",
      "\n"
     ]
    }
   ],
   "source": [
    "for tip in n_tips:\n",
    "    plot_conf_mat(model_selection_results[tip][\"y_pred\"], model_selection_results[tip][\"y_test\"], div_scenarios, str(tip))"
   ]
  },
  {
   "cell_type": "code",
   "execution_count": null,
   "id": "0ddf4120",
   "metadata": {},
   "outputs": [],
   "source": []
  }
 ],
 "metadata": {
  "kernelspec": {
   "display_name": "Python 3",
   "language": "python",
   "name": "python3"
  },
  "language_info": {
   "codemirror_mode": {
    "name": "ipython",
    "version": 3
   },
   "file_extension": ".py",
   "mimetype": "text/x-python",
   "name": "python",
   "nbconvert_exporter": "python",
   "pygments_lexer": "ipython3",
   "version": "3.8.10"
  },
  "toc": {
   "base_numbering": 1,
   "nav_menu": {},
   "number_sections": false,
   "sideBar": true,
   "skip_h1_title": false,
   "title_cell": "Table of Contents",
   "title_sidebar": "Contents",
   "toc_cell": false,
   "toc_position": {},
   "toc_section_display": true,
   "toc_window_display": false
  }
 },
 "nbformat": 4,
 "nbformat_minor": 5
}
